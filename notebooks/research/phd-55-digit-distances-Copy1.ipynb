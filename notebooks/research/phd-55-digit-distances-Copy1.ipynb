{
 "cells": [
  {
   "cell_type": "markdown",
   "id": "8135ebd0-1039-46ef-86ff-0118582815bc",
   "metadata": {},
   "source": [
    "# Check latent distances between MNIST digits"
   ]
  },
  {
   "cell_type": "markdown",
   "id": "c1885aa7-be5e-496b-a700-4805f779a46c",
   "metadata": {},
   "source": [
    "## 1. Load a good model"
   ]
  },
  {
   "cell_type": "code",
   "execution_count": 1,
   "id": "fde27b2d-7a46-4b00-8ca2-3a04f13ca013",
   "metadata": {},
   "outputs": [],
   "source": [
    "from xai.constants import MODEL_DIR\n",
    "from xai.models.simple_cnn import CNNClassifier"
   ]
  },
  {
   "cell_type": "code",
   "execution_count": 2,
   "id": "2c875c85-d2f2-43dd-9d0c-cfc4dc336072",
   "metadata": {},
   "outputs": [],
   "source": [
    "MODEL_FNAME = 'simple_cnn_50_epochs.pth'\n",
    "\n",
    "model = CNNClassifier()\n",
    "model.load(MODEL_DIR / MODEL_FNAME)"
   ]
  },
  {
   "cell_type": "markdown",
   "id": "0b62075d-8031-4849-b9f7-d4949f6b25a7",
   "metadata": {},
   "source": [
    "## 2. Load data\n",
    "Split by digit"
   ]
  },
  {
   "cell_type": "code",
   "execution_count": 3,
   "id": "6c85020c-d0a3-4759-8c54-5e6636f78589",
   "metadata": {},
   "outputs": [],
   "source": [
    "import matplotlib.pyplot as plt\n",
    "import numpy as np\n",
    "import pandas as pd\n",
    "\n",
    "from xai.data_handlers.mnist import load_mnist"
   ]
  },
  {
   "cell_type": "code",
   "execution_count": 4,
   "id": "11c9c941-11ad-42c3-b4d1-aa7a89c67464",
   "metadata": {},
   "outputs": [],
   "source": [
    "batch_size = 1024\n",
    "\n",
    "corpus_loader = load_mnist(subset_size=8192, train=True, batch_size=batch_size) # MNIST train loader\n",
    "test_loader = load_mnist(subset_size=1024, train=False, batch_size=batch_size) # MNIST test loader\n",
    "corpus_inputs, corpus_labels = next(iter(corpus_loader)) # A tensor of corpus inputs\n",
    "test_inputs, test_labels = next(iter(test_loader)) # A set of inputs to explain"
   ]
  },
  {
   "cell_type": "code",
   "execution_count": 5,
   "id": "9992e523-700c-4f64-b6a4-5dfece5d380a",
   "metadata": {},
   "outputs": [
    {
     "data": {
      "text/plain": [
       "torch.Size([1024, 1, 28, 28])"
      ]
     },
     "execution_count": 5,
     "metadata": {},
     "output_type": "execute_result"
    }
   ],
   "source": [
    "test_inputs.shape"
   ]
  },
  {
   "cell_type": "code",
   "execution_count": 6,
   "id": "d94c9454-268c-4d54-b917-a26f514cb003",
   "metadata": {},
   "outputs": [
    {
     "data": {
      "text/plain": [
       "0    107\n",
       "1    106\n",
       "2    117\n",
       "3     90\n",
       "4     88\n",
       "5    103\n",
       "6     88\n",
       "7    114\n",
       "8     95\n",
       "9    116\n",
       "Name: count, dtype: int64"
      ]
     },
     "execution_count": 6,
     "metadata": {},
     "output_type": "execute_result"
    }
   ],
   "source": [
    "pd.DataFrame(test_labels).value_counts().sort_index()"
   ]
  },
  {
   "cell_type": "markdown",
   "id": "7331420d-555c-4b44-8adb-0eb1f4e755dd",
   "metadata": {},
   "source": [
    "Similar numbers of each"
   ]
  },
  {
   "cell_type": "code",
   "execution_count": 7,
   "id": "7c0208d2-7a81-4562-8a73-9b753bf6740e",
   "metadata": {},
   "outputs": [
    {
     "data": {
      "text/plain": [
       "[0, 1, 2, 3, 4, 5, 6, 7, 8, 9]"
      ]
     },
     "execution_count": 7,
     "metadata": {},
     "output_type": "execute_result"
    }
   ],
   "source": [
    "digit_range = list(range(10))\n",
    "digit_range"
   ]
  },
  {
   "cell_type": "code",
   "execution_count": 8,
   "id": "d3239f31-3195-4278-9dbd-cb8add3fbf9c",
   "metadata": {},
   "outputs": [
    {
     "data": {
      "text/plain": [
       "{0: tensor([False, False, False,  ...,  True, False, False]),\n",
       " 1: tensor([False, False, False,  ..., False,  True, False]),\n",
       " 2: tensor([False,  True, False,  ..., False, False, False]),\n",
       " 3: tensor([False, False,  True,  ..., False, False, False]),\n",
       " 4: tensor([False, False, False,  ..., False, False, False]),\n",
       " 5: tensor([False, False, False,  ..., False, False, False]),\n",
       " 6: tensor([False, False, False,  ..., False, False, False]),\n",
       " 7: tensor([False, False, False,  ..., False, False, False]),\n",
       " 8: tensor([ True, False, False,  ..., False, False,  True]),\n",
       " 9: tensor([False, False, False,  ..., False, False, False])}"
      ]
     },
     "execution_count": 8,
     "metadata": {},
     "output_type": "execute_result"
    }
   ],
   "source": [
    "# Keys are digits 0 to 9, values are boolean masks where the label is that digit\n",
    "training_mask_by_digit = {digit: corpus_labels == digit for digit in digit_range}\n",
    "test_mask_by_digit = {digit: test_labels == digit for digit in digit_range}\n",
    "training_mask_by_digit"
   ]
  },
  {
   "cell_type": "code",
   "execution_count": 9,
   "id": "309014dd-9b1c-4cfc-ba04-fb42ebb1878d",
   "metadata": {},
   "outputs": [
    {
     "data": {
      "text/plain": [
       "<matplotlib.image.AxesImage at 0x7f70debb5e50>"
      ]
     },
     "execution_count": 9,
     "metadata": {},
     "output_type": "execute_result"
    },
    {
     "data": {
      "image/png": "[encoded data removed]",
      "text/plain": [
       "<Figure size 640x480 with 1 Axes>"
      ]
     },
     "metadata": {},
     "output_type": "display_data"
    }
   ],
   "source": [
    "plt.imshow(corpus_inputs[0][0])"
   ]
  },
  {
   "cell_type": "code",
   "execution_count": 10,
   "id": "ab3ee726-9b89-4935-bac2-3ce89398391b",
   "metadata": {},
   "outputs": [
    {
     "data": {
      "text/plain": [
       "<matplotlib.image.AxesImage at 0x7f70dc1f5e50>"
      ]
     },
     "execution_count": 10,
     "metadata": {},
     "output_type": "execute_result"
    },
    {
     "data": {
      "image/png": "[encoded data removed]",
      "text/plain": [
       "<Figure size 640x480 with 1 Axes>"
      ]
     },
     "metadata": {},
     "output_type": "display_data"
    }
   ],
   "source": [
    "plt.imshow(corpus_inputs[training_mask_by_digit[0]][0][0])"
   ]
  },
  {
   "cell_type": "code",
   "execution_count": 11,
   "id": "873a808f-fe36-4b10-bfee-f9a1be72fbf3",
   "metadata": {},
   "outputs": [
    {
     "data": {
      "text/plain": [
       "<matplotlib.image.AxesImage at 0x7f70dc245710>"
      ]
     },
     "execution_count": 11,
     "metadata": {},
     "output_type": "execute_result"
    },
    {
     "data": {
      "image/png": "[encoded data removed]",
      "text/plain": [
       "<Figure size 640x480 with 1 Axes>"
      ]
     },
     "metadata": {},
     "output_type": "display_data"
    }
   ],
   "source": [
    "plt.imshow(corpus_inputs[training_mask_by_digit[0]][20][0])"
   ]
  },
  {
   "cell_type": "code",
   "execution_count": 12,
   "id": "e9e6a667-682d-4ca5-b5e8-8b394775ab8c",
   "metadata": {
    "scrolled": true
   },
   "outputs": [
    {
     "data": {
      "text/plain": [
       "{0: tensor([[[[-0.4242, -0.4242, -0.4242,  ..., -0.4242, -0.4242, -0.4242],\n",
       "           [-0.4242, -0.4242, -0.4242,  ..., -0.4242, -0.4242, -0.4242],\n",
       "           [-0.4242, -0.4242, -0.4242,  ..., -0.4242, -0.4242, -0.4242],\n",
       "           ...,\n",
       "           [-0.4242, -0.4242, -0.4242,  ..., -0.4242, -0.4242, -0.4242],\n",
       "           [-0.4242, -0.4242, -0.4242,  ..., -0.4242, -0.4242, -0.4242],\n",
       "           [-0.4242, -0.4242, -0.4242,  ..., -0.4242, -0.4242, -0.4242]]],\n",
       " \n",
       " \n",
       "         [[[-0.4242, -0.4242, -0.4242,  ..., -0.4242, -0.4242, -0.4242],\n",
       "           [-0.4242, -0.4242, -0.4242,  ..., -0.4242, -0.4242, -0.4242],\n",
       "           [-0.4242, -0.4242, -0.4242,  ..., -0.4242, -0.4242, -0.4242],\n",
       "           ...,\n",
       "           [-0.4242, -0.4242, -0.4242,  ..., -0.4242, -0.4242, -0.4242],\n",
       "           [-0.4242, -0.4242, -0.4242,  ..., -0.4242, -0.4242, -0.4242],\n",
       "           [-0.4242, -0.4242, -0.4242,  ..., -0.4242, -0.4242, -0.4242]]],\n",
       " \n",
       " \n",
       "         [[[-0.4242, -0.4242, -0.4242,  ..., -0.4242, -0.4242, -0.4242],\n",
       "           [-0.4242, -0.4242, -0.4242,  ..., -0.4242, -0.4242, -0.4242],\n",
       "           [-0.4242, -0.4242, -0.4242,  ..., -0.4242, -0.4242, -0.4242],\n",
       "           ...,\n",
       "           [-0.4242, -0.4242, -0.4242,  ..., -0.4242, -0.4242, -0.4242],\n",
       "           [-0.4242, -0.4242, -0.4242,  ..., -0.4242, -0.4242, -0.4242],\n",
       "           [-0.4242, -0.4242, -0.4242,  ..., -0.4242, -0.4242, -0.4242]]],\n",
       " \n",
       " \n",
       "         ...,\n",
       " \n",
       " \n",
       "         [[[-0.4242, -0.4242, -0.4242,  ..., -0.4242, -0.4242, -0.4242],\n",
       "           [-0.4242, -0.4242, -0.4242,  ..., -0.4242, -0.4242, -0.4242],\n",
       "           [-0.4242, -0.4242, -0.4242,  ..., -0.4242, -0.4242, -0.4242],\n",
       "           ...,\n",
       "           [-0.4242, -0.4242, -0.4242,  ..., -0.4242, -0.4242, -0.4242],\n",
       "           [-0.4242, -0.4242, -0.4242,  ..., -0.4242, -0.4242, -0.4242],\n",
       "           [-0.4242, -0.4242, -0.4242,  ..., -0.4242, -0.4242, -0.4242]]],\n",
       " \n",
       " \n",
       "         [[[-0.4242, -0.4242, -0.4242,  ..., -0.4242, -0.4242, -0.4242],\n",
       "           [-0.4242, -0.4242, -0.4242,  ..., -0.4242, -0.4242, -0.4242],\n",
       "           [-0.4242, -0.4242, -0.4242,  ..., -0.4242, -0.4242, -0.4242],\n",
       "           ...,\n",
       "           [-0.4242, -0.4242, -0.4242,  ..., -0.4242, -0.4242, -0.4242],\n",
       "           [-0.4242, -0.4242, -0.4242,  ..., -0.4242, -0.4242, -0.4242],\n",
       "           [-0.4242, -0.4242, -0.4242,  ..., -0.4242, -0.4242, -0.4242]]],\n",
       " \n",
       " \n",
       "         [[[-0.4242, -0.4242, -0.4242,  ..., -0.4242, -0.4242, -0.4242],\n",
       "           [-0.4242, -0.4242, -0.4242,  ..., -0.4242, -0.4242, -0.4242],\n",
       "           [-0.4242, -0.4242, -0.4242,  ..., -0.4242, -0.4242, -0.4242],\n",
       "           ...,\n",
       "           [-0.4242, -0.4242, -0.4242,  ..., -0.4242, -0.4242, -0.4242],\n",
       "           [-0.4242, -0.4242, -0.4242,  ..., -0.4242, -0.4242, -0.4242],\n",
       "           [-0.4242, -0.4242, -0.4242,  ..., -0.4242, -0.4242, -0.4242]]]]),\n",
       " 1: tensor([[[[-0.4242, -0.4242, -0.4242,  ..., -0.4242, -0.4242, -0.4242],\n",
       "           [-0.4242, -0.4242, -0.4242,  ..., -0.4242, -0.4242, -0.4242],\n",
       "           [-0.4242, -0.4242, -0.4242,  ..., -0.4242, -0.4242, -0.4242],\n",
       "           ...,\n",
       "           [-0.4242, -0.4242, -0.4242,  ..., -0.4242, -0.4242, -0.4242],\n",
       "           [-0.4242, -0.4242, -0.4242,  ..., -0.4242, -0.4242, -0.4242],\n",
       "           [-0.4242, -0.4242, -0.4242,  ..., -0.4242, -0.4242, -0.4242]]],\n",
       " \n",
       " \n",
       "         [[[-0.4242, -0.4242, -0.4242,  ..., -0.4242, -0.4242, -0.4242],\n",
       "           [-0.4242, -0.4242, -0.4242,  ..., -0.4242, -0.4242, -0.4242],\n",
       "           [-0.4242, -0.4242, -0.4242,  ..., -0.4242, -0.4242, -0.4242],\n",
       "           ...,\n",
       "           [-0.4242, -0.4242, -0.4242,  ..., -0.4242, -0.4242, -0.4242],\n",
       "           [-0.4242, -0.4242, -0.4242,  ..., -0.4242, -0.4242, -0.4242],\n",
       "           [-0.4242, -0.4242, -0.4242,  ..., -0.4242, -0.4242, -0.4242]]],\n",
       " \n",
       " \n",
       "         [[[-0.4242, -0.4242, -0.4242,  ..., -0.4242, -0.4242, -0.4242],\n",
       "           [-0.4242, -0.4242, -0.4242,  ..., -0.4242, -0.4242, -0.4242],\n",
       "           [-0.4242, -0.4242, -0.4242,  ..., -0.4242, -0.4242, -0.4242],\n",
       "           ...,\n",
       "           [-0.4242, -0.4242, -0.4242,  ..., -0.4242, -0.4242, -0.4242],\n",
       "           [-0.4242, -0.4242, -0.4242,  ..., -0.4242, -0.4242, -0.4242],\n",
       "           [-0.4242, -0.4242, -0.4242,  ..., -0.4242, -0.4242, -0.4242]]],\n",
       " \n",
       " \n",
       "         ...,\n",
       " \n",
       " \n",
       "         [[[-0.4242, -0.4242, -0.4242,  ..., -0.4242, -0.4242, -0.4242],\n",
       "           [-0.4242, -0.4242, -0.4242,  ..., -0.4242, -0.4242, -0.4242],\n",
       "           [-0.4242, -0.4242, -0.4242,  ..., -0.4242, -0.4242, -0.4242],\n",
       "           ...,\n",
       "           [-0.4242, -0.4242, -0.4242,  ..., -0.4242, -0.4242, -0.4242],\n",
       "           [-0.4242, -0.4242, -0.4242,  ..., -0.4242, -0.4242, -0.4242],\n",
       "           [-0.4242, -0.4242, -0.4242,  ..., -0.4242, -0.4242, -0.4242]]],\n",
       " \n",
       " \n",
       "         [[[-0.4242, -0.4242, -0.4242,  ..., -0.4242, -0.4242, -0.4242],\n",
       "           [-0.4242, -0.4242, -0.4242,  ..., -0.4242, -0.4242, -0.4242],\n",
       "           [-0.4242, -0.4242, -0.4242,  ..., -0.4242, -0.4242, -0.4242],\n",
       "           ...,\n",
       "           [-0.4242, -0.4242, -0.4242,  ..., -0.4242, -0.4242, -0.4242],\n",
       "           [-0.4242, -0.4242, -0.4242,  ..., -0.4242, -0.4242, -0.4242],\n",
       "           [-0.4242, -0.4242, -0.4242,  ..., -0.4242, -0.4242, -0.4242]]],\n",
       " \n",
       " \n",
       "         [[[-0.4242, -0.4242, -0.4242,  ..., -0.4242, -0.4242, -0.4242],\n",
       "           [-0.4242, -0.4242, -0.4242,  ..., -0.4242, -0.4242, -0.4242],\n",
       "           [-0.4242, -0.4242, -0.4242,  ..., -0.4242, -0.4242, -0.4242],\n",
       "           ...,\n",
       "           [-0.4242, -0.4242, -0.4242,  ..., -0.4242, -0.4242, -0.4242],\n",
       "           [-0.4242, -0.4242, -0.4242,  ..., -0.4242, -0.4242, -0.4242],\n",
       "           [-0.4242, -0.4242, -0.4242,  ..., -0.4242, -0.4242, -0.4242]]]]),\n",
       " 2: tensor([[[[-0.4242, -0.4242, -0.4242,  ..., -0.4242, -0.4242, -0.4242],\n",
       "           [-0.4242, -0.4242, -0.4242,  ..., -0.4242, -0.4242, -0.4242],\n",
       "           [-0.4242, -0.4242, -0.4242,  ..., -0.4242, -0.4242, -0.4242],\n",
       "           ...,\n",
       "           [-0.4242, -0.4242, -0.4242,  ..., -0.4242, -0.4242, -0.4242],\n",
       "           [-0.4242, -0.4242, -0.4242,  ..., -0.4242, -0.4242, -0.4242],\n",
       "           [-0.4242, -0.4242, -0.4242,  ..., -0.4242, -0.4242, -0.4242]]],\n",
       " \n",
       " \n",
       "         [[[-0.4242, -0.4242, -0.4242,  ..., -0.4242, -0.4242, -0.4242],\n",
       "           [-0.4242, -0.4242, -0.4242,  ..., -0.4242, -0.4242, -0.4242],\n",
       "           [-0.4242, -0.4242, -0.4242,  ..., -0.4242, -0.4242, -0.4242],\n",
       "           ...,\n",
       "           [-0.4242, -0.4242, -0.4242,  ..., -0.4242, -0.4242, -0.4242],\n",
       "           [-0.4242, -0.4242, -0.4242,  ..., -0.4242, -0.4242, -0.4242],\n",
       "           [-0.4242, -0.4242, -0.4242,  ..., -0.4242, -0.4242, -0.4242]]],\n",
       " \n",
       " \n",
       "         [[[-0.4242, -0.4242, -0.4242,  ..., -0.4242, -0.4242, -0.4242],\n",
       "           [-0.4242, -0.4242, -0.4242,  ..., -0.4242, -0.4242, -0.4242],\n",
       "           [-0.4242, -0.4242, -0.4242,  ..., -0.4242, -0.4242, -0.4242],\n",
       "           ...,\n",
       "           [-0.4242, -0.4242, -0.4242,  ..., -0.4242, -0.4242, -0.4242],\n",
       "           [-0.4242, -0.4242, -0.4242,  ..., -0.4242, -0.4242, -0.4242],\n",
       "           [-0.4242, -0.4242, -0.4242,  ..., -0.4242, -0.4242, -0.4242]]],\n",
       " \n",
       " \n",
       "         ...,\n",
       " \n",
       " \n",
       "         [[[-0.4242, -0.4242, -0.4242,  ..., -0.4242, -0.4242, -0.4242],\n",
       "           [-0.4242, -0.4242, -0.4242,  ..., -0.4242, -0.4242, -0.4242],\n",
       "           [-0.4242, -0.4242, -0.4242,  ..., -0.4242, -0.4242, -0.4242],\n",
       "           ...,\n",
       "           [-0.4242, -0.4242, -0.4242,  ..., -0.4242, -0.4242, -0.4242],\n",
       "           [-0.4242, -0.4242, -0.4242,  ..., -0.4242, -0.4242, -0.4242],\n",
       "           [-0.4242, -0.4242, -0.4242,  ..., -0.4242, -0.4242, -0.4242]]],\n",
       " \n",
       " \n",
       "         [[[-0.4242, -0.4242, -0.4242,  ..., -0.4242, -0.4242, -0.4242],\n",
       "           [-0.4242, -0.4242, -0.4242,  ..., -0.4242, -0.4242, -0.4242],\n",
       "           [-0.4242, -0.4242, -0.4242,  ..., -0.4242, -0.4242, -0.4242],\n",
       "           ...,\n",
       "           [-0.4242, -0.4242, -0.4242,  ..., -0.4242, -0.4242, -0.4242],\n",
       "           [-0.4242, -0.4242, -0.4242,  ..., -0.4242, -0.4242, -0.4242],\n",
       "           [-0.4242, -0.4242, -0.4242,  ..., -0.4242, -0.4242, -0.4242]]],\n",
       " \n",
       " \n",
       "         [[[-0.4242, -0.4242, -0.4242,  ..., -0.4242, -0.4242, -0.4242],\n",
       "           [-0.4242, -0.4242, -0.4242,  ..., -0.4242, -0.4242, -0.4242],\n",
       "           [-0.4242, -0.4242, -0.4242,  ..., -0.4242, -0.4242, -0.4242],\n",
       "           ...,\n",
       "           [-0.4242, -0.4242, -0.4242,  ..., -0.4242, -0.4242, -0.4242],\n",
       "           [-0.4242, -0.4242, -0.4242,  ..., -0.4242, -0.4242, -0.4242],\n",
       "           [-0.4242, -0.4242, -0.4242,  ..., -0.4242, -0.4242, -0.4242]]]]),\n",
       " 3: tensor([[[[-0.4242, -0.4242, -0.4242,  ..., -0.4242, -0.4242, -0.4242],\n",
       "           [-0.4242, -0.4242, -0.4242,  ..., -0.4242, -0.4242, -0.4242],\n",
       "           [-0.4242, -0.4242, -0.4242,  ..., -0.4242, -0.4242, -0.4242],\n",
       "           ...,\n",
       "           [-0.4242, -0.4242, -0.4242,  ..., -0.4242, -0.4242, -0.4242],\n",
       "           [-0.4242, -0.4242, -0.4242,  ..., -0.4242, -0.4242, -0.4242],\n",
       "           [-0.4242, -0.4242, -0.4242,  ..., -0.4242, -0.4242, -0.4242]]],\n",
       " \n",
       " \n",
       "         [[[-0.4242, -0.4242, -0.4242,  ..., -0.4242, -0.4242, -0.4242],\n",
       "           [-0.4242, -0.4242, -0.4242,  ..., -0.4242, -0.4242, -0.4242],\n",
       "           [-0.4242, -0.4242, -0.4242,  ..., -0.4242, -0.4242, -0.4242],\n",
       "           ...,\n",
       "           [-0.4242, -0.4242, -0.4242,  ..., -0.4242, -0.4242, -0.4242],\n",
       "           [-0.4242, -0.4242, -0.4242,  ..., -0.4242, -0.4242, -0.4242],\n",
       "           [-0.4242, -0.4242, -0.4242,  ..., -0.4242, -0.4242, -0.4242]]],\n",
       " \n",
       " \n",
       "         [[[-0.4242, -0.4242, -0.4242,  ..., -0.4242, -0.4242, -0.4242],\n",
       "           [-0.4242, -0.4242, -0.4242,  ..., -0.4242, -0.4242, -0.4242],\n",
       "           [-0.4242, -0.4242, -0.4242,  ..., -0.4242, -0.4242, -0.4242],\n",
       "           ...,\n",
       "           [-0.4242, -0.4242, -0.4242,  ..., -0.4242, -0.4242, -0.4242],\n",
       "           [-0.4242, -0.4242, -0.4242,  ..., -0.4242, -0.4242, -0.4242],\n",
       "           [-0.4242, -0.4242, -0.4242,  ..., -0.4242, -0.4242, -0.4242]]],\n",
       " \n",
       " \n",
       "         ...,\n",
       " \n",
       " \n",
       "         [[[-0.4242, -0.4242, -0.4242,  ..., -0.4242, -0.4242, -0.4242],\n",
       "           [-0.4242, -0.4242, -0.4242,  ..., -0.4242, -0.4242, -0.4242],\n",
       "           [-0.4242, -0.4242, -0.4242,  ..., -0.4242, -0.4242, -0.4242],\n",
       "           ...,\n",
       "           [-0.4242, -0.4242, -0.4242,  ..., -0.4242, -0.4242, -0.4242],\n",
       "           [-0.4242, -0.4242, -0.4242,  ..., -0.4242, -0.4242, -0.4242],\n",
       "           [-0.4242, -0.4242, -0.4242,  ..., -0.4242, -0.4242, -0.4242]]],\n",
       " \n",
       " \n",
       "         [[[-0.4242, -0.4242, -0.4242,  ..., -0.4242, -0.4242, -0.4242],\n",
       "           [-0.4242, -0.4242, -0.4242,  ..., -0.4242, -0.4242, -0.4242],\n",
       "           [-0.4242, -0.4242, -0.4242,  ..., -0.4242, -0.4242, -0.4242],\n",
       "           ...,\n",
       "           [-0.4242, -0.4242, -0.4242,  ..., -0.4242, -0.4242, -0.4242],\n",
       "           [-0.4242, -0.4242, -0.4242,  ..., -0.4242, -0.4242, -0.4242],\n",
       "           [-0.4242, -0.4242, -0.4242,  ..., -0.4242, -0.4242, -0.4242]]],\n",
       " \n",
       " \n",
       "         [[[-0.4242, -0.4242, -0.4242,  ..., -0.4242, -0.4242, -0.4242],\n",
       "           [-0.4242, -0.4242, -0.4242,  ..., -0.4242, -0.4242, -0.4242],\n",
       "           [-0.4242, -0.4242, -0.4242,  ..., -0.4242, -0.4242, -0.4242],\n",
       "           ...,\n",
       "           [-0.4242, -0.4242, -0.4242,  ..., -0.4242, -0.4242, -0.4242],\n",
       "           [-0.4242, -0.4242, -0.4242,  ..., -0.4242, -0.4242, -0.4242],\n",
       "           [-0.4242, -0.4242, -0.4242,  ..., -0.4242, -0.4242, -0.4242]]]]),\n",
       " 4: tensor([[[[-0.4242, -0.4242, -0.4242,  ..., -0.4242, -0.4242, -0.4242],\n",
       "           [-0.4242, -0.4242, -0.4242,  ..., -0.4242, -0.4242, -0.4242],\n",
       "           [-0.4242, -0.4242, -0.4242,  ..., -0.4242, -0.4242, -0.4242],\n",
       "           ...,\n",
       "           [-0.4242, -0.4242, -0.4242,  ..., -0.4242, -0.4242, -0.4242],\n",
       "           [-0.4242, -0.4242, -0.4242,  ..., -0.4242, -0.4242, -0.4242],\n",
       "           [-0.4242, -0.4242, -0.4242,  ..., -0.4242, -0.4242, -0.4242]]],\n",
       " \n",
       " \n",
       "         [[[-0.4242, -0.4242, -0.4242,  ..., -0.4242, -0.4242, -0.4242],\n",
       "           [-0.4242, -0.4242, -0.4242,  ..., -0.4242, -0.4242, -0.4242],\n",
       "           [-0.4242, -0.4242, -0.4242,  ..., -0.4242, -0.4242, -0.4242],\n",
       "           ...,\n",
       "           [-0.4242, -0.4242, -0.4242,  ..., -0.4242, -0.4242, -0.4242],\n",
       "           [-0.4242, -0.4242, -0.4242,  ..., -0.4242, -0.4242, -0.4242],\n",
       "           [-0.4242, -0.4242, -0.4242,  ..., -0.4242, -0.4242, -0.4242]]],\n",
       " \n",
       " \n",
       "         [[[-0.4242, -0.4242, -0.4242,  ..., -0.4242, -0.4242, -0.4242],\n",
       "           [-0.4242, -0.4242, -0.4242,  ..., -0.4242, -0.4242, -0.4242],\n",
       "           [-0.4242, -0.4242, -0.4242,  ..., -0.4242, -0.4242, -0.4242],\n",
       "           ...,\n",
       "           [-0.4242, -0.4242, -0.4242,  ..., -0.4242, -0.4242, -0.4242],\n",
       "           [-0.4242, -0.4242, -0.4242,  ..., -0.4242, -0.4242, -0.4242],\n",
       "           [-0.4242, -0.4242, -0.4242,  ..., -0.4242, -0.4242, -0.4242]]],\n",
       " \n",
       " \n",
       "         ...,\n",
       " \n",
       " \n",
       "         [[[-0.4242, -0.4242, -0.4242,  ..., -0.4242, -0.4242, -0.4242],\n",
       "           [-0.4242, -0.4242, -0.4242,  ..., -0.4242, -0.4242, -0.4242],\n",
       "           [-0.4242, -0.4242, -0.4242,  ..., -0.4242, -0.4242, -0.4242],\n",
       "           ...,\n",
       "           [-0.4242, -0.4242, -0.4242,  ..., -0.4242, -0.4242, -0.4242],\n",
       "           [-0.4242, -0.4242, -0.4242,  ..., -0.4242, -0.4242, -0.4242],\n",
       "           [-0.4242, -0.4242, -0.4242,  ..., -0.4242, -0.4242, -0.4242]]],\n",
       " \n",
       " \n",
       "         [[[-0.4242, -0.4242, -0.4242,  ..., -0.4242, -0.4242, -0.4242],\n",
       "           [-0.4242, -0.4242, -0.4242,  ..., -0.4242, -0.4242, -0.4242],\n",
       "           [-0.4242, -0.4242, -0.4242,  ..., -0.4242, -0.4242, -0.4242],\n",
       "           ...,\n",
       "           [-0.4242, -0.4242, -0.4242,  ..., -0.4242, -0.4242, -0.4242],\n",
       "           [-0.4242, -0.4242, -0.4242,  ..., -0.4242, -0.4242, -0.4242],\n",
       "           [-0.4242, -0.4242, -0.4242,  ..., -0.4242, -0.4242, -0.4242]]],\n",
       " \n",
       " \n",
       "         [[[-0.4242, -0.4242, -0.4242,  ..., -0.4242, -0.4242, -0.4242],\n",
       "           [-0.4242, -0.4242, -0.4242,  ..., -0.4242, -0.4242, -0.4242],\n",
       "           [-0.4242, -0.4242, -0.4242,  ..., -0.4242, -0.4242, -0.4242],\n",
       "           ...,\n",
       "           [-0.4242, -0.4242, -0.4242,  ..., -0.4242, -0.4242, -0.4242],\n",
       "           [-0.4242, -0.4242, -0.4242,  ..., -0.4242, -0.4242, -0.4242],\n",
       "           [-0.4242, -0.4242, -0.4242,  ..., -0.4242, -0.4242, -0.4242]]]]),\n",
       " 5: tensor([[[[-0.4242, -0.4242, -0.4242,  ..., -0.4242, -0.4242, -0.4242],\n",
       "           [-0.4242, -0.4242, -0.4242,  ..., -0.4242, -0.4242, -0.4242],\n",
       "           [-0.4242, -0.4242, -0.4242,  ..., -0.4242, -0.4242, -0.4242],\n",
       "           ...,\n",
       "           [-0.4242, -0.4242, -0.4242,  ..., -0.4242, -0.4242, -0.4242],\n",
       "           [-0.4242, -0.4242, -0.4242,  ..., -0.4242, -0.4242, -0.4242],\n",
       "           [-0.4242, -0.4242, -0.4242,  ..., -0.4242, -0.4242, -0.4242]]],\n",
       " \n",
       " \n",
       "         [[[-0.4242, -0.4242, -0.4242,  ..., -0.4242, -0.4242, -0.4242],\n",
       "           [-0.4242, -0.4242, -0.4242,  ..., -0.4242, -0.4242, -0.4242],\n",
       "           [-0.4242, -0.4242, -0.4242,  ..., -0.4242, -0.4242, -0.4242],\n",
       "           ...,\n",
       "           [-0.4242, -0.4242, -0.4242,  ..., -0.4242, -0.4242, -0.4242],\n",
       "           [-0.4242, -0.4242, -0.4242,  ..., -0.4242, -0.4242, -0.4242],\n",
       "           [-0.4242, -0.4242, -0.4242,  ..., -0.4242, -0.4242, -0.4242]]],\n",
       " \n",
       " \n",
       "         [[[-0.4242, -0.4242, -0.4242,  ..., -0.4242, -0.4242, -0.4242],\n",
       "           [-0.4242, -0.4242, -0.4242,  ..., -0.4242, -0.4242, -0.4242],\n",
       "           [-0.4242, -0.4242, -0.4242,  ..., -0.4242, -0.4242, -0.4242],\n",
       "           ...,\n",
       "           [-0.4242, -0.4242, -0.4242,  ..., -0.4242, -0.4242, -0.4242],\n",
       "           [-0.4242, -0.4242, -0.4242,  ..., -0.4242, -0.4242, -0.4242],\n",
       "           [-0.4242, -0.4242, -0.4242,  ..., -0.4242, -0.4242, -0.4242]]],\n",
       " \n",
       " \n",
       "         ...,\n",
       " \n",
       " \n",
       "         [[[-0.4242, -0.4242, -0.4242,  ..., -0.4242, -0.4242, -0.4242],\n",
       "           [-0.4242, -0.4242, -0.4242,  ..., -0.4242, -0.4242, -0.4242],\n",
       "           [-0.4242, -0.4242, -0.4242,  ..., -0.4242, -0.4242, -0.4242],\n",
       "           ...,\n",
       "           [-0.4242, -0.4242, -0.4242,  ..., -0.4242, -0.4242, -0.4242],\n",
       "           [-0.4242, -0.4242, -0.4242,  ..., -0.4242, -0.4242, -0.4242],\n",
       "           [-0.4242, -0.4242, -0.4242,  ..., -0.4242, -0.4242, -0.4242]]],\n",
       " \n",
       " \n",
       "         [[[-0.4242, -0.4242, -0.4242,  ..., -0.4242, -0.4242, -0.4242],\n",
       "           [-0.4242, -0.4242, -0.4242,  ..., -0.4242, -0.4242, -0.4242],\n",
       "           [-0.4242, -0.4242, -0.4242,  ..., -0.4242, -0.4242, -0.4242],\n",
       "           ...,\n",
       "           [-0.4242, -0.4242, -0.4242,  ..., -0.4242, -0.4242, -0.4242],\n",
       "           [-0.4242, -0.4242, -0.4242,  ..., -0.4242, -0.4242, -0.4242],\n",
       "           [-0.4242, -0.4242, -0.4242,  ..., -0.4242, -0.4242, -0.4242]]],\n",
       " \n",
       " \n",
       "         [[[-0.4242, -0.4242, -0.4242,  ..., -0.4242, -0.4242, -0.4242],\n",
       "           [-0.4242, -0.4242, -0.4242,  ..., -0.4242, -0.4242, -0.4242],\n",
       "           [-0.4242, -0.4242, -0.4242,  ..., -0.4242, -0.4242, -0.4242],\n",
       "           ...,\n",
       "           [-0.4242, -0.4242, -0.4242,  ..., -0.4242, -0.4242, -0.4242],\n",
       "           [-0.4242, -0.4242, -0.4242,  ..., -0.4242, -0.4242, -0.4242],\n",
       "           [-0.4242, -0.4242, -0.4242,  ..., -0.4242, -0.4242, -0.4242]]]]),\n",
       " 6: tensor([[[[-0.4242, -0.4242, -0.4242,  ..., -0.4242, -0.4242, -0.4242],\n",
       "           [-0.4242, -0.4242, -0.4242,  ..., -0.4242, -0.4242, -0.4242],\n",
       "           [-0.4242, -0.4242, -0.4242,  ..., -0.4242, -0.4242, -0.4242],\n",
       "           ...,\n",
       "           [-0.4242, -0.4242, -0.4242,  ..., -0.4242, -0.4242, -0.4242],\n",
       "           [-0.4242, -0.4242, -0.4242,  ..., -0.4242, -0.4242, -0.4242],\n",
       "           [-0.4242, -0.4242, -0.4242,  ..., -0.4242, -0.4242, -0.4242]]],\n",
       " \n",
       " \n",
       "         [[[-0.4242, -0.4242, -0.4242,  ..., -0.4242, -0.4242, -0.4242],\n",
       "           [-0.4242, -0.4242, -0.4242,  ..., -0.4242, -0.4242, -0.4242],\n",
       "           [-0.4242, -0.4242, -0.4242,  ..., -0.4242, -0.4242, -0.4242],\n",
       "           ...,\n",
       "           [-0.4242, -0.4242, -0.4242,  ..., -0.4242, -0.4242, -0.4242],\n",
       "           [-0.4242, -0.4242, -0.4242,  ..., -0.4242, -0.4242, -0.4242],\n",
       "           [-0.4242, -0.4242, -0.4242,  ..., -0.4242, -0.4242, -0.4242]]],\n",
       " \n",
       " \n",
       "         [[[-0.4242, -0.4242, -0.4242,  ..., -0.4242, -0.4242, -0.4242],\n",
       "           [-0.4242, -0.4242, -0.4242,  ..., -0.4242, -0.4242, -0.4242],\n",
       "           [-0.4242, -0.4242, -0.4242,  ..., -0.4242, -0.4242, -0.4242],\n",
       "           ...,\n",
       "           [-0.4242, -0.4242, -0.4242,  ..., -0.4242, -0.4242, -0.4242],\n",
       "           [-0.4242, -0.4242, -0.4242,  ..., -0.4242, -0.4242, -0.4242],\n",
       "           [-0.4242, -0.4242, -0.4242,  ..., -0.4242, -0.4242, -0.4242]]],\n",
       " \n",
       " \n",
       "         ...,\n",
       " \n",
       " \n",
       "         [[[-0.4242, -0.4242, -0.4242,  ..., -0.4242, -0.4242, -0.4242],\n",
       "           [-0.4242, -0.4242, -0.4242,  ..., -0.4242, -0.4242, -0.4242],\n",
       "           [-0.4242, -0.4242, -0.4242,  ..., -0.4242, -0.4242, -0.4242],\n",
       "           ...,\n",
       "           [-0.4242, -0.4242, -0.4242,  ..., -0.4242, -0.4242, -0.4242],\n",
       "           [-0.4242, -0.4242, -0.4242,  ..., -0.4242, -0.4242, -0.4242],\n",
       "           [-0.4242, -0.4242, -0.4242,  ..., -0.4242, -0.4242, -0.4242]]],\n",
       " \n",
       " \n",
       "         [[[-0.4242, -0.4242, -0.4242,  ..., -0.4242, -0.4242, -0.4242],\n",
       "           [-0.4242, -0.4242, -0.4242,  ..., -0.4242, -0.4242, -0.4242],\n",
       "           [-0.4242, -0.4242, -0.4242,  ..., -0.4242, -0.4242, -0.4242],\n",
       "           ...,\n",
       "           [-0.4242, -0.4242, -0.4242,  ..., -0.4242, -0.4242, -0.4242],\n",
       "           [-0.4242, -0.4242, -0.4242,  ..., -0.4242, -0.4242, -0.4242],\n",
       "           [-0.4242, -0.4242, -0.4242,  ..., -0.4242, -0.4242, -0.4242]]],\n",
       " \n",
       " \n",
       "         [[[-0.4242, -0.4242, -0.4242,  ..., -0.4242, -0.4242, -0.4242],\n",
       "           [-0.4242, -0.4242, -0.4242,  ..., -0.4242, -0.4242, -0.4242],\n",
       "           [-0.4242, -0.4242, -0.4242,  ..., -0.4242, -0.4242, -0.4242],\n",
       "           ...,\n",
       "           [-0.4242, -0.4242, -0.4242,  ..., -0.4242, -0.4242, -0.4242],\n",
       "           [-0.4242, -0.4242, -0.4242,  ..., -0.4242, -0.4242, -0.4242],\n",
       "           [-0.4242, -0.4242, -0.4242,  ..., -0.4242, -0.4242, -0.4242]]]]),\n",
       " 7: tensor([[[[-0.4242, -0.4242, -0.4242,  ..., -0.4242, -0.4242, -0.4242],\n",
       "           [-0.4242, -0.4242, -0.4242,  ..., -0.4242, -0.4242, -0.4242],\n",
       "           [-0.4242, -0.4242, -0.4242,  ..., -0.4242, -0.4242, -0.4242],\n",
       "           ...,\n",
       "           [-0.4242, -0.4242, -0.4242,  ..., -0.4242, -0.4242, -0.4242],\n",
       "           [-0.4242, -0.4242, -0.4242,  ..., -0.4242, -0.4242, -0.4242],\n",
       "           [-0.4242, -0.4242, -0.4242,  ..., -0.4242, -0.4242, -0.4242]]],\n",
       " \n",
       " \n",
       "         [[[-0.4242, -0.4242, -0.4242,  ..., -0.4242, -0.4242, -0.4242],\n",
       "           [-0.4242, -0.4242, -0.4242,  ..., -0.4242, -0.4242, -0.4242],\n",
       "           [-0.4242, -0.4242, -0.4242,  ..., -0.4242, -0.4242, -0.4242],\n",
       "           ...,\n",
       "           [-0.4242, -0.4242, -0.4242,  ..., -0.4242, -0.4242, -0.4242],\n",
       "           [-0.4242, -0.4242, -0.4242,  ..., -0.4242, -0.4242, -0.4242],\n",
       "           [-0.4242, -0.4242, -0.4242,  ..., -0.4242, -0.4242, -0.4242]]],\n",
       " \n",
       " \n",
       "         [[[-0.4242, -0.4242, -0.4242,  ..., -0.4242, -0.4242, -0.4242],\n",
       "           [-0.4242, -0.4242, -0.4242,  ..., -0.4242, -0.4242, -0.4242],\n",
       "           [-0.4242, -0.4242, -0.4242,  ..., -0.4242, -0.4242, -0.4242],\n",
       "           ...,\n",
       "           [-0.4242, -0.4242, -0.4242,  ..., -0.4242, -0.4242, -0.4242],\n",
       "           [-0.4242, -0.4242, -0.4242,  ..., -0.4242, -0.4242, -0.4242],\n",
       "           [-0.4242, -0.4242, -0.4242,  ..., -0.4242, -0.4242, -0.4242]]],\n",
       " \n",
       " \n",
       "         ...,\n",
       " \n",
       " \n",
       "         [[[-0.4242, -0.4242, -0.4242,  ..., -0.4242, -0.4242, -0.4242],\n",
       "           [-0.4242, -0.4242, -0.4242,  ..., -0.4242, -0.4242, -0.4242],\n",
       "           [-0.4242, -0.4242, -0.4242,  ..., -0.4242, -0.4242, -0.4242],\n",
       "           ...,\n",
       "           [-0.4242, -0.4242, -0.4242,  ..., -0.4242, -0.4242, -0.4242],\n",
       "           [-0.4242, -0.4242, -0.4242,  ..., -0.4242, -0.4242, -0.4242],\n",
       "           [-0.4242, -0.4242, -0.4242,  ..., -0.4242, -0.4242, -0.4242]]],\n",
       " \n",
       " \n",
       "         [[[-0.4242, -0.4242, -0.4242,  ..., -0.4242, -0.4242, -0.4242],\n",
       "           [-0.4242, -0.4242, -0.4242,  ..., -0.4242, -0.4242, -0.4242],\n",
       "           [-0.4242, -0.4242, -0.4242,  ..., -0.4242, -0.4242, -0.4242],\n",
       "           ...,\n",
       "           [-0.4242, -0.4242, -0.4242,  ..., -0.4242, -0.4242, -0.4242],\n",
       "           [-0.4242, -0.4242, -0.4242,  ..., -0.4242, -0.4242, -0.4242],\n",
       "           [-0.4242, -0.4242, -0.4242,  ..., -0.4242, -0.4242, -0.4242]]],\n",
       " \n",
       " \n",
       "         [[[-0.4242, -0.4242, -0.4242,  ..., -0.4242, -0.4242, -0.4242],\n",
       "           [-0.4242, -0.4242, -0.4242,  ..., -0.4242, -0.4242, -0.4242],\n",
       "           [-0.4242, -0.4242, -0.4242,  ..., -0.4242, -0.4242, -0.4242],\n",
       "           ...,\n",
       "           [-0.4242, -0.4242, -0.4242,  ..., -0.4242, -0.4242, -0.4242],\n",
       "           [-0.4242, -0.4242, -0.4242,  ..., -0.4242, -0.4242, -0.4242],\n",
       "           [-0.4242, -0.4242, -0.4242,  ..., -0.4242, -0.4242, -0.4242]]]]),\n",
       " 8: tensor([[[[-0.4242, -0.4242, -0.4242,  ..., -0.4242, -0.4242, -0.4242],\n",
       "           [-0.4242, -0.4242, -0.4242,  ..., -0.4242, -0.4242, -0.4242],\n",
       "           [-0.4242, -0.4242, -0.4242,  ..., -0.4242, -0.4242, -0.4242],\n",
       "           ...,\n",
       "           [-0.4242, -0.4242, -0.4242,  ..., -0.4242, -0.4242, -0.4242],\n",
       "           [-0.4242, -0.4242, -0.4242,  ..., -0.4242, -0.4242, -0.4242],\n",
       "           [-0.4242, -0.4242, -0.4242,  ..., -0.4242, -0.4242, -0.4242]]],\n",
       " \n",
       " \n",
       "         [[[-0.4242, -0.4242, -0.4242,  ..., -0.4242, -0.4242, -0.4242],\n",
       "           [-0.4242, -0.4242, -0.4242,  ..., -0.4242, -0.4242, -0.4242],\n",
       "           [-0.4242, -0.4242, -0.4242,  ..., -0.4242, -0.4242, -0.4242],\n",
       "           ...,\n",
       "           [-0.4242, -0.4242, -0.4242,  ..., -0.4242, -0.4242, -0.4242],\n",
       "           [-0.4242, -0.4242, -0.4242,  ..., -0.4242, -0.4242, -0.4242],\n",
       "           [-0.4242, -0.4242, -0.4242,  ..., -0.4242, -0.4242, -0.4242]]],\n",
       " \n",
       " \n",
       "         [[[-0.4242, -0.4242, -0.4242,  ..., -0.4242, -0.4242, -0.4242],\n",
       "           [-0.4242, -0.4242, -0.4242,  ..., -0.4242, -0.4242, -0.4242],\n",
       "           [-0.4242, -0.4242, -0.4242,  ..., -0.4242, -0.4242, -0.4242],\n",
       "           ...,\n",
       "           [-0.4242, -0.4242, -0.4242,  ..., -0.4242, -0.4242, -0.4242],\n",
       "           [-0.4242, -0.4242, -0.4242,  ..., -0.4242, -0.4242, -0.4242],\n",
       "           [-0.4242, -0.4242, -0.4242,  ..., -0.4242, -0.4242, -0.4242]]],\n",
       " \n",
       " \n",
       "         ...,\n",
       " \n",
       " \n",
       "         [[[-0.4242, -0.4242, -0.4242,  ..., -0.4242, -0.4242, -0.4242],\n",
       "           [-0.4242, -0.4242, -0.4242,  ..., -0.4242, -0.4242, -0.4242],\n",
       "           [-0.4242, -0.4242, -0.4242,  ..., -0.4242, -0.4242, -0.4242],\n",
       "           ...,\n",
       "           [-0.4242, -0.4242, -0.4242,  ..., -0.4242, -0.4242, -0.4242],\n",
       "           [-0.4242, -0.4242, -0.4242,  ..., -0.4242, -0.4242, -0.4242],\n",
       "           [-0.4242, -0.4242, -0.4242,  ..., -0.4242, -0.4242, -0.4242]]],\n",
       " \n",
       " \n",
       "         [[[-0.4242, -0.4242, -0.4242,  ..., -0.4242, -0.4242, -0.4242],\n",
       "           [-0.4242, -0.4242, -0.4242,  ..., -0.4242, -0.4242, -0.4242],\n",
       "           [-0.4242, -0.4242, -0.4242,  ..., -0.4242, -0.4242, -0.4242],\n",
       "           ...,\n",
       "           [-0.4242, -0.4242, -0.4242,  ..., -0.4242, -0.4242, -0.4242],\n",
       "           [-0.4242, -0.4242, -0.4242,  ..., -0.4242, -0.4242, -0.4242],\n",
       "           [-0.4242, -0.4242, -0.4242,  ..., -0.4242, -0.4242, -0.4242]]],\n",
       " \n",
       " \n",
       "         [[[-0.4242, -0.4242, -0.4242,  ..., -0.4242, -0.4242, -0.4242],\n",
       "           [-0.4242, -0.4242, -0.4242,  ..., -0.4242, -0.4242, -0.4242],\n",
       "           [-0.4242, -0.4242, -0.4242,  ..., -0.4242, -0.4242, -0.4242],\n",
       "           ...,\n",
       "           [-0.4242, -0.4242, -0.4242,  ..., -0.4242, -0.4242, -0.4242],\n",
       "           [-0.4242, -0.4242, -0.4242,  ..., -0.4242, -0.4242, -0.4242],\n",
       "           [-0.4242, -0.4242, -0.4242,  ..., -0.4242, -0.4242, -0.4242]]]]),\n",
       " 9: tensor([[[[-0.4242, -0.4242, -0.4242,  ..., -0.4242, -0.4242, -0.4242],\n",
       "           [-0.4242, -0.4242, -0.4242,  ..., -0.4242, -0.4242, -0.4242],\n",
       "           [-0.4242, -0.4242, -0.4242,  ..., -0.4242, -0.4242, -0.4242],\n",
       "           ...,\n",
       "           [-0.4242, -0.4242, -0.4242,  ..., -0.4242, -0.4242, -0.4242],\n",
       "           [-0.4242, -0.4242, -0.4242,  ..., -0.4242, -0.4242, -0.4242],\n",
       "           [-0.4242, -0.4242, -0.4242,  ..., -0.4242, -0.4242, -0.4242]]],\n",
       " \n",
       " \n",
       "         [[[-0.4242, -0.4242, -0.4242,  ..., -0.4242, -0.4242, -0.4242],\n",
       "           [-0.4242, -0.4242, -0.4242,  ..., -0.4242, -0.4242, -0.4242],\n",
       "           [-0.4242, -0.4242, -0.4242,  ..., -0.4242, -0.4242, -0.4242],\n",
       "           ...,\n",
       "           [-0.4242, -0.4242, -0.4242,  ..., -0.4242, -0.4242, -0.4242],\n",
       "           [-0.4242, -0.4242, -0.4242,  ..., -0.4242, -0.4242, -0.4242],\n",
       "           [-0.4242, -0.4242, -0.4242,  ..., -0.4242, -0.4242, -0.4242]]],\n",
       " \n",
       " \n",
       "         [[[-0.4242, -0.4242, -0.4242,  ..., -0.4242, -0.4242, -0.4242],\n",
       "           [-0.4242, -0.4242, -0.4242,  ..., -0.4242, -0.4242, -0.4242],\n",
       "           [-0.4242, -0.4242, -0.4242,  ..., -0.4242, -0.4242, -0.4242],\n",
       "           ...,\n",
       "           [-0.4242, -0.4242, -0.4242,  ..., -0.4242, -0.4242, -0.4242],\n",
       "           [-0.4242, -0.4242, -0.4242,  ..., -0.4242, -0.4242, -0.4242],\n",
       "           [-0.4242, -0.4242, -0.4242,  ..., -0.4242, -0.4242, -0.4242]]],\n",
       " \n",
       " \n",
       "         ...,\n",
       " \n",
       " \n",
       "         [[[-0.4242, -0.4242, -0.4242,  ..., -0.4242, -0.4242, -0.4242],\n",
       "           [-0.4242, -0.4242, -0.4242,  ..., -0.4242, -0.4242, -0.4242],\n",
       "           [-0.4242, -0.4242, -0.4242,  ..., -0.4242, -0.4242, -0.4242],\n",
       "           ...,\n",
       "           [-0.4242, -0.4242, -0.4242,  ..., -0.4242, -0.4242, -0.4242],\n",
       "           [-0.4242, -0.4242, -0.4242,  ..., -0.4242, -0.4242, -0.4242],\n",
       "           [-0.4242, -0.4242, -0.4242,  ..., -0.4242, -0.4242, -0.4242]]],\n",
       " \n",
       " \n",
       "         [[[-0.4242, -0.4242, -0.4242,  ..., -0.4242, -0.4242, -0.4242],\n",
       "           [-0.4242, -0.4242, -0.4242,  ..., -0.4242, -0.4242, -0.4242],\n",
       "           [-0.4242, -0.4242, -0.4242,  ..., -0.4242, -0.4242, -0.4242],\n",
       "           ...,\n",
       "           [-0.4242, -0.4242, -0.4242,  ..., -0.4242, -0.4242, -0.4242],\n",
       "           [-0.4242, -0.4242, -0.4242,  ..., -0.4242, -0.4242, -0.4242],\n",
       "           [-0.4242, -0.4242, -0.4242,  ..., -0.4242, -0.4242, -0.4242]]],\n",
       " \n",
       " \n",
       "         [[[-0.4242, -0.4242, -0.4242,  ..., -0.4242, -0.4242, -0.4242],\n",
       "           [-0.4242, -0.4242, -0.4242,  ..., -0.4242, -0.4242, -0.4242],\n",
       "           [-0.4242, -0.4242, -0.4242,  ..., -0.4242, -0.4242, -0.4242],\n",
       "           ...,\n",
       "           [-0.4242, -0.4242, -0.4242,  ..., -0.4242, -0.4242, -0.4242],\n",
       "           [-0.4242, -0.4242, -0.4242,  ..., -0.4242, -0.4242, -0.4242],\n",
       "           [-0.4242, -0.4242, -0.4242,  ..., -0.4242, -0.4242, -0.4242]]]])}"
      ]
     },
     "execution_count": 12,
     "metadata": {},
     "output_type": "execute_result"
    }
   ],
   "source": [
    "training_input_features_by_digit = {digit: corpus_inputs[training_mask_by_digit[digit]] for digit in digit_range}\n",
    "test_input_features_by_digit = {digit: test_inputs[test_mask_by_digit[digit]] for digit in digit_range}\n",
    "training_input_features_by_digit"
   ]
  },
  {
   "cell_type": "code",
   "execution_count": 13,
   "id": "7724180c-8e8e-4729-9468-b56baa608dc5",
   "metadata": {},
   "outputs": [
    {
     "data": {
      "text/plain": [
       "<matplotlib.image.AxesImage at 0x7f70dc0d6890>"
      ]
     },
     "execution_count": 13,
     "metadata": {},
     "output_type": "execute_result"
    },
    {
     "data": {
      "image/png": "[encoded data removed]",
      "text/plain": [
       "<Figure size 640x480 with 1 Axes>"
      ]
     },
     "metadata": {},
     "output_type": "display_data"
    }
   ],
   "source": [
    "digit = 5\n",
    "num_pic = 7\n",
    "plt.imshow(training_input_features_by_digit[digit][num_pic][0])"
   ]
  },
  {
   "cell_type": "code",
   "execution_count": 14,
   "id": "9a3b4b56-433e-4115-984f-fc2a5deddff1",
   "metadata": {},
   "outputs": [
    {
     "data": {
      "text/plain": [
       "<matplotlib.image.AxesImage at 0x7f70dc125e50>"
      ]
     },
     "execution_count": 14,
     "metadata": {},
     "output_type": "execute_result"
    },
    {
     "data": {
      "image/png": "[encoded data removed]",
      "text/plain": [
       "<Figure size 640x480 with 1 Axes>"
      ]
     },
     "metadata": {},
     "output_type": "display_data"
    }
   ],
   "source": [
    "digit = 8\n",
    "num_pic = 9\n",
    "plt.imshow(test_input_features_by_digit[digit][num_pic][0])"
   ]
  },
  {
   "cell_type": "markdown",
   "id": "f0c73ba3-4f54-4db5-92e2-33b6104f7435",
   "metadata": {},
   "source": [
    "## 3. Latent representations per digit"
   ]
  },
  {
   "cell_type": "code",
   "execution_count": 15,
   "id": "5dc1afc7-44c9-4f96-9348-c1b6715ac918",
   "metadata": {},
   "outputs": [],
   "source": [
    "import torch"
   ]
  },
  {
   "cell_type": "code",
   "execution_count": 16,
   "id": "e12e8ea5-da7a-4058-82a7-87e10d5ec6de",
   "metadata": {
    "scrolled": true
   },
   "outputs": [
    {
     "data": {
      "text/plain": [
       "{0: tensor([[ 0.0000,  0.0000, 10.0457,  ...,  0.0000, 10.0492,  0.0000],\n",
       "         [ 0.5352,  0.0000,  0.0000,  ...,  0.0000,  7.8545,  1.1442],\n",
       "         [ 3.4890,  0.0000,  3.0901,  ...,  0.0000, 11.3265,  0.0000],\n",
       "         ...,\n",
       "         [ 0.0000,  0.0000, 17.3664,  ...,  0.0000,  0.0000,  0.0000],\n",
       "         [ 0.0000,  0.0000,  0.0000,  ...,  0.0000,  7.7102,  0.0000],\n",
       "         [ 0.0000,  0.0000,  8.6024,  ...,  0.0000,  0.0000,  0.0000]]),\n",
       " 1: tensor([[ 0.9249,  0.0000,  2.9165,  ...,  0.0000, 13.2081,  0.0000],\n",
       "         [ 1.4564,  0.0000,  1.5974,  ...,  7.8245,  8.2568,  2.8147],\n",
       "         [ 0.0000,  0.0000,  0.0000,  ...,  5.3364,  4.2603,  0.0000],\n",
       "         ...,\n",
       "         [ 0.2664,  0.0000,  1.6000,  ...,  0.0000,  0.0000,  0.0000],\n",
       "         [ 0.2740,  0.0000,  0.0000,  ...,  4.9266,  5.1256,  0.0000],\n",
       "         [ 2.2952,  0.0000,  0.0000,  ...,  0.0000,  0.0000,  6.8420]]),\n",
       " 2: tensor([[ 0.0000,  0.0000,  0.0000,  ...,  0.0000,  0.0000,  0.0000],\n",
       "         [ 0.0000,  0.0000,  2.1580,  ...,  1.8718,  5.3563,  0.0000],\n",
       "         [ 0.0000,  3.1914,  0.0000,  ...,  0.0000,  0.0000,  0.0000],\n",
       "         ...,\n",
       "         [ 0.0000,  2.8783,  0.0000,  ...,  0.0000, 13.1668,  0.0000],\n",
       "         [ 0.0000,  0.0000,  9.5749,  ...,  0.0000,  7.8970,  0.0000],\n",
       "         [ 0.0000,  0.0000,  5.1565,  ...,  0.0000,  8.0747,  0.0000]]),\n",
       " 3: tensor([[ 0.0000, 10.0504,  3.2589,  ...,  0.0000,  0.0000,  7.5991],\n",
       "         [ 0.0000,  7.3626,  8.5124,  ...,  0.0000,  0.0000, 11.7303],\n",
       "         [ 0.0000,  5.4820,  0.0000,  ...,  0.0000,  0.0000,  0.0000],\n",
       "         ...,\n",
       "         [ 2.5656,  0.0000,  4.8055,  ...,  0.3073,  0.0000,  0.0000],\n",
       "         [ 0.0000,  1.4998,  9.8916,  ...,  0.0000,  0.0000,  2.7008],\n",
       "         [ 0.0000,  0.0000,  7.5687,  ...,  0.0000,  0.0000,  0.0000]]),\n",
       " 4: tensor([[ 0.0000, 10.8782,  0.0000,  ...,  0.0000,  0.0000,  0.0000],\n",
       "         [ 0.0000,  0.0000,  0.0000,  ...,  0.0000,  0.0000,  0.0000],\n",
       "         [ 0.0000,  2.6928,  0.0000,  ...,  0.0000,  0.8448,  0.0000],\n",
       "         ...,\n",
       "         [ 6.7348,  0.0000,  0.0000,  ...,  0.0000,  0.0000,  7.7445],\n",
       "         [ 0.0000, 10.9113,  0.0000,  ...,  4.4763,  0.0000,  3.4040],\n",
       "         [ 2.4273,  0.0000,  0.0000,  ...,  0.0000,  0.0000,  0.0000]]),\n",
       " 5: tensor([[ 9.2453,  0.0000, 19.2019,  ...,  0.0000,  0.0000,  0.0000],\n",
       "         [ 0.0000,  8.7438,  5.8794,  ...,  0.0000,  0.0000,  0.0000],\n",
       "         [ 7.3464,  0.0000,  0.0000,  ...,  0.0000,  0.0000,  4.7500],\n",
       "         ...,\n",
       "         [ 8.5813,  0.0000, 18.4471,  ...,  0.0000,  0.0000,  0.0000],\n",
       "         [ 0.0000,  0.0000,  4.9764,  ...,  0.0000,  0.0000,  0.0000],\n",
       "         [ 5.2610,  0.0000, 15.6988,  ...,  0.0000,  0.0000,  0.1089]]),\n",
       " 6: tensor([[ 0.0000,  9.2870, 11.6126,  ...,  0.0000,  9.1540,  0.0000],\n",
       "         [ 7.4454, 10.5072,  0.0000,  ...,  0.0000,  0.0000,  0.0000],\n",
       "         [ 9.7060,  0.0000, 18.6584,  ...,  0.0000, 10.6861,  0.0000],\n",
       "         ...,\n",
       "         [ 0.0000,  6.6908,  0.0000,  ...,  0.0000,  0.0000,  0.0000],\n",
       "         [ 0.0000,  0.0000,  0.0000,  ...,  0.0000, 13.5444,  0.0000],\n",
       "         [ 0.0000, 12.7075,  7.3981,  ...,  0.0000,  7.5962,  0.0000]]),\n",
       " 7: tensor([[0.0000, 0.0000, 0.0000,  ..., 0.0000, 0.0000, 0.0000],\n",
       "         [0.0000, 0.0000, 0.0000,  ..., 0.0000, 0.0000, 0.0000],\n",
       "         [0.0000, 0.0000, 0.0000,  ..., 0.0000, 1.9528, 0.0000],\n",
       "         ...,\n",
       "         [0.0000, 0.0000, 0.0000,  ..., 8.4662, 0.0000, 0.0000],\n",
       "         [0.0000, 0.0000, 0.0000,  ..., 5.0633, 0.0000, 0.0000],\n",
       "         [0.0000, 0.0000, 0.0000,  ..., 6.9480, 0.0000, 0.0000]]),\n",
       " 8: tensor([[ 0.0000,  0.0000,  2.6213,  ...,  7.9374,  0.0000,  0.0000],\n",
       "         [ 3.9521,  0.0000,  5.4664,  ...,  2.8272,  0.0000,  0.0000],\n",
       "         [ 0.0000,  0.0000,  0.0000,  ...,  4.7957,  0.7314,  0.0000],\n",
       "         ...,\n",
       "         [ 0.0000,  1.5768,  0.0000,  ...,  4.8693,  0.0000,  0.0000],\n",
       "         [ 0.0000,  0.0000, 14.0484,  ...,  0.0000,  0.0000,  0.0000],\n",
       "         [ 0.8149,  0.0000,  1.0728,  ...,  0.0000,  0.0000,  3.4955]]),\n",
       " 9: tensor([[ 2.2186,  0.0000,  0.0000,  ...,  9.4635,  0.0000,  5.2298],\n",
       "         [ 1.5176,  5.9308,  0.0000,  ...,  0.0000,  0.0000,  0.0000],\n",
       "         [ 0.0000,  0.0000,  0.0000,  ...,  9.9185,  0.0000,  3.3593],\n",
       "         ...,\n",
       "         [ 0.0000,  7.1432,  0.0000,  ..., 13.5277,  0.0000,  2.0729],\n",
       "         [ 0.0000,  0.0000,  2.0322,  ...,  8.9480,  0.0000,  9.5455],\n",
       "         [ 5.6952,  0.0000,  0.0000,  ..., 10.6391,  0.0000,  0.0000]])}"
      ]
     },
     "execution_count": 16,
     "metadata": {},
     "output_type": "execute_result"
    }
   ],
   "source": [
    "with torch.no_grad():\n",
    "    training_latents_by_digit = {digit: model.latent_representation(training_input_features_by_digit[digit]) for digit in digit_range}\n",
    "    test_latents_by_digit = {digit: model.latent_representation(test_input_features_by_digit[digit]) for digit in digit_range}\n",
    "training_latents_by_digit"
   ]
  },
  {
   "cell_type": "markdown",
   "id": "c8ef1dac-81ce-47c2-b624-986a4e1cff4a",
   "metadata": {},
   "source": [
    "## 4. Calculate pairwise distances between digits"
   ]
  },
  {
   "cell_type": "markdown",
   "id": "f519c858-37c8-44cf-9e22-3a4ce83cd2c0",
   "metadata": {},
   "source": [
    "Is the measure symmetric? No, and it's not deterministic either."
   ]
  },
  {
   "cell_type": "code",
   "execution_count": 17,
   "id": "af4f3b83-e147-4838-af56-88fe752e9813",
   "metadata": {},
   "outputs": [],
   "source": [
    "from xai.evaluation_metrics.distance.simplex_distance import SimplexDistance"
   ]
  },
  {
   "cell_type": "markdown",
   "id": "7258707d-77d1-4737-a705-3a7e57ff107f",
   "metadata": {},
   "source": [
    "Pairwise distance measures"
   ]
  },
  {
   "cell_type": "code",
   "execution_count": null,
   "id": "6a7a0f2c-d6a4-4fed-a1b5-c6328d4b93b8",
   "metadata": {
    "scrolled": true
   },
   "outputs": [
    {
     "name": "stdout",
     "output_type": "stream",
     "text": [
      "Running 0, 0\n",
      "Weight Fitting Epoch: 2000/10000 ; Error: 3.22e+04 ; Regulator: 70.4 ; Reg Factor: 0\n",
      "Weight Fitting Epoch: 4000/10000 ; Error: 2.47e+04 ; Regulator: 29.7 ; Reg Factor: 0\n",
      "Weight Fitting Epoch: 6000/10000 ; Error: 2.37e+04 ; Regulator: 19.3 ; Reg Factor: 0\n",
      "Weight Fitting Epoch: 8000/10000 ; Error: 2.34e+04 ; Regulator: 16.6 ; Reg Factor: 0\n",
      "Weight Fitting Epoch: 10000/10000 ; Error: 2.33e+04 ; Regulator: 15.9 ; Reg Factor: 0\n",
      "Running 0, 1\n",
      "Weight Fitting Epoch: 2000/10000 ; Error: 5.68e+04 ; Regulator: 75.8 ; Reg Factor: 0\n",
      "Weight Fitting Epoch: 4000/10000 ; Error: 4.71e+04 ; Regulator: 25.4 ; Reg Factor: 0\n",
      "Weight Fitting Epoch: 6000/10000 ; Error: 4.6e+04 ; Regulator: 11.8 ; Reg Factor: 0\n",
      "Weight Fitting Epoch: 8000/10000 ; Error: 4.57e+04 ; Regulator: 8.06 ; Reg Factor: 0\n",
      "Weight Fitting Epoch: 10000/10000 ; Error: 4.56e+04 ; Regulator: 7.02 ; Reg Factor: 0\n",
      "Running 0, 2\n",
      "Weight Fitting Epoch: 2000/10000 ; Error: 1.05e+05 ; Regulator: 76.4 ; Reg Factor: 0\n",
      "Weight Fitting Epoch: 4000/10000 ; Error: 9.52e+04 ; Regulator: 25.3 ; Reg Factor: 0\n",
      "Weight Fitting Epoch: 6000/10000 ; Error: 9.4e+04 ; Regulator: 14.2 ; Reg Factor: 0\n",
      "Weight Fitting Epoch: 8000/10000 ; Error: 9.37e+04 ; Regulator: 11.4 ; Reg Factor: 0\n",
      "Weight Fitting Epoch: 10000/10000 ; Error: 9.36e+04 ; Regulator: 10.7 ; Reg Factor: 0\n",
      "Running 0, 3\n",
      "Weight Fitting Epoch: 2000/10000 ; Error: 8.56e+04 ; Regulator: 62.9 ; Reg Factor: 0\n",
      "Weight Fitting Epoch: 4000/10000 ; Error: 7.69e+04 ; Regulator: 22.9 ; Reg Factor: 0\n",
      "Weight Fitting Epoch: 6000/10000 ; Error: 7.57e+04 ; Regulator: 11.2 ; Reg Factor: 0\n",
      "Weight Fitting Epoch: 8000/10000 ; Error: 7.54e+04 ; Regulator: 8.43 ; Reg Factor: 0\n",
      "Weight Fitting Epoch: 10000/10000 ; Error: 7.53e+04 ; Regulator: 7.68 ; Reg Factor: 0\n",
      "Running 0, 4\n",
      "Weight Fitting Epoch: 2000/10000 ; Error: 6.25e+04 ; Regulator: 58.5 ; Reg Factor: 0\n",
      "Weight Fitting Epoch: 4000/10000 ; Error: 5.29e+04 ; Regulator: 18.5 ; Reg Factor: 0\n",
      "Weight Fitting Epoch: 6000/10000 ; Error: 5.19e+04 ; Regulator: 9.85 ; Reg Factor: 0\n",
      "Weight Fitting Epoch: 8000/10000 ; Error: 5.16e+04 ; Regulator: 7.75 ; Reg Factor: 0\n",
      "Weight Fitting Epoch: 10000/10000 ; Error: 5.15e+04 ; Regulator: 7.08 ; Reg Factor: 0\n",
      "Running 0, 5\n",
      "Weight Fitting Epoch: 2000/10000 ; Error: 8.16e+04 ; Regulator: 70 ; Reg Factor: 0\n",
      "Weight Fitting Epoch: 4000/10000 ; Error: 7.36e+04 ; Regulator: 27.9 ; Reg Factor: 0\n",
      "Weight Fitting Epoch: 6000/10000 ; Error: 7.25e+04 ; Regulator: 16.9 ; Reg Factor: 0\n",
      "Weight Fitting Epoch: 8000/10000 ; Error: 7.22e+04 ; Regulator: 14.1 ; Reg Factor: 0\n",
      "Weight Fitting Epoch: 10000/10000 ; Error: 7.21e+04 ; Regulator: 13.4 ; Reg Factor: 0\n",
      "Running 0, 6\n",
      "Weight Fitting Epoch: 2000/10000 ; Error: 6.31e+04 ; Regulator: 60.9 ; Reg Factor: 0\n",
      "Weight Fitting Epoch: 4000/10000 ; Error: 5.65e+04 ; Regulator: 23.3 ; Reg Factor: 0\n",
      "Weight Fitting Epoch: 6000/10000 ; Error: 5.55e+04 ; Regulator: 13.1 ; Reg Factor: 0\n",
      "Weight Fitting Epoch: 8000/10000 ; Error: 5.53e+04 ; Regulator: 10.7 ; Reg Factor: 0\n",
      "Weight Fitting Epoch: 10000/10000 ; Error: 5.52e+04 ; Regulator: 10.1 ; Reg Factor: 0\n",
      "Running 0, 7\n",
      "Weight Fitting Epoch: 2000/10000 ; Error: 8.25e+04 ; Regulator: 76.1 ; Reg Factor: 0\n",
      "Weight Fitting Epoch: 4000/10000 ; Error: 7.29e+04 ; Regulator: 27 ; Reg Factor: 0\n",
      "Weight Fitting Epoch: 6000/10000 ; Error: 7.17e+04 ; Regulator: 15 ; Reg Factor: 0\n",
      "Weight Fitting Epoch: 8000/10000 ; Error: 7.14e+04 ; Regulator: 12.1 ; Reg Factor: 0\n",
      "Weight Fitting Epoch: 10000/10000 ; Error: 7.13e+04 ; Regulator: 11.3 ; Reg Factor: 0\n",
      "Running 0, 8\n",
      "Weight Fitting Epoch: 2000/10000 ; Error: 6.31e+04 ; Regulator: 65.9 ; Reg Factor: 0\n",
      "Weight Fitting Epoch: 4000/10000 ; Error: 5.57e+04 ; Regulator: 24.5 ; Reg Factor: 0\n",
      "Weight Fitting Epoch: 6000/10000 ; Error: 5.46e+04 ; Regulator: 12.6 ; Reg Factor: 0\n",
      "Weight Fitting Epoch: 8000/10000 ; Error: 5.44e+04 ; Regulator: 9.49 ; Reg Factor: 0\n",
      "Weight Fitting Epoch: 10000/10000 ; Error: 5.43e+04 ; Regulator: 8.58 ; Reg Factor: 0\n",
      "Running 0, 9\n",
      "Weight Fitting Epoch: 2000/10000 ; Error: 7.32e+04 ; Regulator: 78 ; Reg Factor: 0\n",
      "Weight Fitting Epoch: 4000/10000 ; Error: 6.41e+04 ; Regulator: 24.8 ; Reg Factor: 0\n",
      "Weight Fitting Epoch: 6000/10000 ; Error: 6.3e+04 ; Regulator: 12 ; Reg Factor: 0\n",
      "Weight Fitting Epoch: 8000/10000 ; Error: 6.27e+04 ; Regulator: 9.02 ; Reg Factor: 0\n",
      "Weight Fitting Epoch: 10000/10000 ; Error: 6.26e+04 ; Regulator: 8.18 ; Reg Factor: 0\n",
      "Running 1, 0\n",
      "Weight Fitting Epoch: 2000/10000 ; Error: 9.71e+04 ; Regulator: 73.9 ; Reg Factor: 0\n",
      "Weight Fitting Epoch: 4000/10000 ; Error: 9.11e+04 ; Regulator: 28.2 ; Reg Factor: 0\n",
      "Weight Fitting Epoch: 6000/10000 ; Error: 9.03e+04 ; Regulator: 16 ; Reg Factor: 0\n",
      "Weight Fitting Epoch: 8000/10000 ; Error: 9.01e+04 ; Regulator: 13.1 ; Reg Factor: 0\n",
      "Weight Fitting Epoch: 10000/10000 ; Error: 9e+04 ; Regulator: 12.3 ; Reg Factor: 0\n",
      "Running 1, 1\n",
      "Weight Fitting Epoch: 2000/10000 ; Error: 2.1e+04 ; Regulator: 68.4 ; Reg Factor: 0\n",
      "Weight Fitting Epoch: 4000/10000 ; Error: 1.62e+04 ; Regulator: 30 ; Reg Factor: 0\n",
      "Weight Fitting Epoch: 6000/10000 ; Error: 1.56e+04 ; Regulator: 21.5 ; Reg Factor: 0\n",
      "Weight Fitting Epoch: 8000/10000 ; Error: 1.55e+04 ; Regulator: 19.6 ; Reg Factor: 0\n",
      "Weight Fitting Epoch: 10000/10000 ; Error: 1.54e+04 ; Regulator: 19 ; Reg Factor: 0\n",
      "Running 1, 2\n",
      "Weight Fitting Epoch: 2000/10000 ; Error: 1.07e+05 ; Regulator: 76.1 ; Reg Factor: 0\n"
     ]
    }
   ],
   "source": [
    "results_dict = {k: {} for k in digit_range}\n",
    "for k in digit_range:\n",
    "    results_dict[k] = {k: np.nan for k in digit_range}\n",
    "\n",
    "for source_digit in digit_range:\n",
    "    for target_digit in digit_range:\n",
    "        print(f\"Running {source_digit}, {target_digit}\")\n",
    "        # Fit a simplex explainer\n",
    "        sd = SimplexDistance(model,\n",
    "                             training_input_features_by_digit[source_digit],\n",
    "                             test_input_features_by_digit[target_digit])\n",
    "        results_dict[source_digit][target_digit] = sd.distance()\n"
   ]
  },
  {
   "cell_type": "code",
   "execution_count": null,
   "id": "7cd8bde5-6f28-4c65-9c6a-360d1118f47e",
   "metadata": {},
   "outputs": [],
   "source": [
    "with open('pairwise_digit_distances_source_vs_test.pkl', 'wb') as handle:\n",
    "    pickle.dump(results_dict, handle, protocol=pickle.HIGHEST_PROTOCOL)"
   ]
  },
  {
   "cell_type": "code",
   "execution_count": null,
   "id": "506f7b4a-0b85-4190-b6f2-ced5e84763b0",
   "metadata": {},
   "outputs": [],
   "source": [
    "results_df = pd.DataFrame(results_dict)\n",
    "results_df"
   ]
  },
  {
   "cell_type": "code",
   "execution_count": null,
   "id": "adc5800c-6b59-40a6-8e3d-bd2902bd1916",
   "metadata": {
    "scrolled": true
   },
   "outputs": [],
   "source": [
    "plt.imshow(results_df, cmap='gray')"
   ]
  },
  {
   "cell_type": "code",
   "execution_count": null,
   "id": "abf6142c-2e72-40f6-9d17-d207d4eb0497",
   "metadata": {},
   "outputs": [],
   "source": [
    "results_df.clip(0.02, 0.04)"
   ]
  },
  {
   "cell_type": "code",
   "execution_count": null,
   "id": "2f5c8737-3c0a-4a19-be11-b6ef69c5a072",
   "metadata": {},
   "outputs": [],
   "source": [
    "plt.imshow(results_df.clip(0.02, 0.04), cmap='gray')"
   ]
  },
  {
   "cell_type": "markdown",
   "id": "f04424a8-3901-48ed-ba6e-8573491481dd",
   "metadata": {},
   "source": [
    "Targets are on y-axis, source on x-axis"
   ]
  },
  {
   "cell_type": "markdown",
   "id": "1ac8004e-3bef-433e-97e8-064d10ea7eab",
   "metadata": {},
   "source": [
    "## 5. How does this compare to pairwise (mis)classifications\n",
    "Use the same model to predict classifications. Do the results look similar?\n",
    "Do the latents show any potential misclassifications that haven't occurred in the test data yet but we should be wary of\n",
    "if running this model in practice?"
   ]
  },
  {
   "cell_type": "code",
   "execution_count": null,
   "id": "0f3e0e89-bdf4-46fb-bfea-27befa477eda",
   "metadata": {},
   "outputs": [],
   "source": [
    "from sklearn.metrics import accuracy_score, f1_score, roc_auc_score"
   ]
  },
  {
   "cell_type": "code",
   "execution_count": null,
   "id": "31b7da4c-30f4-4f55-bc6c-0e86dccc83ba",
   "metadata": {},
   "outputs": [],
   "source": [
    "with torch.no_grad():\n",
    "    output_probs = model.probabilities(test_inputs)\n",
    "output_probs"
   ]
  },
  {
   "cell_type": "code",
   "execution_count": null,
   "id": "731bb4b9-a2ea-4ad6-876b-3b21529e1f32",
   "metadata": {},
   "outputs": [],
   "source": [
    "predicted_classes = torch.argmax(output_probs, dim=1)\n",
    "predicted_classes"
   ]
  },
  {
   "cell_type": "markdown",
   "id": "e19a77ba-9793-42c3-802b-399bbb80e1e6",
   "metadata": {},
   "source": [
    "Accuracy measures"
   ]
  },
  {
   "cell_type": "code",
   "execution_count": null,
   "id": "03cb941a-d54a-4f19-a417-73ffad9222d1",
   "metadata": {},
   "outputs": [],
   "source": [
    "accuracy_score(test_labels, predicted_classes)"
   ]
  },
  {
   "cell_type": "markdown",
   "id": "dc234f31-100e-46d8-896f-3de56bd19a40",
   "metadata": {},
   "source": [
    "Accuracy by class"
   ]
  },
  {
   "cell_type": "code",
   "execution_count": null,
   "id": "14942eaa-3a3a-4ab3-94cc-3fb1dd2ca96b",
   "metadata": {},
   "outputs": [],
   "source": [
    "accuracy_by_digit = {\n",
    "    digit: accuracy_score(test_labels[test_labels==digit], predicted_classes[test_labels==digit]) \n",
    "    for digit in digit_range\n",
    "}\n",
    "accuracy_by_digit"
   ]
  },
  {
   "cell_type": "markdown",
   "id": "df0ecdd7-06a5-4c50-98a9-dcb25d7d17b1",
   "metadata": {},
   "source": [
    "AUC"
   ]
  },
  {
   "cell_type": "code",
   "execution_count": null,
   "id": "6095345e-91fe-4756-90b6-517eb3fb5d26",
   "metadata": {},
   "outputs": [],
   "source": [
    "roc_auc_score(test_labels, output_probs.detach(), multi_class='ovr')"
   ]
  },
  {
   "cell_type": "code",
   "execution_count": null,
   "id": "6dd9ebff-44f4-4799-9d35-42e830b2ce39",
   "metadata": {},
   "outputs": [],
   "source": [
    "roc_auc_score(test_labels, output_probs.detach(), multi_class='ovo')"
   ]
  },
  {
   "cell_type": "markdown",
   "id": "81854a41-e9b3-4ab2-a131-333e8b05eaef",
   "metadata": {},
   "source": [
    "Pairwise plot of misclassifications"
   ]
  },
  {
   "cell_type": "code",
   "execution_count": null,
   "id": "d354e413-cee2-4e21-99d6-ed204e63407a",
   "metadata": {},
   "outputs": [],
   "source": [
    "accuracy_dict = {k: {} for k in digit_range}\n",
    "for k in digit_range:\n",
    "    accuracy_dict[k] = {k: np.nan for k in digit_range}\n",
    "\n",
    "for true_digit in digit_range:\n",
    "    mask = test_labels==true_digit\n",
    "    predictions_for_digit = predicted_classes[mask]\n",
    "    digit_count_total = float(torch.sum(mask))\n",
    "    for predicted_digit in digit_range:\n",
    "        digit_count_pred = float(torch.sum(predictions_for_digit == predicted_digit))\n",
    "        accuracy_dict[true_digit][predicted_digit] = digit_count_pred / digit_count_total\n",
    "        \n"
   ]
  },
  {
   "cell_type": "code",
   "execution_count": null,
   "id": "e4d714e2-3db1-4c6b-b6e8-964296049cc1",
   "metadata": {
    "scrolled": true
   },
   "outputs": [],
   "source": [
    "accuracy_df = pd.DataFrame(accuracy_dict)\n",
    "accuracy_df"
   ]
  },
  {
   "cell_type": "code",
   "execution_count": null,
   "id": "62dc3f44-f8f4-4b3d-b763-9db519e807e2",
   "metadata": {},
   "outputs": [],
   "source": [
    "with open('pairwise_digit_distances_source_vs_test.pkl', 'wb') as handle:\n",
    "    pickle.dump(results_dict, handle, protocol=pickle.HIGHEST_PROTOCOL)"
   ]
  },
  {
   "cell_type": "code",
   "execution_count": null,
   "id": "c1d43ad2-cdbb-4af9-9503-e2b2578d53b4",
   "metadata": {},
   "outputs": [],
   "source": []
  },
  {
   "cell_type": "code",
   "execution_count": null,
   "id": "865fc3da-bec1-492b-bacd-832301d898e4",
   "metadata": {},
   "outputs": [],
   "source": []
  },
  {
   "cell_type": "markdown",
   "id": "1d0b8dc7-197d-4426-9c85-0a793377a066",
   "metadata": {},
   "source": [
    "Plots to compare accuracy and distances"
   ]
  },
  {
   "cell_type": "code",
   "execution_count": 121,
   "id": "9b5a199c-b6a4-4210-81a9-7005d0932120",
   "metadata": {},
   "outputs": [
    {
     "data": {
      "text/plain": [
       "0.8559322033898306"
      ]
     },
     "execution_count": 121,
     "metadata": {},
     "output_type": "execute_result"
    }
   ],
   "source": [
    "# Smallest value on diagonal\n",
    "min_true_pct = np.min(np.diag(accuracy_df))\n",
    "min_true_pct"
   ]
  },
  {
   "cell_type": "code",
   "execution_count": 123,
   "id": "ac0457f1-64c6-4805-ba2d-2a025387a02d",
   "metadata": {},
   "outputs": [
    {
     "data": {
      "text/plain": [
       "0.045871559633027525"
      ]
     },
     "execution_count": 123,
     "metadata": {},
     "output_type": "execute_result"
    }
   ],
   "source": [
    "max_false_pct = np.max(accuracy_df[accuracy_df < min_true_pct])\n",
    "max_false_pct"
   ]
  },
  {
   "cell_type": "code",
   "execution_count": 130,
   "id": "ca970861-0167-496a-aada-4fd985fa8a9c",
   "metadata": {},
   "outputs": [
    {
     "data": {
      "text/plain": [
       "<matplotlib.image.AxesImage at 0x7f85be1940d0>"
      ]
     },
     "execution_count": 130,
     "metadata": {},
     "output_type": "execute_result"
    },
    {
     "data": {
      "image/png": "[encoded data removed]",
      "text/plain": [
       "<Figure size 640x480 with 1 Axes>"
      ]
     },
     "metadata": {},
     "output_type": "display_data"
    }
   ],
   "source": [
    "plt.imshow(accuracy_df.clip(0., 0.2), cmap='gray_r', )"
   ]
  },
  {
   "cell_type": "code",
   "execution_count": 47,
   "id": "39eb04dd-4a7a-47ad-8834-d108934da1a9",
   "metadata": {},
   "outputs": [
    {
     "data": {
      "text/plain": [
       "<matplotlib.image.AxesImage at 0x7f85c8d25850>"
      ]
     },
     "execution_count": 47,
     "metadata": {},
     "output_type": "execute_result"
    },
    {
     "data": {
      "image/png": "[encoded data removed]",
      "text/plain": [
       "<Figure size 640x480 with 1 Axes>"
      ]
     },
     "metadata": {},
     "output_type": "display_data"
    }
   ],
   "source": [
    "plt.imshow(results_df.clip(0.02, 0.04), cmap='gray')"
   ]
  },
  {
   "cell_type": "code",
   "execution_count": 131,
   "id": "09506202-5569-4bd2-9507-42cd49cbc80b",
   "metadata": {},
   "outputs": [
    {
     "data": {
      "text/plain": [
       "{0: 0.9690721649484536,\n",
       " 1: 0.9803921568627451,\n",
       " 2: 0.8990825688073395,\n",
       " 3: 0.9296875,\n",
       " 4: 0.8990825688073395,\n",
       " 5: 0.9320388349514563,\n",
       " 6: 0.9753086419753086,\n",
       " 7: 0.9473684210526315,\n",
       " 8: 0.8559322033898306,\n",
       " 9: 0.9306930693069307}"
      ]
     },
     "execution_count": 131,
     "metadata": {},
     "output_type": "execute_result"
    }
   ],
   "source": [
    "accuracy_by_digit"
   ]
  },
  {
   "cell_type": "markdown",
   "id": "72da6446-51ae-4bb9-a612-fbf5e5a48e48",
   "metadata": {},
   "source": [
    "The accuracy is so high that the misclassifications are not meaningful as there are so few.\n",
    "\n",
    "But the distances use the entire test set."
   ]
  },
  {
   "cell_type": "code",
   "execution_count": null,
   "id": "3e9218e6-7cfc-4a4c-9d90-5c9c8c0b3329",
   "metadata": {},
   "outputs": [],
   "source": []
  },
  {
   "cell_type": "code",
   "execution_count": null,
   "id": "99ebe018-a2dc-43a4-bb2f-d8eb0f8cbffc",
   "metadata": {},
   "outputs": [],
   "source": []
  },
  {
   "cell_type": "markdown",
   "id": "354d10fd-5da6-424a-aeed-08bfb4b847ae",
   "metadata": {
    "jp-MarkdownHeadingCollapsed": true
   },
   "source": [
    "# Scratch"
   ]
  },
  {
   "cell_type": "code",
   "execution_count": 19,
   "id": "675ff598-e798-4df9-83e4-c68ef3169fdc",
   "metadata": {},
   "outputs": [],
   "source": [
    "sd1 = SimplexDistance(model, input_features_by_digit[0], input_features_by_digit[1])"
   ]
  },
  {
   "cell_type": "code",
   "execution_count": 20,
   "id": "82c112bb-15c0-4afe-953a-35c0337ec5bd",
   "metadata": {},
   "outputs": [
    {
     "name": "stdout",
     "output_type": "stream",
     "text": [
      "Weight Fitting Epoch: 2000/10000 ; Error: 5.51e+04 ; Regulator: 69.3 ; Reg Factor: 0\n",
      "Weight Fitting Epoch: 4000/10000 ; Error: 4.9e+04 ; Regulator: 25.2 ; Reg Factor: 0\n",
      "Weight Fitting Epoch: 6000/10000 ; Error: 4.81e+04 ; Regulator: 13.7 ; Reg Factor: 0\n",
      "Weight Fitting Epoch: 8000/10000 ; Error: 4.79e+04 ; Regulator: 11 ; Reg Factor: 0\n",
      "Weight Fitting Epoch: 10000/10000 ; Error: 4.78e+04 ; Regulator: 10.3 ; Reg Factor: 0\n"
     ]
    },
    {
     "name": "stderr",
     "output_type": "stream",
     "text": [
      "/tmp/ipykernel_647024/1845556788.py:1: DeprecationWarning: `product` is deprecated as of NumPy 1.25.0, and will be removed in NumPy 2.0. Please use `prod` instead.\n",
      "  sd1.distance()\n"
     ]
    },
    {
     "data": {
      "text/plain": [
       "0.04286562152937347"
      ]
     },
     "execution_count": 20,
     "metadata": {},
     "output_type": "execute_result"
    }
   ],
   "source": [
    "sd1.distance()"
   ]
  },
  {
   "cell_type": "code",
   "execution_count": 158,
   "id": "a943a6ce-5c5a-44b5-8e75-22dc4a79835a",
   "metadata": {},
   "outputs": [],
   "source": [
    "sd2 = SimplexDistance(model, input_features_by_digit[1], input_features_by_digit[0])"
   ]
  },
  {
   "cell_type": "code",
   "execution_count": 159,
   "id": "4f0909f8-6a90-411f-97f0-e93a02405d9d",
   "metadata": {},
   "outputs": [
    {
     "name": "stdout",
     "output_type": "stream",
     "text": [
      "Weight Fitting Epoch: 2000/10000 ; Error: 9.75e+04 ; Regulator: 76.8 ; Reg Factor: 0\n",
      "Weight Fitting Epoch: 4000/10000 ; Error: 9.09e+04 ; Regulator: 29.8 ; Reg Factor: 0\n",
      "Weight Fitting Epoch: 6000/10000 ; Error: 8.99e+04 ; Regulator: 15.3 ; Reg Factor: 0\n",
      "Weight Fitting Epoch: 8000/10000 ; Error: 8.97e+04 ; Regulator: 11.7 ; Reg Factor: 0\n",
      "Weight Fitting Epoch: 10000/10000 ; Error: 8.97e+04 ; Regulator: 10.6 ; Reg Factor: 0\n"
     ]
    },
    {
     "data": {
      "text/plain": [
       "299.4393310546875"
      ]
     },
     "execution_count": 159,
     "metadata": {},
     "output_type": "execute_result"
    }
   ],
   "source": [
    "sd2.distance()"
   ]
  },
  {
   "cell_type": "code",
   "execution_count": 160,
   "id": "ce99d0c3-6475-49cb-8a3c-9bf4f0964346",
   "metadata": {},
   "outputs": [
    {
     "data": {
      "text/plain": [
       "260.53839111328125"
      ]
     },
     "execution_count": 160,
     "metadata": {},
     "output_type": "execute_result"
    }
   ],
   "source": [
    "sd3 = SimplexDistance(model, input_features_by_digit[0], input_features_by_digit[1], simplex=sd1.simplex)\n",
    "sd3.distance()"
   ]
  },
  {
   "cell_type": "code",
   "execution_count": 161,
   "id": "4c5ef583-2f6a-4d3b-8203-510687cab5a2",
   "metadata": {},
   "outputs": [
    {
     "name": "stdout",
     "output_type": "stream",
     "text": [
      "Weight Fitting Epoch: 2000/10000 ; Error: 3.41e+04 ; Regulator: 70.3 ; Reg Factor: 0\n",
      "Weight Fitting Epoch: 4000/10000 ; Error: 2.6e+04 ; Regulator: 30.7 ; Reg Factor: 0\n",
      "Weight Fitting Epoch: 6000/10000 ; Error: 2.48e+04 ; Regulator: 20.7 ; Reg Factor: 0\n",
      "Weight Fitting Epoch: 8000/10000 ; Error: 2.45e+04 ; Regulator: 18.1 ; Reg Factor: 0\n",
      "Weight Fitting Epoch: 10000/10000 ; Error: 2.44e+04 ; Regulator: 17.4 ; Reg Factor: 0\n"
     ]
    },
    {
     "data": {
      "text/plain": [
       "156.2950439453125"
      ]
     },
     "execution_count": 161,
     "metadata": {},
     "output_type": "execute_result"
    }
   ],
   "source": [
    "sd4 = SimplexDistance(model, input_features_by_digit[0], input_features_by_digit[0])\n",
    "sd4.distance()"
   ]
  },
  {
   "cell_type": "code",
   "execution_count": 162,
   "id": "b0025459-6cc7-41fc-b25a-8de557e6b438",
   "metadata": {},
   "outputs": [
    {
     "name": "stdout",
     "output_type": "stream",
     "text": [
      "Weight Fitting Epoch: 2000/10000 ; Error: 6.2e+04 ; Regulator: 67.8 ; Reg Factor: 0\n",
      "Weight Fitting Epoch: 4000/10000 ; Error: 5.6e+04 ; Regulator: 28.7 ; Reg Factor: 0\n",
      "Weight Fitting Epoch: 6000/10000 ; Error: 5.52e+04 ; Regulator: 17.6 ; Reg Factor: 0\n",
      "Weight Fitting Epoch: 8000/10000 ; Error: 5.49e+04 ; Regulator: 15 ; Reg Factor: 0\n",
      "Weight Fitting Epoch: 10000/10000 ; Error: 5.49e+04 ; Regulator: 14.4 ; Reg Factor: 0\n"
     ]
    },
    {
     "data": {
      "text/plain": [
       "234.23135375976562"
      ]
     },
     "execution_count": 162,
     "metadata": {},
     "output_type": "execute_result"
    }
   ],
   "source": [
    "sd5 = SimplexDistance(model, input_features_by_digit[0], input_features_by_digit[8])\n",
    "sd5.distance()"
   ]
  },
  {
   "cell_type": "code",
   "execution_count": 163,
   "id": "ed55ee75-238b-4bee-98cb-61d08a33bf04",
   "metadata": {},
   "outputs": [
    {
     "name": "stdout",
     "output_type": "stream",
     "text": [
      "Weight Fitting Epoch: 2000/10000 ; Error: 2.14e+04 ; Regulator: 84.2 ; Reg Factor: 0\n",
      "Weight Fitting Epoch: 4000/10000 ; Error: 1.62e+04 ; Regulator: 39.3 ; Reg Factor: 0\n",
      "Weight Fitting Epoch: 6000/10000 ; Error: 1.55e+04 ; Regulator: 27.9 ; Reg Factor: 0\n",
      "Weight Fitting Epoch: 8000/10000 ; Error: 1.53e+04 ; Regulator: 25.1 ; Reg Factor: 0\n",
      "Weight Fitting Epoch: 10000/10000 ; Error: 1.53e+04 ; Regulator: 24.4 ; Reg Factor: 0\n"
     ]
    },
    {
     "data": {
      "text/plain": [
       "123.58036804199219"
      ]
     },
     "execution_count": 163,
     "metadata": {},
     "output_type": "execute_result"
    }
   ],
   "source": [
    "sd6 = SimplexDistance(model, input_features_by_digit[1], input_features_by_digit[1])\n",
    "sd6.distance()"
   ]
  },
  {
   "cell_type": "markdown",
   "id": "cc6c7b41-5068-453b-a481-5dc60045fefa",
   "metadata": {},
   "source": [
    "Can we scale the distance measure better?"
   ]
  },
  {
   "cell_type": "code",
   "execution_count": 118,
   "id": "1306894a-0ae5-4730-b591-a275860b79ae",
   "metadata": {},
   "outputs": [],
   "source": [
    "self = sd1"
   ]
  },
  {
   "cell_type": "code",
   "execution_count": 119,
   "id": "95c36776-27de-4839-909d-6daab00bc933",
   "metadata": {},
   "outputs": [],
   "source": [
    "target_latents_approx = self.simplex.latent_approx()"
   ]
  },
  {
   "cell_type": "code",
   "execution_count": 121,
   "id": "3a82e868-da7a-4e24-8aac-f6ea6be9a3d3",
   "metadata": {},
   "outputs": [
    {
     "data": {
      "text/plain": [
       "torch.Size([122, 50])"
      ]
     },
     "execution_count": 121,
     "metadata": {},
     "output_type": "execute_result"
    }
   ],
   "source": [
    "target_latents_approx.shape"
   ]
  },
  {
   "cell_type": "code",
   "execution_count": 123,
   "id": "222a104b-e334-4550-9a29-9731e41d78bc",
   "metadata": {},
   "outputs": [
    {
     "data": {
      "text/plain": [
       "torch.Size([122, 50])"
      ]
     },
     "execution_count": 123,
     "metadata": {},
     "output_type": "execute_result"
    }
   ],
   "source": [
    "self.target_latents.shape"
   ]
  },
  {
   "cell_type": "code",
   "execution_count": 124,
   "id": "117b8b80-8369-4b5a-9332-d30a997f003a",
   "metadata": {},
   "outputs": [],
   "source": [
    "self._distance_per_point = self.target_latents - target_latents_approx"
   ]
  },
  {
   "cell_type": "code",
   "execution_count": 132,
   "id": "cdd8539e-9980-47c1-8e6b-73561143fed9",
   "metadata": {},
   "outputs": [
    {
     "data": {
      "text/plain": [
       "torch.Size([122, 50])"
      ]
     },
     "execution_count": 132,
     "metadata": {},
     "output_type": "execute_result"
    }
   ],
   "source": [
    "self._distance_per_point.shape"
   ]
  },
  {
   "cell_type": "code",
   "execution_count": 147,
   "id": "aec0e45a-1b95-4c81-a636-a43f729ec7ce",
   "metadata": {},
   "outputs": [
    {
     "data": {
      "text/plain": [
       "6100"
      ]
     },
     "execution_count": 147,
     "metadata": {},
     "output_type": "execute_result"
    }
   ],
   "source": []
  },
  {
   "cell_type": "code",
   "execution_count": 129,
   "id": "fec70fe4-f52c-4b90-8c1c-36ee58eebbfa",
   "metadata": {},
   "outputs": [
    {
     "data": {
      "text/plain": [
       "tensor(246.6844)"
      ]
     },
     "execution_count": 129,
     "metadata": {},
     "output_type": "execute_result"
    }
   ],
   "source": [
    "residual = torch.sqrt(torch.sum(self._distance_per_point ** 2)) \n",
    "residual"
   ]
  },
  {
   "cell_type": "code",
   "execution_count": 137,
   "id": "033fa231-3e57-48a9-9fd3-fbc647b9e61c",
   "metadata": {},
   "outputs": [
    {
     "data": {
      "text/plain": [
       "122"
      ]
     },
     "execution_count": 137,
     "metadata": {},
     "output_type": "execute_result"
    }
   ],
   "source": [
    "self.target_latents.shape[0]"
   ]
  },
  {
   "cell_type": "code",
   "execution_count": 139,
   "id": "65188b30-eae5-42e7-a6c2-2215c10ac9d6",
   "metadata": {},
   "outputs": [
    {
     "data": {
      "text/plain": [
       "tensor(246.6844)"
      ]
     },
     "execution_count": 139,
     "metadata": {},
     "output_type": "execute_result"
    }
   ],
   "source": [
    "torch.norm(self._distance_per_point)"
   ]
  },
  {
   "cell_type": "code",
   "execution_count": 141,
   "id": "625ef0fd-9fa4-4304-ac8b-9ce092fb7f83",
   "metadata": {},
   "outputs": [
    {
     "data": {
      "text/plain": [
       "tensor(246.6844)"
      ]
     },
     "execution_count": 141,
     "metadata": {},
     "output_type": "execute_result"
    }
   ],
   "source": [
    "torch.norm(self._distance_per_point, p=2)"
   ]
  },
  {
   "cell_type": "code",
   "execution_count": 144,
   "id": "da7c0629-8888-4bc4-b85e-7672655d4505",
   "metadata": {},
   "outputs": [
    {
     "data": {
      "text/plain": [
       "0.04044007137417793"
      ]
     },
     "execution_count": 144,
     "metadata": {},
     "output_type": "execute_result"
    }
   ],
   "source": [
    "float(residual / (122 * 50))\n"
   ]
  },
  {
   "cell_type": "code",
   "execution_count": null,
   "id": "fd5169e0-0700-4b90-b642-c61975233322",
   "metadata": {},
   "outputs": [],
   "source": []
  },
  {
   "cell_type": "code",
   "execution_count": 164,
   "id": "107fab08-2692-4cd0-88e5-daeaae781a7e",
   "metadata": {},
   "outputs": [
    {
     "data": {
      "text/plain": [
       "0.04066192626953125"
      ]
     },
     "execution_count": 164,
     "metadata": {},
     "output_type": "execute_result"
    }
   ],
   "source": [
    "self = sd1\n",
    "self.distance() / (np.product(self._distance_per_point.shape))"
   ]
  },
  {
   "cell_type": "code",
   "execution_count": 165,
   "id": "066130b8-b408-45d5-a534-76ce2cefa53d",
   "metadata": {},
   "outputs": [
    {
     "data": {
      "text/plain": [
       "0.05649798699145047"
      ]
     },
     "execution_count": 165,
     "metadata": {},
     "output_type": "execute_result"
    }
   ],
   "source": [
    "self = sd2\n",
    "self.distance() / (np.product(self._distance_per_point.shape))"
   ]
  },
  {
   "cell_type": "code",
   "execution_count": 166,
   "id": "9cca478d-6eac-4c2e-95dc-5fe95d469e4e",
   "metadata": {
    "scrolled": true
   },
   "outputs": [
    {
     "data": {
      "text/plain": [
       "0.04271121165791496"
      ]
     },
     "execution_count": 166,
     "metadata": {},
     "output_type": "execute_result"
    }
   ],
   "source": [
    "self = sd3\n",
    "self.distance() / (np.product(self._distance_per_point.shape))"
   ]
  },
  {
   "cell_type": "code",
   "execution_count": 167,
   "id": "8342b2dd-3600-4526-bb1f-cc6fde6fbcc6",
   "metadata": {
    "scrolled": true
   },
   "outputs": [
    {
     "data": {
      "text/plain": [
       "0.02948963093307783"
      ]
     },
     "execution_count": 167,
     "metadata": {},
     "output_type": "execute_result"
    }
   ],
   "source": [
    "self = sd4\n",
    "self.distance() / (np.product(self._distance_per_point.shape))"
   ]
  },
  {
   "cell_type": "code",
   "execution_count": 168,
   "id": "2cd2d7c8-0a0f-419f-90a5-8ed89c5af509",
   "metadata": {
    "scrolled": true
   },
   "outputs": [
    {
     "data": {
      "text/plain": [
       "0.048295124486549615"
      ]
     },
     "execution_count": 168,
     "metadata": {},
     "output_type": "execute_result"
    }
   ],
   "source": [
    "self = sd5\n",
    "self.distance() / (np.product(self._distance_per_point.shape))"
   ]
  },
  {
   "cell_type": "code",
   "execution_count": 169,
   "id": "179e5b2e-24b2-489c-a4b4-d4e667d1565b",
   "metadata": {
    "scrolled": true
   },
   "outputs": [
    {
     "data": {
      "text/plain": [
       "0.020259076728195442"
      ]
     },
     "execution_count": 169,
     "metadata": {},
     "output_type": "execute_result"
    }
   ],
   "source": [
    "self = sd6\n",
    "self.distance() / (np.product(self._distance_per_point.shape))"
   ]
  },
  {
   "cell_type": "code",
   "execution_count": null,
   "id": "bdcb981a-633b-4abe-8f1b-9a8bd27e88d2",
   "metadata": {},
   "outputs": [],
   "source": []
  }
 ],
 "metadata": {
  "kernelspec": {
   "display_name": "Python 3 (ipykernel)",
   "language": "python",
   "name": "python3"
  },
  "language_info": {
   "codemirror_mode": {
    "name": "ipython",
    "version": 3
   },
   "file_extension": ".py",
   "mimetype": "text/x-python",
   "name": "python",
   "nbconvert_exporter": "python",
   "pygments_lexer": "ipython3",
   "version": "3.11.5"
  }
 },
 "nbformat": 4,
 "nbformat_minor": 5
}
