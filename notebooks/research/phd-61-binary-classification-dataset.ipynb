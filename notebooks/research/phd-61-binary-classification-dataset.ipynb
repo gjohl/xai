{
 "cells": [
  {
   "cell_type": "markdown",
   "id": "1bd87824-e02d-4cdc-8746-1f859525c07f",
   "metadata": {},
   "source": [
    "# Reframe the MNIST dataset as a binary classification problem\n",
    "We want to train a binary classifier on training data containing only 0s and 1s.\n",
    "Then introduce varying amounts of out-of-sample examples (2-9 digits).\n",
    "Then we can see the effect on accuracy and distance."
   ]
  },
  {
   "cell_type": "markdown",
   "id": "e389c4ca-2bc5-4053-afbc-82b354a6c16a",
   "metadata": {},
   "source": [
    "## 1. Brute force the existing dataloader"
   ]
  },
  {
   "cell_type": "code",
   "execution_count": 6,
   "id": "af9eb266-72b6-44f6-a21e-61a6d45644c0",
   "metadata": {},
   "outputs": [],
   "source": [
    "import numpy as np\n",
    "import pandas as pd\n",
    "\n",
    "from xai.data_handlers.mnist import load_mnist"
   ]
  },
  {
   "cell_type": "code",
   "execution_count": 11,
   "id": "1711cdc5-c59c-49dc-8b15-0d7999629b33",
   "metadata": {},
   "outputs": [],
   "source": [
    "# Load corpus and test inputs\n",
    "batch_size = 1024\n",
    "# batch_size_test = 1000\n",
    "\n",
    "corpus_loader = load_mnist(subset_size=8192, train=True, batch_size=batch_size) # MNIST train loader\n",
    "test_loader = load_mnist(subset_size=1024, train=False, batch_size=batch_size) # MNIST test loader\n",
    "corpus_inputs, corpus_labels = next(iter(corpus_loader)) # A tensor of corpus inputs\n",
    "test_inputs, test_labels = next(iter(test_loader)) # A set of inputs to explain"
   ]
  },
  {
   "cell_type": "markdown",
   "id": "b039a269-27e0-49bb-9fac-45e764715075",
   "metadata": {},
   "source": [
    "If we use a large enough batch size, are the examples boradly uniformly distributed?"
   ]
  },
  {
   "cell_type": "code",
   "execution_count": 25,
   "id": "0776136c-ca0d-4049-977d-810a642d74e1",
   "metadata": {},
   "outputs": [
    {
     "name": "stdout",
     "output_type": "stream",
     "text": [
      "1: 126\n",
      "2: 128\n",
      "3: 121\n",
      "4: 110\n",
      "5: 133\n",
      "6: 104\n",
      "7: 113\n",
      "8: 105\n"
     ]
    }
   ],
   "source": [
    "idx = 1\n",
    "for corpus_inputs, corpus_labels in corpus_loader:\n",
    "    digit_to_count = 1\n",
    "    count_df = pd.DataFrame(corpus_labels).value_counts()\n",
    "    print(f\"{idx}: {count_df.loc[digit_to_count].iloc[0]}\")\n",
    "    idx += 1\n",
    "    "
   ]
  },
  {
   "cell_type": "code",
   "execution_count": 26,
   "id": "19a318dc-6db5-4d4c-8788-ff5a42dba621",
   "metadata": {},
   "outputs": [
    {
     "name": "stdout",
     "output_type": "stream",
     "text": [
      "1: 89\n",
      "2: 98\n",
      "3: 105\n",
      "4: 103\n",
      "5: 111\n",
      "6: 97\n",
      "7: 84\n",
      "8: 92\n"
     ]
    }
   ],
   "source": [
    "idx = 1\n",
    "for corpus_inputs, corpus_labels in corpus_loader:\n",
    "    digit_to_count = 0\n",
    "    count_df = pd.DataFrame(corpus_labels).value_counts()\n",
    "    print(f\"{idx}: {count_df.loc[digit_to_count].iloc[0]}\")\n",
    "    idx += 1\n",
    "    "
   ]
  },
  {
   "cell_type": "markdown",
   "id": "b4e8117a-efd1-4560-99b9-41b76f71749e",
   "metadata": {},
   "source": [
    "In a pinch, we could load much larger batches and just filter down and hope there are enough"
   ]
  },
  {
   "cell_type": "markdown",
   "id": "13ca1349-697a-4ac3-89ec-74bd2ba95055",
   "metadata": {},
   "source": [
    "Are the corpuses the same over reruns? No"
   ]
  },
  {
   "cell_type": "code",
   "execution_count": 30,
   "id": "cd7ec045-cd2b-4635-a9b1-d7d0827c21b2",
   "metadata": {},
   "outputs": [],
   "source": [
    "corpus_loader_a = load_mnist(subset_size=8192, train=True, batch_size=batch_size) # MNIST train loader\n",
    "corpus_inputs_a, corpus_labels_a = next(iter(corpus_loader_a)) # A tensor of corpus inputs\n",
    "\n",
    "corpus_loader_b = load_mnist(subset_size=8192, train=True, batch_size=batch_size) # MNIST train loader\n",
    "corpus_inputs_b, corpus_labels_b = next(iter(corpus_loader_b)) # A tensor of corpus inputs\n"
   ]
  },
  {
   "cell_type": "code",
   "execution_count": 36,
   "id": "b3663bd4-b632-428d-9fcc-7bd1e9edb867",
   "metadata": {},
   "outputs": [
    {
     "data": {
      "text/plain": [
       "False"
      ]
     },
     "execution_count": 36,
     "metadata": {},
     "output_type": "execute_result"
    }
   ],
   "source": [
    "torch.equal(corpus_inputs_a, corpus_inputs_b)"
   ]
  },
  {
   "cell_type": "code",
   "execution_count": 37,
   "id": "a7b8abf3-2012-4a65-83a8-bad3079a8bfe",
   "metadata": {},
   "outputs": [
    {
     "data": {
      "text/plain": [
       "False"
      ]
     },
     "execution_count": 37,
     "metadata": {},
     "output_type": "execute_result"
    }
   ],
   "source": [
    "torch.equal(corpus_labels_a, corpus_labels_b)"
   ]
  },
  {
   "cell_type": "markdown",
   "id": "353b6619-612e-4a6b-b86e-17af3387c7bc",
   "metadata": {},
   "source": [
    "## 2. Use the torch data set"
   ]
  },
  {
   "cell_type": "code",
   "execution_count": 27,
   "id": "9b61bbad-9b04-4e3d-98b2-d92e4bd587bb",
   "metadata": {},
   "outputs": [],
   "source": [
    "import torch\n",
    "from torch.utils.data import DataLoader\n",
    "import torchvision\n",
    "\n",
    "from xai.constants import DATA_DIR\n",
    "\n",
    "\n",
    "DEFAULT_MNIST_NORMALIZATION = (0.1307,), (0.3081,)"
   ]
  },
  {
   "cell_type": "code",
   "execution_count": 28,
   "id": "66426712-9347-4b8a-83ad-498720f1bdfd",
   "metadata": {},
   "outputs": [
    {
     "data": {
      "text/plain": [
       "\u001b[0;31mInit signature:\u001b[0m\n",
       "\u001b[0mtorchvision\u001b[0m\u001b[0;34m.\u001b[0m\u001b[0mdatasets\u001b[0m\u001b[0;34m.\u001b[0m\u001b[0mMNIST\u001b[0m\u001b[0;34m(\u001b[0m\u001b[0;34m\u001b[0m\n",
       "\u001b[0;34m\u001b[0m    \u001b[0mroot\u001b[0m\u001b[0;34m:\u001b[0m \u001b[0mstr\u001b[0m\u001b[0;34m,\u001b[0m\u001b[0;34m\u001b[0m\n",
       "\u001b[0;34m\u001b[0m    \u001b[0mtrain\u001b[0m\u001b[0;34m:\u001b[0m \u001b[0mbool\u001b[0m \u001b[0;34m=\u001b[0m \u001b[0;32mTrue\u001b[0m\u001b[0;34m,\u001b[0m\u001b[0;34m\u001b[0m\n",
       "\u001b[0;34m\u001b[0m    \u001b[0mtransform\u001b[0m\u001b[0;34m:\u001b[0m \u001b[0mOptional\u001b[0m\u001b[0;34m[\u001b[0m\u001b[0mCallable\u001b[0m\u001b[0;34m]\u001b[0m \u001b[0;34m=\u001b[0m \u001b[0;32mNone\u001b[0m\u001b[0;34m,\u001b[0m\u001b[0;34m\u001b[0m\n",
       "\u001b[0;34m\u001b[0m    \u001b[0mtarget_transform\u001b[0m\u001b[0;34m:\u001b[0m \u001b[0mOptional\u001b[0m\u001b[0;34m[\u001b[0m\u001b[0mCallable\u001b[0m\u001b[0;34m]\u001b[0m \u001b[0;34m=\u001b[0m \u001b[0;32mNone\u001b[0m\u001b[0;34m,\u001b[0m\u001b[0;34m\u001b[0m\n",
       "\u001b[0;34m\u001b[0m    \u001b[0mdownload\u001b[0m\u001b[0;34m:\u001b[0m \u001b[0mbool\u001b[0m \u001b[0;34m=\u001b[0m \u001b[0;32mFalse\u001b[0m\u001b[0;34m,\u001b[0m\u001b[0;34m\u001b[0m\n",
       "\u001b[0;34m\u001b[0m\u001b[0;34m)\u001b[0m \u001b[0;34m->\u001b[0m \u001b[0;32mNone\u001b[0m\u001b[0;34m\u001b[0m\u001b[0;34m\u001b[0m\u001b[0m\n",
       "\u001b[0;31mDocstring:\u001b[0m     \n",
       "`MNIST <http://yann.lecun.com/exdb/mnist/>`_ Dataset.\n",
       "\n",
       "Args:\n",
       "    root (string): Root directory of dataset where ``MNIST/raw/train-images-idx3-ubyte``\n",
       "        and  ``MNIST/raw/t10k-images-idx3-ubyte`` exist.\n",
       "    train (bool, optional): If True, creates dataset from ``train-images-idx3-ubyte``,\n",
       "        otherwise from ``t10k-images-idx3-ubyte``.\n",
       "    download (bool, optional): If True, downloads the dataset from the internet and\n",
       "        puts it in root directory. If dataset is already downloaded, it is not\n",
       "        downloaded again.\n",
       "    transform (callable, optional): A function/transform that  takes in an PIL image\n",
       "        and returns a transformed version. E.g, ``transforms.RandomCrop``\n",
       "    target_transform (callable, optional): A function/transform that takes in the\n",
       "        target and transforms it.\n",
       "\u001b[0;31mFile:\u001b[0m           ~/anaconda3/envs/xai/lib/python3.11/site-packages/torchvision/datasets/mnist.py\n",
       "\u001b[0;31mType:\u001b[0m           type\n",
       "\u001b[0;31mSubclasses:\u001b[0m     FashionMNIST, KMNIST, EMNIST, QMNIST"
      ]
     },
     "metadata": {},
     "output_type": "display_data"
    }
   ],
   "source": [
    "torchvision.datasets.MNIST?"
   ]
  },
  {
   "cell_type": "code",
   "execution_count": 41,
   "id": "3ee977d4-aca3-41b8-831b-980659c04f44",
   "metadata": {},
   "outputs": [],
   "source": [
    "train = True\n",
    "subset_size=None\n",
    "shuffle = True\n",
    "data_dir=DATA_DIR"
   ]
  },
  {
   "cell_type": "code",
   "execution_count": 92,
   "id": "1a07bfc8-7ba2-4a2c-992b-685f607b4e8f",
   "metadata": {},
   "outputs": [],
   "source": [
    "    dataset = torchvision.datasets.MNIST(\n",
    "        data_dir,\n",
    "        train=train,\n",
    "        download=True,\n",
    "        transform=torchvision.transforms.Compose([\n",
    "            torchvision.transforms.ToTensor(),\n",
    "            torchvision.transforms.Normalize(*DEFAULT_MNIST_NORMALIZATION),\n",
    "        ])\n",
    "    )"
   ]
  },
  {
   "cell_type": "code",
   "execution_count": 93,
   "id": "091e5d51-a14f-448b-8192-a1cff3460630",
   "metadata": {
    "scrolled": true
   },
   "outputs": [
    {
     "data": {
      "text/plain": [
       "60000"
      ]
     },
     "execution_count": 93,
     "metadata": {},
     "output_type": "execute_result"
    }
   ],
   "source": [
    "len(dataset)"
   ]
  },
  {
   "cell_type": "code",
   "execution_count": 94,
   "id": "6cd0d51f-76d2-4dca-91ab-c6ba3c4d6354",
   "metadata": {},
   "outputs": [],
   "source": [
    "# get 0s and 1s from dataset"
   ]
  },
  {
   "cell_type": "code",
   "execution_count": 110,
   "id": "f847ece2-e8d6-45cb-9edd-66111f75619a",
   "metadata": {},
   "outputs": [
    {
     "data": {
      "text/plain": [
       "tensor([    1,     3,     6,  ..., 59984, 59987, 59994])"
      ]
     },
     "execution_count": 110,
     "metadata": {},
     "output_type": "execute_result"
    }
   ],
   "source": [
    "mask_zeros = dataset.targets == 0\n",
    "mask_ones = dataset.targets == 1\n",
    "mask_zeros_ones = mask_zeros | mask_ones\n",
    "idx_zeros_ones = mask_zeros_ones.nonzero().squeeze()\n",
    "\n",
    "idx_zeros_ones"
   ]
  },
  {
   "cell_type": "code",
   "execution_count": 131,
   "id": "b7410ebe-e739-4e4e-b3b0-bab3f099fa96",
   "metadata": {},
   "outputs": [
    {
     "data": {
      "text/plain": [
       "tensor(5923)"
      ]
     },
     "execution_count": 131,
     "metadata": {},
     "output_type": "execute_result"
    }
   ],
   "source": [
    "sum(mask_zeros)"
   ]
  },
  {
   "cell_type": "code",
   "execution_count": 128,
   "id": "f331d106-7275-45d9-bad4-a65ea09c2bf4",
   "metadata": {},
   "outputs": [],
   "source": [
    "import functools \n",
    "import operator"
   ]
  },
  {
   "cell_type": "code",
   "execution_count": 129,
   "id": "ae979e6d-8015-4ce0-a0bd-d923da93f239",
   "metadata": {},
   "outputs": [
    {
     "data": {
      "text/plain": [
       "tensor([False,  True, False,  ..., False, False, False])"
      ]
     },
     "execution_count": 129,
     "metadata": {},
     "output_type": "execute_result"
    }
   ],
   "source": [
    "functools.reduce(operator.or_, [mask_zeros, mask_ones])"
   ]
  },
  {
   "cell_type": "code",
   "execution_count": 123,
   "id": "1588397d-3946-404d-9428-865d5792a31f",
   "metadata": {},
   "outputs": [
    {
     "ename": "RuntimeError",
     "evalue": "Boolean value of Tensor with more than one value is ambiguous",
     "output_type": "error",
     "traceback": [
      "\u001b[0;31m---------------------------------------------------------------------------\u001b[0m",
      "\u001b[0;31mRuntimeError\u001b[0m                              Traceback (most recent call last)",
      "Cell \u001b[0;32mIn[123], line 1\u001b[0m\n\u001b[0;32m----> 1\u001b[0m \u001b[38;5;28;43many\u001b[39;49m\u001b[43m(\u001b[49m\u001b[43m[\u001b[49m\u001b[43mmask_zeros\u001b[49m\u001b[43m,\u001b[49m\u001b[43m \u001b[49m\u001b[43mmask_ones\u001b[49m\u001b[43m]\u001b[49m\u001b[43m)\u001b[49m\n",
      "\u001b[0;31mRuntimeError\u001b[0m: Boolean value of Tensor with more than one value is ambiguous"
     ]
    }
   ],
   "source": [
    "any("
   ]
  },
  {
   "cell_type": "code",
   "execution_count": null,
   "id": "95392b4b-92d1-4bd1-a578-f3eeebc8624d",
   "metadata": {},
   "outputs": [],
   "source": []
  },
  {
   "cell_type": "code",
   "execution_count": null,
   "id": "d013b2fc-4baf-49dd-ada5-1246df3cb8c1",
   "metadata": {},
   "outputs": [],
   "source": []
  },
  {
   "cell_type": "code",
   "execution_count": 112,
   "id": "8b78df62-759c-40a8-ada7-858d1a1b0bb3",
   "metadata": {},
   "outputs": [
    {
     "data": {
      "text/plain": [
       "<torch.utils.data.dataset.Subset at 0x7f347467c310>"
      ]
     },
     "execution_count": 112,
     "metadata": {},
     "output_type": "execute_result"
    }
   ],
   "source": [
    "ss = torch.utils.data.Subset(dataset, idx_zeros_ones)\n",
    "ss"
   ]
  },
  {
   "cell_type": "code",
   "execution_count": 113,
   "id": "e449adae-2469-4b46-9733-e4f6da906ad4",
   "metadata": {},
   "outputs": [
    {
     "data": {
      "text/plain": [
       "1024"
      ]
     },
     "execution_count": 113,
     "metadata": {},
     "output_type": "execute_result"
    }
   ],
   "source": [
    "batch_size"
   ]
  },
  {
   "cell_type": "code",
   "execution_count": 114,
   "id": "910400d8-ecd9-4d5f-9bd7-89c7f2f1c440",
   "metadata": {},
   "outputs": [
    {
     "data": {
      "text/plain": [
       "<torch.utils.data.dataloader.DataLoader at 0x7f347467f410>"
      ]
     },
     "execution_count": 114,
     "metadata": {},
     "output_type": "execute_result"
    }
   ],
   "source": [
    "dl = DataLoader(ss, batch_size=64, shuffle=shuffle)\n",
    "dl"
   ]
  },
  {
   "cell_type": "code",
   "execution_count": 115,
   "id": "d50d444a-caf7-4ec7-9c99-4ebd47be6c67",
   "metadata": {},
   "outputs": [],
   "source": [
    "dl_inputs, dl_labels = next(iter(dl))"
   ]
  },
  {
   "cell_type": "code",
   "execution_count": 117,
   "id": "d6867377-4866-452e-9b75-304fcbc05aeb",
   "metadata": {},
   "outputs": [
    {
     "data": {
      "text/plain": [
       "torch.Size([64, 1, 28, 28])"
      ]
     },
     "execution_count": 117,
     "metadata": {},
     "output_type": "execute_result"
    }
   ],
   "source": [
    "dl_inputs.shape"
   ]
  },
  {
   "cell_type": "code",
   "execution_count": 118,
   "id": "27ed3802-f805-4769-9f27-4387998226a2",
   "metadata": {},
   "outputs": [
    {
     "name": "stderr",
     "output_type": "stream",
     "text": [
      "/home/gurp/anaconda3/envs/xai/lib/python3.11/site-packages/torchvision/datasets/mnist.py:70: UserWarning: test_labels has been renamed targets\n",
      "  warnings.warn(\"test_labels has been renamed targets\")\n"
     ]
    },
    {
     "data": {
      "text/plain": [
       "tensor([5, 0, 4,  ..., 5, 6, 8])"
      ]
     },
     "execution_count": 118,
     "metadata": {},
     "output_type": "execute_result"
    }
   ],
   "source": [
    "dataset.test_labels"
   ]
  },
  {
   "cell_type": "code",
   "execution_count": 119,
   "id": "10bf35dd-6791-4d02-88b1-44a2761ba4ac",
   "metadata": {},
   "outputs": [
    {
     "name": "stderr",
     "output_type": "stream",
     "text": [
      "/home/gurp/anaconda3/envs/xai/lib/python3.11/site-packages/torchvision/datasets/mnist.py:65: UserWarning: train_labels has been renamed targets\n",
      "  warnings.warn(\"train_labels has been renamed targets\")\n"
     ]
    },
    {
     "data": {
      "text/plain": [
       "tensor([5, 0, 4,  ..., 5, 6, 8])"
      ]
     },
     "execution_count": 119,
     "metadata": {},
     "output_type": "execute_result"
    }
   ],
   "source": [
    "dataset.train_labels"
   ]
  },
  {
   "cell_type": "code",
   "execution_count": 120,
   "id": "271528fb-11c0-4390-89a2-33e346a19f1f",
   "metadata": {},
   "outputs": [
    {
     "data": {
      "text/plain": [
       "tensor([5, 0, 4,  ..., 5, 6, 8])"
      ]
     },
     "execution_count": 120,
     "metadata": {},
     "output_type": "execute_result"
    }
   ],
   "source": [
    "dataset.targets"
   ]
  },
  {
   "cell_type": "code",
   "execution_count": 58,
   "id": "1d030b49-a927-4991-b935-c887e2c7cdb6",
   "metadata": {},
   "outputs": [
    {
     "name": "stderr",
     "output_type": "stream",
     "text": [
      "/home/gurp/anaconda3/envs/xai/lib/python3.11/site-packages/torchvision/datasets/mnist.py:65: UserWarning: train_labels has been renamed targets\n",
      "  warnings.warn(\"train_labels has been renamed targets\")\n"
     ]
    },
    {
     "data": {
      "text/plain": [
       "tensor([5, 0, 4,  ..., 5, 6, 8])"
      ]
     },
     "execution_count": 58,
     "metadata": {},
     "output_type": "execute_result"
    }
   ],
   "source": [
    "corpus_loader.dataset.dataset.train_labels"
   ]
  },
  {
   "cell_type": "code",
   "execution_count": 61,
   "id": "909bc407-89fc-4fc8-9385-ef8ec4c53872",
   "metadata": {},
   "outputs": [
    {
     "data": {
      "text/plain": [
       "60000"
      ]
     },
     "execution_count": 61,
     "metadata": {},
     "output_type": "execute_result"
    }
   ],
   "source": [
    "len(corpus_loader.dataset.dataset)"
   ]
  },
  {
   "cell_type": "code",
   "execution_count": 62,
   "id": "9cda2264-45ce-47af-9173-a0172a90fe65",
   "metadata": {},
   "outputs": [
    {
     "data": {
      "text/plain": [
       "8"
      ]
     },
     "execution_count": 62,
     "metadata": {},
     "output_type": "execute_result"
    }
   ],
   "source": [
    "len(corpus_loader)"
   ]
  },
  {
   "cell_type": "code",
   "execution_count": 57,
   "id": "85a298a0-a48f-444b-9bdd-7d6b4769b684",
   "metadata": {},
   "outputs": [
    {
     "ename": "AttributeError",
     "evalue": "'MNIST' object has no attribute 'tr'",
     "output_type": "error",
     "traceback": [
      "\u001b[0;31m---------------------------------------------------------------------------\u001b[0m",
      "\u001b[0;31mAttributeError\u001b[0m                            Traceback (most recent call last)",
      "Cell \u001b[0;32mIn[57], line 1\u001b[0m\n\u001b[0;32m----> 1\u001b[0m \u001b[43mss\u001b[49m\u001b[38;5;241;43m.\u001b[39;49m\u001b[43mdataset\u001b[49m\u001b[38;5;241;43m.\u001b[39;49m\u001b[43mtr\u001b[49m\n",
      "\u001b[0;31mAttributeError\u001b[0m: 'MNIST' object has no attribute 'tr'"
     ]
    }
   ],
   "source": [
    "ss.dataset.tr"
   ]
  },
  {
   "cell_type": "code",
   "execution_count": 48,
   "id": "336ce1bf-fa5f-476d-ac33-062473914fdd",
   "metadata": {},
   "outputs": [
    {
     "name": "stderr",
     "output_type": "stream",
     "text": [
      "/home/gurp/anaconda3/envs/xai/lib/python3.11/site-packages/torchvision/datasets/mnist.py:65: UserWarning: train_labels has been renamed targets\n",
      "  warnings.warn(\"train_labels has been renamed targets\")\n"
     ]
    },
    {
     "data": {
      "text/plain": [
       "torch.Size([60000])"
      ]
     },
     "execution_count": 48,
     "metadata": {},
     "output_type": "execute_result"
    }
   ],
   "source": [
    "dataset.train_labels.shape"
   ]
  },
  {
   "cell_type": "code",
   "execution_count": 45,
   "id": "41f79df0-22d0-4291-848a-8bf57a12fbd7",
   "metadata": {},
   "outputs": [
    {
     "data": {
      "text/plain": [
       "torch.Size([60000])"
      ]
     },
     "execution_count": 45,
     "metadata": {},
     "output_type": "execute_result"
    }
   ],
   "source": [
    "dataset.test_labels.shape"
   ]
  },
  {
   "cell_type": "code",
   "execution_count": null,
   "id": "81473d33-8574-41ed-b219-e203e7ad3228",
   "metadata": {},
   "outputs": [],
   "source": [
    "labels_0_1"
   ]
  },
  {
   "cell_type": "code",
   "execution_count": 47,
   "id": "06d0643a-16e2-4d55-a24e-1bf1673c9b56",
   "metadata": {},
   "outputs": [
    {
     "data": {
      "text/plain": [
       "\u001b[0;31mInit signature:\u001b[0m\n",
       "\u001b[0mtorch\u001b[0m\u001b[0;34m.\u001b[0m\u001b[0mutils\u001b[0m\u001b[0;34m.\u001b[0m\u001b[0mdata\u001b[0m\u001b[0;34m.\u001b[0m\u001b[0mSubset\u001b[0m\u001b[0;34m(\u001b[0m\u001b[0;34m\u001b[0m\n",
       "\u001b[0;34m\u001b[0m    \u001b[0mdataset\u001b[0m\u001b[0;34m:\u001b[0m \u001b[0mtorch\u001b[0m\u001b[0;34m.\u001b[0m\u001b[0mutils\u001b[0m\u001b[0;34m.\u001b[0m\u001b[0mdata\u001b[0m\u001b[0;34m.\u001b[0m\u001b[0mdataset\u001b[0m\u001b[0;34m.\u001b[0m\u001b[0mDataset\u001b[0m\u001b[0;34m[\u001b[0m\u001b[0;34m+\u001b[0m\u001b[0mT_co\u001b[0m\u001b[0;34m]\u001b[0m\u001b[0;34m,\u001b[0m\u001b[0;34m\u001b[0m\n",
       "\u001b[0;34m\u001b[0m    \u001b[0mindices\u001b[0m\u001b[0;34m:\u001b[0m \u001b[0mSequence\u001b[0m\u001b[0;34m[\u001b[0m\u001b[0mint\u001b[0m\u001b[0;34m]\u001b[0m\u001b[0;34m,\u001b[0m\u001b[0;34m\u001b[0m\n",
       "\u001b[0;34m\u001b[0m\u001b[0;34m)\u001b[0m \u001b[0;34m->\u001b[0m \u001b[0;32mNone\u001b[0m\u001b[0;34m\u001b[0m\u001b[0;34m\u001b[0m\u001b[0m\n",
       "\u001b[0;31mDocstring:\u001b[0m     \n",
       "Subset of a dataset at specified indices.\n",
       "\n",
       "Args:\n",
       "    dataset (Dataset): The whole Dataset\n",
       "    indices (sequence): Indices in the whole set selected for subset\n",
       "\u001b[0;31mFile:\u001b[0m           ~/anaconda3/envs/xai/lib/python3.11/site-packages/torch/utils/data/dataset.py\n",
       "\u001b[0;31mType:\u001b[0m           type\n",
       "\u001b[0;31mSubclasses:\u001b[0m     "
      ]
     },
     "metadata": {},
     "output_type": "display_data"
    }
   ],
   "source": [
    "torch.utils.data.Subset?"
   ]
  },
  {
   "cell_type": "code",
   "execution_count": null,
   "id": "d9941440-1047-4ff0-a1d9-bd12b150ed87",
   "metadata": {},
   "outputs": [],
   "source": []
  }
 ],
 "metadata": {
  "kernelspec": {
   "display_name": "Python 3 (ipykernel)",
   "language": "python",
   "name": "python3"
  },
  "language_info": {
   "codemirror_mode": {
    "name": "ipython",
    "version": 3
   },
   "file_extension": ".py",
   "mimetype": "text/x-python",
   "name": "python",
   "nbconvert_exporter": "python",
   "pygments_lexer": "ipython3",
   "version": "3.11.5"
  }
 },
 "nbformat": 4,
 "nbformat_minor": 5
}
