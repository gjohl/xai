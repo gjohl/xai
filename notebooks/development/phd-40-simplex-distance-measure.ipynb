{
 "cells": [
  {
   "cell_type": "markdown",
   "id": "6b43f3a7-f62b-4138-ad68-21fefd97808f",
   "metadata": {},
   "source": [
    "# Simplex distance measure\n",
    "Calculate the distance for a test point as the residual of its latent approximation.\n",
    "\n",
    "The total distance is then the mean residual (or relative to a calibration set?)."
   ]
  },
  {
   "cell_type": "markdown",
   "id": "ebdf5873-02c8-4994-9c58-1ea18ce4761f",
   "metadata": {},
   "source": [
    "## 1. Fit a simplex model to some data"
   ]
  },
  {
   "cell_type": "code",
   "execution_count": 1,
   "id": "e04c68b5-7346-407f-9ec4-646c12b2db80",
   "metadata": {},
   "outputs": [],
   "source": [
    "import torch\n",
    "from simplexai.explainers.simplex import Simplex\n",
    "from simplexai.models.image_recognition import MnistClassifier\n",
    "\n",
    "from xai.data_handlers.mnist import load_mnist"
   ]
  },
  {
   "cell_type": "code",
   "execution_count": 2,
   "id": "a23537e3-0cd1-4a2f-8c1b-692a8cc312f9",
   "metadata": {},
   "outputs": [],
   "source": [
    "# Get a model\n",
    "model = MnistClassifier() # Model should have the BlackBox interface"
   ]
  },
  {
   "cell_type": "code",
   "execution_count": 3,
   "id": "24f30ddb-82c0-4191-9021-1b6518f42ad2",
   "metadata": {},
   "outputs": [],
   "source": [
    "# Load corpus and test inputs\n",
    "corpus_loader = load_mnist(subset_size=100, train=True, batch_size=100) # MNIST train loader\n",
    "test_loader = load_mnist(subset_size=10, train=True, batch_size=10) # MNIST test loader\n",
    "corpus_inputs, _ = next(iter(corpus_loader)) # A tensor of corpus inputs\n",
    "test_inputs, _ = next(iter(test_loader)) # A set of inputs to explain"
   ]
  },
  {
   "cell_type": "code",
   "execution_count": 4,
   "id": "707f8796-5012-4bbd-afc6-540a134c9b93",
   "metadata": {},
   "outputs": [],
   "source": [
    "# Compute the corpus and test latent representations\n",
    "corpus_latents = model.latent_representation(corpus_inputs).detach()\n",
    "test_latents = model.latent_representation(test_inputs).detach()"
   ]
  },
  {
   "cell_type": "code",
   "execution_count": 5,
   "id": "711f391a-1a54-44c5-99de-7c4c5d416f21",
   "metadata": {},
   "outputs": [
    {
     "data": {
      "text/plain": [
       "torch.Size([100, 50])"
      ]
     },
     "execution_count": 5,
     "metadata": {},
     "output_type": "execute_result"
    }
   ],
   "source": [
    "corpus_latents.shape"
   ]
  },
  {
   "cell_type": "code",
   "execution_count": 6,
   "id": "bca6c62b-908a-4794-8b9a-24fa122a852c",
   "metadata": {},
   "outputs": [
    {
     "data": {
      "text/plain": [
       "torch.Size([10, 50])"
      ]
     },
     "execution_count": 6,
     "metadata": {},
     "output_type": "execute_result"
    }
   ],
   "source": [
    "test_latents.shape"
   ]
  },
  {
   "cell_type": "code",
   "execution_count": 7,
   "id": "36ee55e5-7973-4f7c-9223-8c37866ab1d0",
   "metadata": {},
   "outputs": [
    {
     "name": "stdout",
     "output_type": "stream",
     "text": [
      "Weight Fitting Epoch: 2000/10000 ; Error: 20.6 ; Regulator: 6.51 ; Reg Factor: 0\n",
      "Weight Fitting Epoch: 4000/10000 ; Error: 16.7 ; Regulator: 2.96 ; Reg Factor: 0\n",
      "Weight Fitting Epoch: 6000/10000 ; Error: 16.1 ; Regulator: 2.18 ; Reg Factor: 0\n",
      "Weight Fitting Epoch: 8000/10000 ; Error: 16 ; Regulator: 2.04 ; Reg Factor: 0\n",
      "Weight Fitting Epoch: 10000/10000 ; Error: 15.9 ; Regulator: 2 ; Reg Factor: 0\n"
     ]
    }
   ],
   "source": [
    "# Initialize SimplEX, fit it on test examples\n",
    "simplex = Simplex(corpus_examples=corpus_inputs,\n",
    "                  corpus_latent_reps=corpus_latents)\n",
    "simplex.fit(test_examples=test_inputs,\n",
    "            test_latent_reps=test_latents,\n",
    "            reg_factor=0)\n"
   ]
  },
  {
   "cell_type": "markdown",
   "id": "e129c0a3-fdc9-4c96-8b74-fcbb07645739",
   "metadata": {},
   "source": [
    "## 2. Calculate residuals of each test data point"
   ]
  },
  {
   "cell_type": "code",
   "execution_count": 8,
   "id": "7596a33d-e144-4bf7-ae0a-2963bf2d6a4e",
   "metadata": {},
   "outputs": [
    {
     "data": {
      "text/plain": [
       "torch.Size([10, 50])"
      ]
     },
     "execution_count": 8,
     "metadata": {},
     "output_type": "execute_result"
    }
   ],
   "source": [
    "test_latents_approx = simplex.latent_approx()\n",
    "test_latents_approx.shape"
   ]
  },
  {
   "cell_type": "code",
   "execution_count": 9,
   "id": "110290c9-0ac4-4dea-9998-4a9941aea743",
   "metadata": {},
   "outputs": [
    {
     "data": {
      "text/plain": [
       "tensor(3.9907)"
      ]
     },
     "execution_count": 9,
     "metadata": {},
     "output_type": "execute_result"
    }
   ],
   "source": [
    "residual = torch.sqrt(torch.sum((test_latents - test_latents_approx) ** 2))\n",
    "residual"
   ]
  },
  {
   "cell_type": "code",
   "execution_count": 10,
   "id": "33128126-b07a-4a4e-8893-2eb9d7dd63f3",
   "metadata": {},
   "outputs": [
    {
     "data": {
      "text/plain": [
       "3.9906599521636963"
      ]
     },
     "execution_count": 10,
     "metadata": {},
     "output_type": "execute_result"
    }
   ],
   "source": [
    "float(residual)"
   ]
  },
  {
   "cell_type": "markdown",
   "id": "141c588d-51e1-4b79-ab51-81318db48e73",
   "metadata": {},
   "source": [
    "## 3. Try the SimplexDistance class"
   ]
  },
  {
   "cell_type": "code",
   "execution_count": 11,
   "id": "10096bb3-3208-4612-bd00-f24ee66d1234",
   "metadata": {},
   "outputs": [],
   "source": [
    "from xai.evaluation_metrics.distance.simplex_distance import SimplexDistance"
   ]
  },
  {
   "cell_type": "code",
   "execution_count": 14,
   "id": "85a1e746-8f00-46e6-8af5-a64527c1b95b",
   "metadata": {},
   "outputs": [],
   "source": [
    "simplex_dist = SimplexDistance(model, corpus_inputs, test_inputs)"
   ]
  },
  {
   "cell_type": "code",
   "execution_count": 15,
   "id": "1f65489b-ea09-423e-b849-6f601812d26b",
   "metadata": {},
   "outputs": [
    {
     "name": "stdout",
     "output_type": "stream",
     "text": [
      "Weight Fitting Epoch: 2000/10000 ; Error: 27 ; Regulator: 6.36 ; Reg Factor: 0\n",
      "Weight Fitting Epoch: 4000/10000 ; Error: 22 ; Regulator: 2.76 ; Reg Factor: 0\n",
      "Weight Fitting Epoch: 6000/10000 ; Error: 21.3 ; Regulator: 2.13 ; Reg Factor: 0\n",
      "Weight Fitting Epoch: 8000/10000 ; Error: 21.2 ; Regulator: 1.99 ; Reg Factor: 0\n",
      "Weight Fitting Epoch: 10000/10000 ; Error: 21.1 ; Regulator: 1.94 ; Reg Factor: 0\n"
     ]
    }
   ],
   "source": [
    "simplex_dist._fit_simplex()"
   ]
  },
  {
   "cell_type": "code",
   "execution_count": 16,
   "id": "cd8f690d-1d60-4c59-bf0c-eb882646e8cc",
   "metadata": {},
   "outputs": [
    {
     "data": {
      "text/plain": [
       "4.5949602127075195"
      ]
     },
     "execution_count": 16,
     "metadata": {},
     "output_type": "execute_result"
    }
   ],
   "source": [
    "simplex_dist.distance()"
   ]
  },
  {
   "cell_type": "markdown",
   "id": "37d23e1f-56ea-40c2-8711-f5010585f331",
   "metadata": {},
   "source": [
    "# 4. Distance based on the latent space vectors\n",
    "## 4.1. Pointwise average\n",
    "For each test point, calculate the distance to each training point and take the average.\n",
    "Do this for every test point and take the average to get a single number for the entire training set.\n"
   ]
  },
  {
   "cell_type": "code",
   "execution_count": 17,
   "id": "50ce7f1b-507d-421a-a381-045bb61ed169",
   "metadata": {},
   "outputs": [
    {
     "data": {
      "text/plain": [
       "tensor([[0.0000, 0.2516, 0.2418,  ..., 0.3681, 0.0000, 0.0000],\n",
       "        [0.0000, 0.6343, 0.0000,  ..., 0.1816, 0.0000, 0.0000],\n",
       "        [0.0000, 0.0000, 0.0497,  ..., 0.6649, 0.7968, 0.0000],\n",
       "        ...,\n",
       "        [0.0000, 1.2644, 0.0000,  ..., 0.1685, 0.0000, 1.6109],\n",
       "        [0.0000, 0.0000, 0.0000,  ..., 0.0000, 0.0000, 0.0000],\n",
       "        [0.0000, 0.0000, 0.0000,  ..., 0.2790, 0.0000, 0.0000]])"
      ]
     },
     "execution_count": 17,
     "metadata": {},
     "output_type": "execute_result"
    }
   ],
   "source": [
    "corpus_latents"
   ]
  },
  {
   "cell_type": "code",
   "execution_count": 19,
   "id": "f1544735-a238-402c-a262-3f27bf579386",
   "metadata": {},
   "outputs": [
    {
     "data": {
      "text/plain": [
       "torch.Size([100, 50])"
      ]
     },
     "execution_count": 19,
     "metadata": {},
     "output_type": "execute_result"
    }
   ],
   "source": [
    "corpus_latents.shape"
   ]
  },
  {
   "cell_type": "code",
   "execution_count": 20,
   "id": "339a7cf6-f97c-46c0-9451-5b930f8a5c07",
   "metadata": {},
   "outputs": [
    {
     "data": {
      "text/plain": [
       "torch.Size([10, 50])"
      ]
     },
     "execution_count": 20,
     "metadata": {},
     "output_type": "execute_result"
    }
   ],
   "source": [
    "test_latents.shape"
   ]
  },
  {
   "cell_type": "code",
   "execution_count": 21,
   "id": "91112f18-8aab-42a4-a410-dc430ed6b5aa",
   "metadata": {},
   "outputs": [
    {
     "data": {
      "text/plain": [
       "tensor([[0.0000, 0.0000, 0.0000, 0.0000, 0.0000],\n",
       "        [0.0000, 0.0000, 0.0000, 0.7705, 0.0297],\n",
       "        [0.0000, 0.0000, 0.0000, 0.0000, 0.0000]])"
      ]
     },
     "execution_count": 21,
     "metadata": {},
     "output_type": "execute_result"
    }
   ],
   "source": [
    "test_latents[:3, :5]"
   ]
  },
  {
   "cell_type": "markdown",
   "id": "9350b94c-159c-4371-806a-488387541cd7",
   "metadata": {},
   "source": [
    "## 4.2 Approximation based on centroids and variance"
   ]
  },
  {
   "cell_type": "code",
   "execution_count": 26,
   "id": "7c447aae-5a4d-41a2-88c6-ca3c8763204d",
   "metadata": {},
   "outputs": [
    {
     "data": {
      "text/plain": [
       "tensor([0.0618, 0.4266, 0.2496, 0.0421, 0.0312, 0.0860, 0.1952, 0.1266, 0.0053,\n",
       "        0.0150, 0.1124, 0.3067, 0.0658, 0.0211, 0.1790, 0.0143, 0.0293, 0.0648,\n",
       "        0.0071, 0.0341, 0.0312, 0.0740, 0.0300, 0.1380, 0.0267, 0.1938, 0.3217,\n",
       "        0.2180, 0.2656, 0.2960, 0.1429, 0.1917, 0.3171, 0.1794, 0.1588, 0.0048,\n",
       "        0.0519, 0.0796, 0.0000, 0.0007, 0.0677, 0.1373, 0.4330, 0.2644, 0.0671,\n",
       "        0.0655, 0.1469, 0.2028, 0.0823, 0.4581])"
      ]
     },
     "execution_count": 26,
     "metadata": {},
     "output_type": "execute_result"
    }
   ],
   "source": [
    "torch.mean(corpus_latents, dim=0)"
   ]
  },
  {
   "cell_type": "code",
   "execution_count": 29,
   "id": "0cf601b3-a912-416f-a347-52a170201c19",
   "metadata": {},
   "outputs": [],
   "source": [
    "sigma, centroid = torch.std_mean(corpus_latents, dim=0)"
   ]
  },
  {
   "cell_type": "code",
   "execution_count": 31,
   "id": "84a3979a-ff73-4b56-9ecd-4dbbeedc5a0d",
   "metadata": {},
   "outputs": [
    {
     "data": {
      "text/plain": [
       "tensor([0.0618, 0.4266, 0.2496, 0.0421, 0.0312, 0.0860, 0.1952, 0.1266, 0.0053,\n",
       "        0.0150, 0.1124, 0.3067, 0.0658, 0.0211, 0.1790, 0.0143, 0.0293, 0.0648,\n",
       "        0.0071, 0.0341, 0.0312, 0.0740, 0.0300, 0.1380, 0.0267, 0.1938, 0.3217,\n",
       "        0.2180, 0.2656, 0.2960, 0.1429, 0.1917, 0.3171, 0.1794, 0.1588, 0.0048,\n",
       "        0.0519, 0.0796, 0.0000, 0.0007, 0.0677, 0.1373, 0.4330, 0.2644, 0.0671,\n",
       "        0.0655, 0.1469, 0.2028, 0.0823, 0.4581])"
      ]
     },
     "execution_count": 31,
     "metadata": {},
     "output_type": "execute_result"
    }
   ],
   "source": [
    "centroid"
   ]
  },
  {
   "cell_type": "code",
   "execution_count": 30,
   "id": "9ad1bf98-5a96-4720-b894-e11a98e21ccf",
   "metadata": {},
   "outputs": [
    {
     "data": {
      "text/plain": [
       "tensor([0.1559, 0.5560, 0.4199, 0.1527, 0.1261, 0.2347, 0.3406, 0.2670, 0.0534,\n",
       "        0.0751, 0.2903, 0.5012, 0.1522, 0.0727, 0.3764, 0.0642, 0.1045, 0.2152,\n",
       "        0.0494, 0.1231, 0.1140, 0.2465, 0.1104, 0.2742, 0.0920, 0.3056, 0.5352,\n",
       "        0.3839, 0.4772, 0.4805, 0.2842, 0.3300, 0.4272, 0.3560, 0.3068, 0.0280,\n",
       "        0.1702, 0.1928, 0.0000, 0.0065, 0.1864, 0.2308, 0.5397, 0.4220, 0.1825,\n",
       "        0.1739, 0.2839, 0.3638, 0.1831, 0.5855])"
      ]
     },
     "execution_count": 30,
     "metadata": {},
     "output_type": "execute_result"
    }
   ],
   "source": [
    "sigma"
   ]
  },
  {
   "cell_type": "code",
   "execution_count": 32,
   "id": "0ef35481-4758-4235-98a8-fbc3825cea7d",
   "metadata": {},
   "outputs": [
    {
     "data": {
      "text/plain": [
       "torch.Size([10, 50])"
      ]
     },
     "execution_count": 32,
     "metadata": {},
     "output_type": "execute_result"
    }
   ],
   "source": [
    "test_latents.shape"
   ]
  },
  {
   "cell_type": "code",
   "execution_count": 34,
   "id": "e09bd6df-2bfc-4a4c-ab33-964ef1b8e170",
   "metadata": {},
   "outputs": [
    {
     "data": {
      "text/plain": [
       "torch.Size([50])"
      ]
     },
     "execution_count": 34,
     "metadata": {},
     "output_type": "execute_result"
    }
   ],
   "source": [
    "centroid.shape"
   ]
  },
  {
   "cell_type": "code",
   "execution_count": 33,
   "id": "f117ee60-0fe5-42b5-a251-d1d83e28d177",
   "metadata": {},
   "outputs": [
    {
     "data": {
      "text/plain": [
       "torch.Size([50])"
      ]
     },
     "execution_count": 33,
     "metadata": {},
     "output_type": "execute_result"
    }
   ],
   "source": [
    "sigma.shape"
   ]
  },
  {
   "cell_type": "code",
   "execution_count": 36,
   "id": "48bc1f2e-5a29-4ac0-8fd3-3a73a8f14e99",
   "metadata": {},
   "outputs": [
    {
     "data": {
      "text/plain": [
       "torch.Size([10, 50])"
      ]
     },
     "execution_count": 36,
     "metadata": {},
     "output_type": "execute_result"
    }
   ],
   "source": [
    "(test_latents - centroid).shape"
   ]
  },
  {
   "cell_type": "code",
   "execution_count": 37,
   "id": "f8b3e57b-117f-432b-8a53-02660589176c",
   "metadata": {},
   "outputs": [
    {
     "data": {
      "text/plain": [
       "torch.Size([10, 50])"
      ]
     },
     "execution_count": 37,
     "metadata": {},
     "output_type": "execute_result"
    }
   ],
   "source": [
    "_distance_per_point = test_latents - centroid\n",
    "_distance_per_point.shape"
   ]
  },
  {
   "cell_type": "code",
   "execution_count": 45,
   "id": "11ba0e29-eadd-461e-9869-f0a33442146b",
   "metadata": {},
   "outputs": [
    {
     "data": {
      "text/plain": [
       "tensor([[-6.1849e-02, -4.2658e-01, -2.4956e-01, -4.2092e-02, -3.1193e-02,\n",
       "         -8.6043e-02, -1.9516e-01, -3.9627e-02, -5.3398e-03, -1.5009e-02,\n",
       "         -1.1239e-01,  5.9798e-01,  3.1712e-01,  3.8384e-03, -1.7898e-01,\n",
       "         -1.4296e-02, -2.9334e-02, -6.4760e-02, -7.0978e-03, -3.4052e-02,\n",
       "         -3.1164e-02, -6.2328e-02, -2.9980e-02, -1.3795e-01, -2.6749e-02,\n",
       "         -2.6551e-02, -3.2167e-01, -7.8985e-02, -2.6561e-01, -2.9603e-01,\n",
       "          3.9681e-01, -1.9175e-01,  1.8132e-01,  4.5382e-02, -1.5884e-01,\n",
       "         -4.7947e-03, -5.1928e-02, -7.9578e-02,  0.0000e+00, -6.5224e-04,\n",
       "          1.5474e-01, -1.3733e-01, -4.3304e-01,  2.7550e-01, -6.7101e-02,\n",
       "         -6.5455e-02, -1.4686e-01, -2.0281e-01,  7.6638e-01, -4.5809e-01],\n",
       "        [-6.1849e-02, -4.2658e-01, -2.4956e-01,  7.2837e-01, -1.4876e-03,\n",
       "         -8.6043e-02, -1.9516e-01,  5.7009e-01, -5.3398e-03, -1.5009e-02,\n",
       "         -1.1239e-01, -3.0674e-01, -6.5807e-02, -2.1116e-02,  6.5552e-01,\n",
       "          6.3528e-02, -2.9334e-02, -6.4760e-02, -7.0978e-03, -3.4052e-02,\n",
       "         -3.1164e-02, -7.4008e-02, -2.9980e-02, -1.3795e-01, -2.6749e-02,\n",
       "         -1.9379e-01,  7.7615e-01, -2.1800e-01, -2.6561e-01, -2.9603e-01,\n",
       "         -1.4292e-01, -1.9175e-01,  8.6868e-01, -1.7941e-01,  6.0173e-02,\n",
       "         -4.7947e-03, -5.1928e-02, -7.9578e-02,  0.0000e+00, -6.5224e-04,\n",
       "         -6.7748e-02,  3.1303e-01, -4.3304e-01, -2.6442e-01,  5.8432e-01,\n",
       "         -6.5455e-02, -1.4686e-01,  3.9378e-01, -8.2328e-02, -4.5809e-01],\n",
       "        [-6.1849e-02, -4.2658e-01, -2.4956e-01, -4.2092e-02, -3.1193e-02,\n",
       "         -8.6043e-02,  3.1513e-01, -1.2662e-01, -5.3398e-03, -1.5009e-02,\n",
       "         -1.1239e-01, -3.0674e-01, -6.5807e-02, -2.1116e-02,  1.2987e+00,\n",
       "         -1.4296e-02, -2.9334e-02, -6.4760e-02, -7.0978e-03, -3.4052e-02,\n",
       "         -3.1164e-02, -7.4008e-02,  6.4330e-01,  5.2894e-01, -2.6749e-02,\n",
       "         -1.9379e-01, -2.2898e-01, -2.1800e-01,  3.3202e-01, -2.9603e-01,\n",
       "         -1.4292e-01, -1.9175e-01, -3.1706e-01, -1.7941e-01, -1.5884e-01,\n",
       "         -4.7947e-03, -5.1928e-02, -7.9578e-02,  0.0000e+00, -6.5224e-04,\n",
       "         -6.7748e-02, -1.3733e-01,  4.8033e-01, -2.6442e-01,  2.5892e-01,\n",
       "         -6.5455e-02,  4.8857e-01,  1.1406e-01, -8.2328e-02,  4.8947e-01],\n",
       "        [-6.1849e-02, -4.2658e-01, -2.3248e-01,  3.4668e-02, -3.1193e-02,\n",
       "         -8.6043e-02, -1.9516e-01, -1.2662e-01, -5.3398e-03, -1.5009e-02,\n",
       "         -1.1239e-01,  1.4322e+00, -6.5807e-02, -2.1116e-02, -1.7898e-01,\n",
       "         -1.4296e-02, -2.9334e-02,  6.5869e-01, -7.0978e-03, -3.4052e-02,\n",
       "          1.6201e-01, -7.4008e-02, -2.9980e-02, -1.3795e-01, -2.6749e-02,\n",
       "         -1.9379e-01,  7.2811e-01,  8.5367e-01, -2.6561e-01,  8.4623e-01,\n",
       "         -1.4292e-01, -1.9175e-01, -3.1706e-01, -1.7941e-01, -8.8124e-02,\n",
       "         -4.7947e-03, -5.1928e-02, -7.9578e-02,  0.0000e+00, -6.5224e-04,\n",
       "          6.7188e-01, -1.3733e-01,  1.0442e+00,  9.1799e-01, -6.7101e-02,\n",
       "          1.1435e-01, -1.4686e-01, -2.0281e-01,  4.6578e-01, -4.5809e-01],\n",
       "        [-6.1849e-02,  4.6796e-01, -2.1519e-01, -4.2092e-02, -3.1193e-02,\n",
       "         -8.6043e-02, -1.9516e-01,  2.1492e-01, -5.3398e-03,  1.4401e-01,\n",
       "         -1.1239e-01, -3.0674e-01, -6.5807e-02, -2.1116e-02, -1.7898e-01,\n",
       "         -1.4296e-02, -2.9334e-02, -6.4760e-02, -7.0978e-03, -3.4052e-02,\n",
       "         -3.1164e-02, -7.4008e-02, -2.9980e-02, -1.3795e-01, -2.6749e-02,\n",
       "          2.2672e-01,  2.2310e-01, -2.1800e-01, -2.6561e-01, -2.9603e-01,\n",
       "         -1.4292e-01, -1.9175e-01, -3.1706e-01, -1.7941e-01, -9.1849e-02,\n",
       "         -4.7947e-03,  2.3294e-01, -7.9578e-02,  0.0000e+00, -6.5224e-04,\n",
       "         -6.7748e-02,  1.7780e-01, -4.3304e-01,  4.8676e-01, -6.7101e-02,\n",
       "         -6.5455e-02, -1.4686e-01, -2.0281e-01, -8.2328e-02, -4.5809e-01],\n",
       "        [-6.1849e-02, -4.2658e-01,  6.1217e-01, -4.2092e-02,  9.3009e-02,\n",
       "         -8.6043e-02, -1.0403e-01,  7.8310e-01, -5.3398e-03, -1.5009e-02,\n",
       "         -1.1239e-01,  3.4902e-01, -6.5807e-02, -2.1116e-02, -1.7898e-01,\n",
       "          4.7746e-02, -2.9334e-02, -6.4760e-02, -7.0978e-03, -3.4052e-02,\n",
       "         -3.1164e-02, -7.4008e-02, -2.9980e-02, -1.3795e-01, -2.6749e-02,\n",
       "         -1.9379e-01,  8.3072e-01, -2.1800e-01, -2.6561e-01, -6.7609e-03,\n",
       "         -1.4292e-01,  1.8297e-01,  4.5750e-01, -1.7941e-01,  1.9263e-01,\n",
       "         -4.7947e-03, -5.1928e-02, -7.9578e-02,  0.0000e+00, -6.5224e-04,\n",
       "          7.4617e-03, -1.2677e-01, -6.1295e-02, -2.6442e-01, -6.7101e-02,\n",
       "         -6.5455e-02, -1.4686e-01, -2.0281e-01, -8.2328e-02, -4.5809e-01],\n",
       "        [ 7.5622e-01, -4.2658e-01,  4.7101e-01, -4.2092e-02, -3.1193e-02,\n",
       "         -8.6043e-02, -1.9516e-01,  5.8006e-01, -5.3398e-03, -1.5009e-02,\n",
       "         -1.1239e-01,  1.7063e-01, -6.5807e-02, -2.1116e-02, -1.7898e-01,\n",
       "         -1.4296e-02, -2.9334e-02, -6.4760e-02, -7.0978e-03, -3.4052e-02,\n",
       "         -3.1164e-02,  5.0493e-01, -2.9980e-02, -1.3795e-01, -2.6749e-02,\n",
       "         -1.9379e-01, -3.2167e-01,  6.2870e-02, -2.6561e-01, -2.9603e-01,\n",
       "         -1.4292e-01,  3.6333e-01, -5.9875e-02, -1.7941e-01, -1.5884e-01,\n",
       "         -4.7947e-03, -5.1928e-02, -7.9578e-02,  0.0000e+00, -6.5224e-04,\n",
       "         -6.7748e-02, -1.0333e-01, -4.3304e-01, -6.1845e-02, -6.7101e-02,\n",
       "         -6.5455e-02, -1.4686e-01, -2.0281e-01,  5.7619e-02, -3.7918e-02],\n",
       "        [-6.1849e-02, -4.2658e-01, -2.4956e-01,  4.7238e-01,  5.0504e-01,\n",
       "         -8.6043e-02, -1.9516e-01, -1.2662e-01, -5.3398e-03, -1.5009e-02,\n",
       "         -1.1239e-01, -8.0379e-02, -6.5807e-02, -2.1116e-02, -1.7898e-01,\n",
       "         -1.4296e-02, -2.9334e-02, -6.4760e-02, -7.0978e-03,  5.8931e-01,\n",
       "         -3.1164e-02, -7.4008e-02, -2.9980e-02, -1.3795e-01, -2.6749e-02,\n",
       "          3.5381e-01,  5.8705e-01, -2.1800e-01, -2.6561e-01, -2.9603e-01,\n",
       "         -1.4292e-01, -1.9175e-01, -3.1706e-01, -1.4858e-01, -1.5884e-01,\n",
       "         -4.7947e-03, -5.1928e-02, -7.9578e-02,  0.0000e+00, -6.5224e-04,\n",
       "          4.0491e-01,  1.7453e-01, -4.3304e-01,  5.7916e-01, -6.7101e-02,\n",
       "         -6.5455e-02, -1.4686e-01,  7.7238e-01, -8.2328e-02, -4.5809e-01],\n",
       "        [-6.1849e-02, -4.2658e-01, -2.4956e-01, -4.2092e-02, -3.1193e-02,\n",
       "         -8.6043e-02, -1.9516e-01, -1.2662e-01,  2.6265e-01, -1.5009e-02,\n",
       "         -1.1239e-01, -2.1820e-01,  1.0723e-01,  1.0119e-02, -1.7898e-01,\n",
       "         -1.4296e-02,  2.7783e-02, -6.4760e-02,  2.7201e-01, -3.4052e-02,\n",
       "         -3.1164e-02, -7.4008e-02, -2.9980e-02,  6.2284e-01, -2.6749e-02,\n",
       "         -1.9379e-01, -3.2167e-01, -2.1800e-01,  4.2637e-01,  5.2410e-03,\n",
       "         -6.4575e-02, -1.9175e-01, -2.3696e-01,  4.8308e-02, -3.2054e-02,\n",
       "         -4.7947e-03, -5.1928e-02, -7.9578e-02,  0.0000e+00, -6.5224e-04,\n",
       "         -6.7748e-02, -1.3733e-01,  1.3113e-01, -3.2902e-02,  7.8204e-02,\n",
       "         -6.5455e-02, -1.4686e-01,  9.1138e-02, -8.2328e-02, -4.5809e-01],\n",
       "        [-6.1849e-02, -4.2658e-01,  6.6792e-02,  4.2435e-01, -3.1193e-02,\n",
       "         -8.6043e-02, -1.9516e-01,  7.5166e-01, -5.3398e-03, -1.5009e-02,\n",
       "         -1.1239e-01, -3.0674e-01, -6.5807e-02, -2.1116e-02, -1.7898e-01,\n",
       "         -1.4296e-02, -2.9334e-02,  5.0461e-01, -7.0978e-03, -3.4052e-02,\n",
       "          5.3125e-01, -7.4008e-02, -2.9980e-02, -1.3795e-01, -2.6749e-02,\n",
       "         -1.9379e-01,  6.7021e-01, -2.1800e-01, -2.6561e-01,  1.0580e+00,\n",
       "         -1.4292e-01,  7.4350e-01, -3.1706e-01, -1.7941e-01, -1.5884e-01,\n",
       "         -4.7947e-03, -5.1928e-02, -7.9578e-02,  0.0000e+00, -6.5224e-04,\n",
       "          1.1155e-01,  1.2594e-01, -4.3304e-01,  6.9141e-01, -6.7101e-02,\n",
       "         -6.5455e-02, -1.4686e-01, -2.0281e-01, -8.2328e-02, -4.5809e-01]])"
      ]
     },
     "execution_count": 45,
     "metadata": {},
     "output_type": "execute_result"
    }
   ],
   "source": [
    "_distance_per_point"
   ]
  },
  {
   "cell_type": "code",
   "execution_count": 46,
   "id": "f51d6e4b-005d-494e-8d28-5a2336da5954",
   "metadata": {},
   "outputs": [
    {
     "data": {
      "text/plain": [
       "tensor([0.1559, 0.5560, 0.4199, 0.1527, 0.1261, 0.2347, 0.3406, 0.2670, 0.0534,\n",
       "        0.0751, 0.2903, 0.5012, 0.1522, 0.0727, 0.3764, 0.0642, 0.1045, 0.2152,\n",
       "        0.0494, 0.1231, 0.1140, 0.2465, 0.1104, 0.2742, 0.0920, 0.3056, 0.5352,\n",
       "        0.3839, 0.4772, 0.4805, 0.2842, 0.3300, 0.4272, 0.3560, 0.3068, 0.0280,\n",
       "        0.1702, 0.1928, 0.0000, 0.0065, 0.1864, 0.2308, 0.5397, 0.4220, 0.1825,\n",
       "        0.1739, 0.2839, 0.3638, 0.1831, 0.5855])"
      ]
     },
     "execution_count": 46,
     "metadata": {},
     "output_type": "execute_result"
    }
   ],
   "source": [
    "sigma"
   ]
  },
  {
   "cell_type": "code",
   "execution_count": 53,
   "id": "940fe2d5-0fc8-4d48-9c10-5ea563b7bde3",
   "metadata": {},
   "outputs": [
    {
     "data": {
      "text/plain": [
       "torch.Size([10, 50])"
      ]
     },
     "execution_count": 53,
     "metadata": {},
     "output_type": "execute_result"
    }
   ],
   "source": [
    "_distance_per_point_scaled = torch.nan_to_num(_distance_per_point / sigma)\n",
    "_distance_per_point_scaled.shape"
   ]
  },
  {
   "cell_type": "code",
   "execution_count": null,
   "id": "a2c51400-0336-42c1-b406-61e270677959",
   "metadata": {},
   "outputs": [],
   "source": []
  },
  {
   "cell_type": "code",
   "execution_count": 50,
   "id": "57555fd0-dd1d-42f4-b6e6-6b963404b67e",
   "metadata": {},
   "outputs": [
    {
     "data": {
      "text/plain": [
       "tensor(0.)"
      ]
     },
     "execution_count": 50,
     "metadata": {},
     "output_type": "execute_result"
    }
   ],
   "source": [
    "_distance_per_point[0][38]"
   ]
  },
  {
   "cell_type": "code",
   "execution_count": 51,
   "id": "b1ad1f63-9e9c-4f45-b8a6-8df1fc35faeb",
   "metadata": {},
   "outputs": [
    {
     "data": {
      "text/plain": [
       "tensor(0.)"
      ]
     },
     "execution_count": 51,
     "metadata": {},
     "output_type": "execute_result"
    }
   ],
   "source": [
    "sigma[38]"
   ]
  },
  {
   "cell_type": "code",
   "execution_count": 49,
   "id": "31fd27b0-d574-45b3-a8b3-fe010718e817",
   "metadata": {},
   "outputs": [
    {
     "data": {
      "text/plain": [
       "tensor(nan)"
      ]
     },
     "execution_count": 49,
     "metadata": {},
     "output_type": "execute_result"
    }
   ],
   "source": [
    "_distance_per_point_scaled[0][38]"
   ]
  },
  {
   "cell_type": "code",
   "execution_count": 41,
   "id": "c375355a-399b-4d3b-95f2-a32ee9d9f722",
   "metadata": {},
   "outputs": [
    {
     "data": {
      "text/plain": [
       "tensor([[-0.3967, -0.7673, -0.5943, -0.2757, -0.2473, -0.3666, -0.5730, -0.1484,\n",
       "         -0.1000, -0.1999, -0.3872,  1.1930,  2.0834,  0.0528, -0.4755, -0.2226,\n",
       "         -0.2808, -0.3009, -0.1437, -0.2767, -0.2735, -0.2528, -0.2716, -0.5030,\n",
       "         -0.2907, -0.0869, -0.6010, -0.2057, -0.5566, -0.6161,  1.3961, -0.5811,\n",
       "          0.4244,  0.1275, -0.5178, -0.1709, -0.3051, -0.4128,     nan, -0.1000,\n",
       "          0.8301, -0.5950, -0.8023,  0.6528, -0.3677, -0.3764, -0.5173, -0.5575,\n",
       "          4.1866, -0.7824],\n",
       "        [-0.3967, -0.7673, -0.5943,  4.7706, -0.0118, -0.3666, -0.5730,  2.1354,\n",
       "         -0.1000, -0.1999, -0.3872, -0.6120, -0.4323, -0.2903,  1.7416,  0.9891,\n",
       "         -0.2808, -0.3009, -0.1437, -0.2767, -0.2735, -0.3002, -0.2716, -0.5030,\n",
       "         -0.2907, -0.6341,  1.4502, -0.5678, -0.5566, -0.6161, -0.5028, -0.5811,\n",
       "          2.0332, -0.5040,  0.1962, -0.1709, -0.3051, -0.4128,     nan, -0.1000,\n",
       "         -0.3634,  1.3563, -0.8023, -0.6265,  3.2023, -0.3764, -0.5173,  1.0824,\n",
       "         -0.4497, -0.7824],\n",
       "        [-0.3967, -0.7673, -0.5943, -0.2757, -0.2473, -0.3666,  0.9253, -0.4743,\n",
       "         -0.1000, -0.1999, -0.3872, -0.6120, -0.4323, -0.2903,  3.4505, -0.2226,\n",
       "         -0.2808, -0.3009, -0.1437, -0.2767, -0.2735, -0.3002,  5.8289,  1.9288,\n",
       "         -0.2907, -0.6341, -0.4278, -0.5678,  0.6958, -0.6161, -0.5028, -0.5811,\n",
       "         -0.7421, -0.5040, -0.5178, -0.1709, -0.3051, -0.4128,     nan, -0.1000,\n",
       "         -0.3634, -0.5950,  0.8899, -0.6265,  1.4190, -0.3764,  1.7210,  0.3135,\n",
       "         -0.4497,  0.8360],\n",
       "        [-0.3967, -0.7673, -0.5537,  0.2271, -0.2473, -0.3666, -0.5730, -0.4743,\n",
       "         -0.1000, -0.1999, -0.3872,  2.8574, -0.4323, -0.2903, -0.4755, -0.2226,\n",
       "         -0.2808,  3.0605, -0.1437, -0.2767,  1.4216, -0.3002, -0.2716, -0.5030,\n",
       "         -0.2907, -0.6341,  1.3604,  2.2236, -0.5566,  1.7613, -0.5028, -0.5811,\n",
       "         -0.7421, -0.5040, -0.2873, -0.1709, -0.3051, -0.4128,     nan, -0.1000,\n",
       "          3.6042, -0.5950,  1.9346,  2.1751, -0.3677,  0.6576, -0.5173, -0.5575,\n",
       "          2.5445, -0.7824],\n",
       "        [-0.3967,  0.8417, -0.5125, -0.2757, -0.2473, -0.3666, -0.5730,  0.8050,\n",
       "         -0.1000,  1.9176, -0.3872, -0.6120, -0.4323, -0.2903, -0.4755, -0.2226,\n",
       "         -0.2808, -0.3009, -0.1437, -0.2767, -0.2735, -0.3002, -0.2716, -0.5030,\n",
       "         -0.2907,  0.7418,  0.4169, -0.5678, -0.5566, -0.6161, -0.5028, -0.5811,\n",
       "         -0.7421, -0.5040, -0.2994, -0.1709,  1.3687, -0.4128,     nan, -0.1000,\n",
       "         -0.3634,  0.7704, -0.8023,  1.1533, -0.3677, -0.3764, -0.5173, -0.5575,\n",
       "         -0.4497, -0.7824],\n",
       "        [-0.3967, -0.7673,  1.4579, -0.2757,  0.7373, -0.3666, -0.3054,  2.9332,\n",
       "         -0.1000, -0.1999, -0.3872,  0.6963, -0.4323, -0.2903, -0.4755,  0.7434,\n",
       "         -0.2808, -0.3009, -0.1437, -0.2767, -0.2735, -0.3002, -0.2716, -0.5030,\n",
       "         -0.2907, -0.6341,  1.5522, -0.5678, -0.5566, -0.0141, -0.5028,  0.5545,\n",
       "          1.0708, -0.5040,  0.6280, -0.1709, -0.3051, -0.4128,     nan, -0.1000,\n",
       "          0.0400, -0.5493, -0.1136, -0.6265, -0.3677, -0.3764, -0.5173, -0.5575,\n",
       "         -0.4497, -0.7824],\n",
       "        [ 4.8502, -0.7673,  1.1217, -0.2757, -0.2473, -0.3666, -0.5730,  2.1727,\n",
       "         -0.1000, -0.1999, -0.3872,  0.3404, -0.4323, -0.2903, -0.4755, -0.2226,\n",
       "         -0.2808, -0.3009, -0.1437, -0.2767, -0.2735,  2.0481, -0.2716, -0.5030,\n",
       "         -0.2907, -0.6341, -0.6010,  0.1638, -0.5566, -0.6161, -0.5028,  1.1010,\n",
       "         -0.1401, -0.5040, -0.5178, -0.1709, -0.3051, -0.4128,     nan, -0.1000,\n",
       "         -0.3634, -0.4477, -0.8023, -0.1465, -0.3677, -0.3764, -0.5173, -0.5575,\n",
       "          0.3148, -0.0648],\n",
       "        [-0.3967, -0.7673, -0.5943,  3.0939,  4.0036, -0.3666, -0.5730, -0.4743,\n",
       "         -0.1000, -0.1999, -0.3872, -0.1604, -0.4323, -0.2903, -0.4755, -0.2226,\n",
       "         -0.2808, -0.3009, -0.1437,  4.7884, -0.2735, -0.3002, -0.2716, -0.5030,\n",
       "         -0.2907,  1.1576,  1.0969, -0.5678, -0.5566, -0.6161, -0.5028, -0.5811,\n",
       "         -0.7421, -0.4174, -0.5178, -0.1709, -0.3051, -0.4128,     nan, -0.1000,\n",
       "          2.1721,  0.7562, -0.8023,  1.3723, -0.3677, -0.3764, -0.5173,  2.1231,\n",
       "         -0.4497, -0.7824],\n",
       "        [-0.3967, -0.7673, -0.5943, -0.2757, -0.2473, -0.3666, -0.5730, -0.4743,\n",
       "          4.9187, -0.1999, -0.3872, -0.4353,  0.7045,  0.1391, -0.4755, -0.2226,\n",
       "          0.2659, -0.3009,  5.5059, -0.2767, -0.2735, -0.3002, -0.2716,  2.2712,\n",
       "         -0.2907, -0.6341, -0.6010, -0.5678,  0.8935,  0.0109, -0.2272, -0.5811,\n",
       "         -0.5546,  0.1357, -0.1045, -0.1709, -0.3051, -0.4128,     nan, -0.1000,\n",
       "         -0.3634, -0.5950,  0.2430, -0.0780,  0.4286, -0.3764, -0.5173,  0.2505,\n",
       "         -0.4497, -0.7824],\n",
       "        [-0.3967, -0.7673,  0.1591,  2.7793, -0.2473, -0.3666, -0.5730,  2.8155,\n",
       "         -0.1000, -0.1999, -0.3872, -0.6120, -0.4323, -0.2903, -0.4755, -0.2226,\n",
       "         -0.2808,  2.3446, -0.1437, -0.2767,  4.6616, -0.3002, -0.2716, -0.5030,\n",
       "         -0.2907, -0.6341,  1.2523, -0.5678, -0.5566,  2.2020, -0.5028,  2.2531,\n",
       "         -0.7421, -0.5040, -0.5178, -0.1709, -0.3051, -0.4128,     nan, -0.1000,\n",
       "          0.5984,  0.5457, -0.8023,  1.6382, -0.3677, -0.3764, -0.5173, -0.5575,\n",
       "         -0.4497, -0.7824]])"
      ]
     },
     "execution_count": 41,
     "metadata": {},
     "output_type": "execute_result"
    }
   ],
   "source": [
    "_distance_per_point_scaled"
   ]
  },
  {
   "cell_type": "code",
   "execution_count": 55,
   "id": "ad84da4b-c36e-4430-b9e1-e5873d1d1b2e",
   "metadata": {},
   "outputs": [
    {
     "data": {
      "text/plain": [
       "tensor(22.6203)"
      ]
     },
     "execution_count": 55,
     "metadata": {},
     "output_type": "execute_result"
    }
   ],
   "source": [
    "torch.sqrt(torch.sum(_distance_per_point_scaled ** 2))"
   ]
  },
  {
   "cell_type": "code",
   "execution_count": null,
   "id": "3df0a658-89e7-4441-860a-de44ebe7e97f",
   "metadata": {},
   "outputs": [],
   "source": []
  }
 ],
 "metadata": {
  "kernelspec": {
   "display_name": "Python 3 (ipykernel)",
   "language": "python",
   "name": "python3"
  },
  "language_info": {
   "codemirror_mode": {
    "name": "ipython",
    "version": 3
   },
   "file_extension": ".py",
   "mimetype": "text/x-python",
   "name": "python",
   "nbconvert_exporter": "python",
   "pygments_lexer": "ipython3",
   "version": "3.11.5"
  }
 },
 "nbformat": 4,
 "nbformat_minor": 5
}
