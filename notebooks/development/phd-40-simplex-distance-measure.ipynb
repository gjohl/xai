{
 "cells": [
  {
   "cell_type": "markdown",
   "id": "6b43f3a7-f62b-4138-ad68-21fefd97808f",
   "metadata": {},
   "source": [
    "# Simplex distance measure\n",
    "Calculate the distance for a test point as the residual of its latent approximation.\n",
    "\n",
    "The total distance is then the mean residual (or relative to a calibration set?)."
   ]
  },
  {
   "cell_type": "markdown",
   "id": "ebdf5873-02c8-4994-9c58-1ea18ce4761f",
   "metadata": {},
   "source": [
    "## 1. Fit a simplex model to some data"
   ]
  },
  {
   "cell_type": "code",
   "execution_count": 1,
   "id": "e04c68b5-7346-407f-9ec4-646c12b2db80",
   "metadata": {},
   "outputs": [],
   "source": [
    "import torch\n",
    "from simplexai.explainers.simplex import Simplex\n",
    "from simplexai.models.image_recognition import MnistClassifier\n",
    "\n",
    "from xai.data_handlers.mnist import load_mnist"
   ]
  },
  {
   "cell_type": "code",
   "execution_count": 2,
   "id": "a23537e3-0cd1-4a2f-8c1b-692a8cc312f9",
   "metadata": {},
   "outputs": [],
   "source": [
    "# Get a model\n",
    "model = MnistClassifier() # Model should have the BlackBox interface"
   ]
  },
  {
   "cell_type": "code",
   "execution_count": 3,
   "id": "24f30ddb-82c0-4191-9021-1b6518f42ad2",
   "metadata": {},
   "outputs": [],
   "source": [
    "# Load corpus and test inputs\n",
    "corpus_loader = load_mnist(subset_size=100, train=True, batch_size=100) # MNIST train loader\n",
    "test_loader = load_mnist(subset_size=10, train=True, batch_size=10) # MNIST test loader\n",
    "corpus_inputs, _ = next(iter(corpus_loader)) # A tensor of corpus inputs\n",
    "test_inputs, _ = next(iter(test_loader)) # A set of inputs to explain"
   ]
  },
  {
   "cell_type": "code",
   "execution_count": 4,
   "id": "707f8796-5012-4bbd-afc6-540a134c9b93",
   "metadata": {},
   "outputs": [],
   "source": [
    "# Compute the corpus and test latent representations\n",
    "corpus_latents = model.latent_representation(corpus_inputs).detach()\n",
    "test_latents = model.latent_representation(test_inputs).detach()"
   ]
  },
  {
   "cell_type": "code",
   "execution_count": 5,
   "id": "711f391a-1a54-44c5-99de-7c4c5d416f21",
   "metadata": {},
   "outputs": [
    {
     "data": {
      "text/plain": [
       "torch.Size([100, 50])"
      ]
     },
     "execution_count": 5,
     "metadata": {},
     "output_type": "execute_result"
    }
   ],
   "source": [
    "corpus_latents.shape"
   ]
  },
  {
   "cell_type": "code",
   "execution_count": 6,
   "id": "bca6c62b-908a-4794-8b9a-24fa122a852c",
   "metadata": {},
   "outputs": [
    {
     "data": {
      "text/plain": [
       "torch.Size([10, 50])"
      ]
     },
     "execution_count": 6,
     "metadata": {},
     "output_type": "execute_result"
    }
   ],
   "source": [
    "test_latents.shape"
   ]
  },
  {
   "cell_type": "code",
   "execution_count": 7,
   "id": "36ee55e5-7973-4f7c-9223-8c37866ab1d0",
   "metadata": {},
   "outputs": [
    {
     "name": "stdout",
     "output_type": "stream",
     "text": [
      "Weight Fitting Epoch: 2000/10000 ; Error: 20.6 ; Regulator: 6.51 ; Reg Factor: 0\n",
      "Weight Fitting Epoch: 4000/10000 ; Error: 16.7 ; Regulator: 2.96 ; Reg Factor: 0\n",
      "Weight Fitting Epoch: 6000/10000 ; Error: 16.1 ; Regulator: 2.18 ; Reg Factor: 0\n",
      "Weight Fitting Epoch: 8000/10000 ; Error: 16 ; Regulator: 2.04 ; Reg Factor: 0\n",
      "Weight Fitting Epoch: 10000/10000 ; Error: 15.9 ; Regulator: 2 ; Reg Factor: 0\n"
     ]
    }
   ],
   "source": [
    "# Initialize SimplEX, fit it on test examples\n",
    "simplex = Simplex(corpus_examples=corpus_inputs,\n",
    "                  corpus_latent_reps=corpus_latents)\n",
    "simplex.fit(test_examples=test_inputs,\n",
    "            test_latent_reps=test_latents,\n",
    "            reg_factor=0)\n"
   ]
  },
  {
   "cell_type": "markdown",
   "id": "e129c0a3-fdc9-4c96-8b74-fcbb07645739",
   "metadata": {},
   "source": [
    "## 2. Calculate residuals of each test data point"
   ]
  },
  {
   "cell_type": "code",
   "execution_count": 8,
   "id": "7596a33d-e144-4bf7-ae0a-2963bf2d6a4e",
   "metadata": {},
   "outputs": [
    {
     "data": {
      "text/plain": [
       "torch.Size([10, 50])"
      ]
     },
     "execution_count": 8,
     "metadata": {},
     "output_type": "execute_result"
    }
   ],
   "source": [
    "test_latents_approx = simplex.latent_approx()\n",
    "test_latents_approx.shape"
   ]
  },
  {
   "cell_type": "code",
   "execution_count": 9,
   "id": "110290c9-0ac4-4dea-9998-4a9941aea743",
   "metadata": {},
   "outputs": [
    {
     "data": {
      "text/plain": [
       "tensor(3.9907)"
      ]
     },
     "execution_count": 9,
     "metadata": {},
     "output_type": "execute_result"
    }
   ],
   "source": [
    "residual = torch.sqrt(torch.sum((test_latents - test_latents_approx) ** 2))\n",
    "residual"
   ]
  },
  {
   "cell_type": "code",
   "execution_count": 10,
   "id": "33128126-b07a-4a4e-8893-2eb9d7dd63f3",
   "metadata": {},
   "outputs": [
    {
     "data": {
      "text/plain": [
       "3.9906599521636963"
      ]
     },
     "execution_count": 10,
     "metadata": {},
     "output_type": "execute_result"
    }
   ],
   "source": [
    "float(residual)"
   ]
  },
  {
   "cell_type": "markdown",
   "id": "141c588d-51e1-4b79-ab51-81318db48e73",
   "metadata": {},
   "source": [
    "## 3. Try the SimplexDistance class"
   ]
  },
  {
   "cell_type": "code",
   "execution_count": 11,
   "id": "10096bb3-3208-4612-bd00-f24ee66d1234",
   "metadata": {},
   "outputs": [],
   "source": [
    "from xai.evaluation_metrics.distance.simplex_distance import SimplexDistance"
   ]
  },
  {
   "cell_type": "code",
   "execution_count": 14,
   "id": "85a1e746-8f00-46e6-8af5-a64527c1b95b",
   "metadata": {},
   "outputs": [],
   "source": [
    "simplex_dist = SimplexDistance(model, corpus_inputs, test_inputs)"
   ]
  },
  {
   "cell_type": "code",
   "execution_count": 15,
   "id": "1f65489b-ea09-423e-b849-6f601812d26b",
   "metadata": {},
   "outputs": [
    {
     "name": "stdout",
     "output_type": "stream",
     "text": [
      "Weight Fitting Epoch: 2000/10000 ; Error: 27 ; Regulator: 6.36 ; Reg Factor: 0\n",
      "Weight Fitting Epoch: 4000/10000 ; Error: 22 ; Regulator: 2.76 ; Reg Factor: 0\n",
      "Weight Fitting Epoch: 6000/10000 ; Error: 21.3 ; Regulator: 2.13 ; Reg Factor: 0\n",
      "Weight Fitting Epoch: 8000/10000 ; Error: 21.2 ; Regulator: 1.99 ; Reg Factor: 0\n",
      "Weight Fitting Epoch: 10000/10000 ; Error: 21.1 ; Regulator: 1.94 ; Reg Factor: 0\n"
     ]
    }
   ],
   "source": [
    "simplex_dist._fit_simplex()"
   ]
  },
  {
   "cell_type": "code",
   "execution_count": 16,
   "id": "cd8f690d-1d60-4c59-bf0c-eb882646e8cc",
   "metadata": {},
   "outputs": [
    {
     "data": {
      "text/plain": [
       "4.5949602127075195"
      ]
     },
     "execution_count": 16,
     "metadata": {},
     "output_type": "execute_result"
    }
   ],
   "source": [
    "simplex_dist.distance()"
   ]
  },
  {
   "cell_type": "code",
   "execution_count": null,
   "id": "50ce7f1b-507d-421a-a381-045bb61ed169",
   "metadata": {},
   "outputs": [],
   "source": []
  }
 ],
 "metadata": {
  "kernelspec": {
   "display_name": "Python 3 (ipykernel)",
   "language": "python",
   "name": "python3"
  },
  "language_info": {
   "codemirror_mode": {
    "name": "ipython",
    "version": 3
   },
   "file_extension": ".py",
   "mimetype": "text/x-python",
   "name": "python",
   "nbconvert_exporter": "python",
   "pygments_lexer": "ipython3",
   "version": "3.11.5"
  }
 },
 "nbformat": 4,
 "nbformat_minor": 5
}
