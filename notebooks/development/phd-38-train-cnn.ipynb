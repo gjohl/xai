{
 "cells": [
  {
   "cell_type": "markdown",
   "id": "c1dfe8c4-c9b2-4e44-869f-f22d8b87964c",
   "metadata": {},
   "source": [
    "# Create a simple CNN\n",
    "Notebook to create and train a simple CNN on MNIST data."
   ]
  },
  {
   "cell_type": "markdown",
   "id": "e3481cf3-b354-4f35-bfad-aa5837a2ef92",
   "metadata": {},
   "source": [
    "## 1. Create a model"
   ]
  },
  {
   "cell_type": "code",
   "execution_count": 1,
   "id": "59f7027a-55df-409f-bc27-1b5ef2401cde",
   "metadata": {},
   "outputs": [],
   "source": [
    "import numpy as np\n",
    "import torch\n",
    "\n",
    "from xai.data_handlers.mnist import load_mnist\n",
    "from xai.models.simple_cnn import CNNClassifier"
   ]
  },
  {
   "cell_type": "code",
   "execution_count": 2,
   "id": "5646d43d-db4b-4197-95fe-8cf40bbc73b4",
   "metadata": {},
   "outputs": [],
   "source": [
    "model = CNNClassifier()"
   ]
  },
  {
   "cell_type": "code",
   "execution_count": 3,
   "id": "c7be5444-6242-434d-8fc4-24ca048fc478",
   "metadata": {},
   "outputs": [
    {
     "data": {
      "text/plain": [
       "CNNClassifier(\n",
       "  (conv1): Conv2d(1, 10, kernel_size=(5, 5), stride=(1, 1))\n",
       "  (conv2): Conv2d(10, 20, kernel_size=(5, 5), stride=(1, 1))\n",
       "  (conv2_drop): Dropout2d(p=0.5, inplace=False)\n",
       "  (fc1): Linear(in_features=320, out_features=50, bias=True)\n",
       "  (fc2): Linear(in_features=50, out_features=10, bias=True)\n",
       ")"
      ]
     },
     "execution_count": 3,
     "metadata": {},
     "output_type": "execute_result"
    }
   ],
   "source": [
    "model"
   ]
  },
  {
   "cell_type": "markdown",
   "id": "490dcb12-9a83-4ca9-a524-eb66e486f37f",
   "metadata": {},
   "source": [
    "## 2. Load data"
   ]
  },
  {
   "cell_type": "code",
   "execution_count": 4,
   "id": "f062056d-c678-4814-b114-cc0fe1f7352d",
   "metadata": {},
   "outputs": [],
   "source": [
    "# Load corpus and test inputs\n",
    "batch_size = 64\n",
    "# batch_size_test = 1000\n",
    "\n",
    "corpus_loader = load_mnist(subset_size=1024, train=True, batch_size=batch_size) # MNIST train loader\n",
    "test_loader = load_mnist(subset_size=1024, train=False, batch_size=batch_size) # MNIST test loader\n",
    "corpus_inputs, corpus_labels = next(iter(corpus_loader)) # A tensor of corpus inputs\n",
    "test_inputs, test_labels = next(iter(test_loader)) # A set of inputs to explain"
   ]
  },
  {
   "cell_type": "code",
   "execution_count": 5,
   "id": "16205922-3b1d-493a-aa4e-ee6145474585",
   "metadata": {},
   "outputs": [
    {
     "data": {
      "text/plain": [
       "<torch.utils.data.dataloader.DataLoader at 0x7f658b6cea90>"
      ]
     },
     "execution_count": 5,
     "metadata": {},
     "output_type": "execute_result"
    }
   ],
   "source": [
    "corpus_loader"
   ]
  },
  {
   "cell_type": "markdown",
   "id": "40574660-3988-4bd2-8f26-f971b6637624",
   "metadata": {},
   "source": [
    "## 3. Train the model"
   ]
  },
  {
   "cell_type": "markdown",
   "id": "a7b964a8-8289-4158-b3ae-7928153d8154",
   "metadata": {},
   "source": [
    "### 3.1. Learner class"
   ]
  },
  {
   "cell_type": "code",
   "execution_count": 6,
   "id": "9dc856ca-cde4-418f-a343-01dcd1f9d717",
   "metadata": {},
   "outputs": [],
   "source": [
    "from xai.models.training import Learner"
   ]
  },
  {
   "cell_type": "code",
   "execution_count": 7,
   "id": "17102246-97a1-44bc-bbb0-07dc912eaaf8",
   "metadata": {},
   "outputs": [],
   "source": [
    "learn = Learner(model, corpus_loader, test_loader, 10)"
   ]
  },
  {
   "cell_type": "code",
   "execution_count": 8,
   "id": "d2531fcf-8630-4621-8d9a-0da1de43ca66",
   "metadata": {},
   "outputs": [
    {
     "name": "stdout",
     "output_type": "stream",
     "text": [
      "Epoch: 1 | Training loss: 2.321478843688965 | Validation loss: 2.307582139968872\n",
      "Epoch: 2 | Training loss: 2.303701400756836 | Validation loss: 2.293464183807373\n",
      "Epoch: 3 | Training loss: 2.258002758026123 | Validation loss: 2.2805933952331543\n",
      "Epoch: 4 | Training loss: 2.271474599838257 | Validation loss: 2.262023448944092\n",
      "Epoch: 5 | Training loss: 2.2004315853118896 | Validation loss: 2.2400355339050293\n",
      "Epoch: 6 | Training loss: 2.2040114402770996 | Validation loss: 2.1976354122161865\n",
      "Epoch: 7 | Training loss: 2.090068817138672 | Validation loss: 2.132516384124756\n",
      "Epoch: 8 | Training loss: 1.9447423219680786 | Validation loss: 2.046426773071289\n",
      "Epoch: 9 | Training loss: 1.9964561462402344 | Validation loss: 1.8926242589950562\n",
      "Epoch: 10 | Training loss: 1.7329294681549072 | Validation loss: 1.6882061958312988\n"
     ]
    }
   ],
   "source": [
    "learn.fit()"
   ]
  },
  {
   "cell_type": "markdown",
   "id": "0037b886-4262-4225-a0f7-46cd8b18e9a8",
   "metadata": {
    "jp-MarkdownHeadingCollapsed": true
   },
   "source": [
    "### 3.1 Development"
   ]
  },
  {
   "cell_type": "code",
   "execution_count": null,
   "id": "da0060c9-9e98-4a55-803d-8fe1e5124dd3",
   "metadata": {},
   "outputs": [],
   "source": [
    "import torch.nn as nn\n",
    "import torch.optim as optim\n",
    "\n",
    "# Use default values from \n",
    "# https://github.com/vanderschaarlab/Simplex/blob/0af504927122d59dfc1378b73d0292244213e982/src/simplexai/experiments/mnist.py#L83\n",
    "loss_function = nn.CrossEntropyLoss()\n",
    "optimizer = optim.SGD(model.parameters(), lr=0.01, momentum=0.5, weight_decay=0.01)"
   ]
  },
  {
   "cell_type": "code",
   "execution_count": null,
   "id": "747caecf-dfff-4b45-8694-39566e6940e3",
   "metadata": {},
   "outputs": [],
   "source": [
    "corpus_inputs.shape"
   ]
  },
  {
   "cell_type": "code",
   "execution_count": null,
   "id": "0ae29109-7c64-4ea2-bdd0-84c7a2cb178e",
   "metadata": {},
   "outputs": [],
   "source": [
    "def calculate_one_epoch(model, corpus_loader, loss_function):\n",
    "    running_loss = 0.\n",
    "    \n",
    "    for batch_idx, data in enumerate(corpus_loader):\n",
    "        # Unpack inputs and labels from data loader\n",
    "        inputs, labels = data\n",
    "        \n",
    "        # Zero your learning weight gradients for every batch\n",
    "        optimizer.zero_grad()\n",
    "\n",
    "        # Make predictions for this batch and compute the loss\n",
    "        outputs = model(inputs)  \n",
    "        loss = loss_function(outputs, labels)\n",
    "        loss.backward()\n",
    "\n",
    "        # Adjust learning weights\n",
    "        optimizer.step()\n",
    "\n",
    "    return loss\n",
    "\n"
   ]
  },
  {
   "cell_type": "code",
   "execution_count": 120,
   "id": "bf8e72cd-f5a8-453a-993c-3158e3440c8a",
   "metadata": {},
   "outputs": [],
   "source": [
    "def calculate_validation_loss(model, test_loader, loss_function, debug=False):\n",
    "    validation_losses = []\n",
    "    with torch.no_grad():\n",
    "        for batch_idx, data in enumerate(test_loader):\n",
    "            inputs, labels = data\n",
    "            batch_outputs = model(inputs)\n",
    "            batch_loss = loss_function(batch_outputs, labels)\n",
    "            validation_losses.append(batch_loss)\n",
    "    \n",
    "            # TODO GJ: For debugging\n",
    "            if debug:\n",
    "                print(batch_loss)\n",
    "\n",
    "    return np.mean(validation_losses)\n",
    "    "
   ]
  },
  {
   "cell_type": "code",
   "execution_count": 121,
   "id": "dddb83d0-8b68-464a-96fd-44894f15ffc4",
   "metadata": {},
   "outputs": [
    {
     "name": "stdout",
     "output_type": "stream",
     "text": [
      "tensor(1.0683)\n",
      "tensor(0.9434)\n",
      "tensor(0.7376)\n",
      "tensor(0.8664)\n",
      "tensor(0.7844)\n",
      "tensor(0.9880)\n",
      "tensor(0.7252)\n",
      "tensor(0.7040)\n",
      "tensor(0.6760)\n",
      "tensor(0.8815)\n",
      "tensor(0.6401)\n",
      "tensor(0.9979)\n",
      "tensor(0.9591)\n",
      "tensor(0.9345)\n",
      "tensor(0.9426)\n",
      "tensor(0.8515)\n"
     ]
    },
    {
     "data": {
      "text/plain": [
       "0.8562723"
      ]
     },
     "execution_count": 121,
     "metadata": {},
     "output_type": "execute_result"
    }
   ],
   "source": [
    "calculate_validation_loss(model, test_loader, loss_function, debug=True)"
   ]
  },
  {
   "cell_type": "code",
   "execution_count": 128,
   "id": "02815dfb-7bc0-497d-98a3-c164307014ce",
   "metadata": {
    "scrolled": true
   },
   "outputs": [
    {
     "data": {
      "text/plain": [
       "Parameter containing:\n",
       "tensor([[-0.0308, -0.0207,  0.0073,  ...,  0.0191,  0.0399, -0.0210],\n",
       "        [ 0.0270, -0.0175,  0.0477,  ..., -0.0223,  0.0352, -0.0158],\n",
       "        [ 0.0239,  0.0503,  0.0451,  ..., -0.0223,  0.0228,  0.0351],\n",
       "        ...,\n",
       "        [-0.0174, -0.0443,  0.0373,  ..., -0.0226,  0.0417, -0.0141],\n",
       "        [ 0.0460,  0.0286, -0.0199,  ...,  0.0331, -0.0020,  0.0243],\n",
       "        [ 0.0344,  0.0418, -0.0292,  ...,  0.0194, -0.0385,  0.0231]],\n",
       "       requires_grad=True)"
      ]
     },
     "execution_count": 128,
     "metadata": {},
     "output_type": "execute_result"
    }
   ],
   "source": [
    "model.fc1.weight"
   ]
  },
  {
   "cell_type": "code",
   "execution_count": 129,
   "id": "f5edb819-a9c5-4d05-9a94-04ccbe7ab65f",
   "metadata": {},
   "outputs": [
    {
     "name": "stdout",
     "output_type": "stream",
     "text": [
      "0.6170090436935425\n"
     ]
    },
    {
     "data": {
      "text/plain": [
       "tensor(0.6170, grad_fn=<NllLossBackward0>)"
      ]
     },
     "execution_count": 129,
     "metadata": {},
     "output_type": "execute_result"
    }
   ],
   "source": [
    "calculate_one_epoch(model, corpus_loader, loss_function)"
   ]
  },
  {
   "cell_type": "code",
   "execution_count": 130,
   "id": "ee2c0a1b-487a-41b8-9cd0-535dd9544946",
   "metadata": {
    "scrolled": true
   },
   "outputs": [
    {
     "data": {
      "text/plain": [
       "Parameter containing:\n",
       "tensor([[-0.0304, -0.0198,  0.0075,  ...,  0.0191,  0.0397, -0.0209],\n",
       "        [ 0.0290, -0.0157,  0.0474,  ..., -0.0223,  0.0351, -0.0154],\n",
       "        [ 0.0262,  0.0527,  0.0485,  ..., -0.0221,  0.0227,  0.0352],\n",
       "        ...,\n",
       "        [-0.0194, -0.0479,  0.0323,  ..., -0.0223,  0.0417, -0.0138],\n",
       "        [ 0.0466,  0.0283, -0.0214,  ...,  0.0330, -0.0018,  0.0245],\n",
       "        [ 0.0337,  0.0398, -0.0310,  ...,  0.0196, -0.0384,  0.0227]],\n",
       "       requires_grad=True)"
      ]
     },
     "execution_count": 130,
     "metadata": {},
     "output_type": "execute_result"
    }
   ],
   "source": [
    "model.fc1.weight"
   ]
  },
  {
   "cell_type": "code",
   "execution_count": 142,
   "id": "d5a738b1-6194-4105-9213-1108628db6b7",
   "metadata": {},
   "outputs": [],
   "source": [
    "def train_model(model, corpus_loader, test_loader, loss_function, num_epochs):\n",
    "    print(f\"Training model {model}\")\n",
    "    for epoch in range(num_epochs):  # loop over the dataset multiple times\n",
    "\n",
    "        training_loss = calculate_one_epoch(model, corpus_loader, loss_function)\n",
    "        validation_loss = calculate_validation_loss(model, test_loader, loss_function)\n",
    "        print(f\"Epoch: {epoch+1} | Training loss: {training_loss} | Validation loss: {validation_loss}\")\n",
    "\n",
    "    print(f\"Model training complete.\")"
   ]
  },
  {
   "cell_type": "code",
   "execution_count": 143,
   "id": "cb38c5b2-7705-414c-888d-08f7760ce852",
   "metadata": {
    "scrolled": true
   },
   "outputs": [
    {
     "data": {
      "text/plain": [
       "Parameter containing:\n",
       "tensor([[-0.0250, -0.0123,  0.0075,  ...,  0.0179,  0.0358, -0.0174],\n",
       "        [ 0.0265, -0.0147,  0.0532,  ..., -0.0211,  0.0329, -0.0092],\n",
       "        [ 0.0187,  0.0396,  0.0472,  ..., -0.0198,  0.0194,  0.0339],\n",
       "        ...,\n",
       "        [-0.0416, -0.0560,  0.0262,  ..., -0.0199,  0.0381, -0.0092],\n",
       "        [ 0.0637,  0.0455,  0.0038,  ...,  0.0292, -0.0004,  0.0254],\n",
       "        [ 0.0352,  0.0495, -0.0494,  ...,  0.0171, -0.0336,  0.0191]],\n",
       "       requires_grad=True)"
      ]
     },
     "execution_count": 143,
     "metadata": {},
     "output_type": "execute_result"
    }
   ],
   "source": [
    "model.fc1.weight"
   ]
  },
  {
   "cell_type": "code",
   "execution_count": 144,
   "id": "468b0ff8-1996-4a68-b92a-11a37797ba49",
   "metadata": {},
   "outputs": [
    {
     "name": "stdout",
     "output_type": "stream",
     "text": [
      "Training model CNNClassifier(\n",
      "  (conv1): Conv2d(1, 10, kernel_size=(5, 5), stride=(1, 1))\n",
      "  (conv2): Conv2d(10, 20, kernel_size=(5, 5), stride=(1, 1))\n",
      "  (conv2_drop): Dropout2d(p=0.5, inplace=False)\n",
      "  (fc1): Linear(in_features=320, out_features=50, bias=True)\n",
      "  (fc2): Linear(in_features=50, out_features=10, bias=True)\n",
      ")\n",
      "Epoch: 1 | Training loss: 0.3185777962207794 | Validation loss: 0.4822332262992859\n",
      "Epoch: 2 | Training loss: 0.34704187512397766 | Validation loss: 0.48406344652175903\n",
      "Epoch: 3 | Training loss: 0.4384196400642395 | Validation loss: 0.46865567564964294\n",
      "Epoch: 4 | Training loss: 0.47031792998313904 | Validation loss: 0.4788334369659424\n",
      "Epoch: 5 | Training loss: 0.48285216093063354 | Validation loss: 0.4831583499908447\n",
      "Epoch: 6 | Training loss: 0.3725970983505249 | Validation loss: 0.47777703404426575\n",
      "Epoch: 7 | Training loss: 0.2947460412979126 | Validation loss: 0.47649532556533813\n",
      "Epoch: 8 | Training loss: 0.45903638005256653 | Validation loss: 0.4886394739151001\n",
      "Epoch: 9 | Training loss: 0.4367433786392212 | Validation loss: 0.4773584008216858\n",
      "Epoch: 10 | Training loss: 0.3058611750602722 | Validation loss: 0.5011563301086426\n",
      "Model training complete.\n"
     ]
    }
   ],
   "source": [
    "train_model(model, corpus_loader, test_loader, loss_function, num_epochs=10)"
   ]
  },
  {
   "cell_type": "code",
   "execution_count": 145,
   "id": "7361ecf0-6643-44c9-adeb-01a12f400285",
   "metadata": {
    "scrolled": true
   },
   "outputs": [
    {
     "data": {
      "text/plain": [
       "Parameter containing:\n",
       "tensor([[-0.0204, -0.0137,  0.0075,  ...,  0.0175,  0.0337, -0.0172],\n",
       "        [ 0.0241, -0.0114,  0.0545,  ..., -0.0208,  0.0321, -0.0084],\n",
       "        [ 0.0194,  0.0362,  0.0464,  ..., -0.0190,  0.0171,  0.0330],\n",
       "        ...,\n",
       "        [-0.0482, -0.0530,  0.0266,  ..., -0.0193,  0.0372, -0.0079],\n",
       "        [ 0.0643,  0.0429,  0.0051,  ...,  0.0280, -0.0003,  0.0256],\n",
       "        [ 0.0277,  0.0438, -0.0544,  ...,  0.0168, -0.0321,  0.0175]],\n",
       "       requires_grad=True)"
      ]
     },
     "execution_count": 145,
     "metadata": {},
     "output_type": "execute_result"
    }
   ],
   "source": [
    "model.fc1.weight"
   ]
  },
  {
   "cell_type": "markdown",
   "id": "ee2ce5a7-f95c-4fd5-8079-a203146701ab",
   "metadata": {},
   "source": [
    "## 4. Save a model"
   ]
  },
  {
   "cell_type": "code",
   "execution_count": 9,
   "id": "7fc55a5b-ede6-472c-9e63-3a7ef4fd6056",
   "metadata": {},
   "outputs": [],
   "source": [
    "import pathlib"
   ]
  },
  {
   "cell_type": "code",
   "execution_count": 11,
   "id": "71f0edee-3e40-4d6d-94d2-d55c11386cf6",
   "metadata": {},
   "outputs": [
    {
     "data": {
      "text/plain": [
       "PosixPath('/home/gurp/workspace/xai/xai/models/saved_models/simple_cnn_test2.pth')"
      ]
     },
     "execution_count": 11,
     "metadata": {},
     "output_type": "execute_result"
    }
   ],
   "source": [
    "MODEL_DIR = pathlib.Path(\"/home/gurp/workspace/xai/xai/models/saved_models\")\n",
    "MODEL_FNAME = 'simple_cnn_test2.pth'\n",
    "MODEL_FPATH = MODEL_DIR / MODEL_FNAME\n",
    "MODEL_FPATH"
   ]
  },
  {
   "cell_type": "code",
   "execution_count": 12,
   "id": "93b3fcb6-51e4-4758-9120-afb35d9374be",
   "metadata": {},
   "outputs": [],
   "source": [
    "# This is essentially a wrapper around torch.save(model.state_dict(), MODEL_FPATH)\n",
    "learn.save_model(MODEL_FPATH)"
   ]
  },
  {
   "cell_type": "code",
   "execution_count": 14,
   "id": "b6ab6faa-1769-47b5-9c8a-da7e5c361a59",
   "metadata": {},
   "outputs": [],
   "source": []
  },
  {
   "cell_type": "code",
   "execution_count": null,
   "id": "df7fa125-8fd8-4e89-a216-8c56d7da582c",
   "metadata": {},
   "outputs": [],
   "source": []
  },
  {
   "cell_type": "markdown",
   "id": "75301d64-7188-426e-9d41-52e8d149e353",
   "metadata": {},
   "source": [
    "Saving/loading models"
   ]
  },
  {
   "cell_type": "markdown",
   "id": "92ad2bcb-a820-4b0d-85b6-e5ee27b51d1d",
   "metadata": {},
   "source": [
    "## 5. Load a model"
   ]
  },
  {
   "cell_type": "code",
   "execution_count": 13,
   "id": "26fb5cad-d8c3-4288-a97f-420718134dab",
   "metadata": {},
   "outputs": [
    {
     "data": {
      "text/plain": [
       "<All keys matched successfully>"
      ]
     },
     "execution_count": 13,
     "metadata": {},
     "output_type": "execute_result"
    }
   ],
   "source": [
    "model2 = CNNClassifier()\n",
    "model2.load_state_dict(torch.load(MODEL_FPATH))"
   ]
  },
  {
   "cell_type": "code",
   "execution_count": 14,
   "id": "6909bfda-f93a-478a-8ee7-b9172d33931e",
   "metadata": {},
   "outputs": [
    {
     "data": {
      "text/plain": [
       "Parameter containing:\n",
       "tensor([[-0.0296, -0.0352,  0.0463,  ...,  0.0346, -0.0150, -0.0504],\n",
       "        [ 0.0276, -0.0086,  0.0576,  ...,  0.0687,  0.0058, -0.0284],\n",
       "        [-0.0418,  0.0038, -0.0282,  ...,  0.0667,  0.0281, -0.0422],\n",
       "        ...,\n",
       "        [ 0.0340, -0.0411,  0.0304,  ..., -0.0296, -0.0237,  0.0355],\n",
       "        [ 0.0451,  0.0145, -0.0184,  ...,  0.0350,  0.0128, -0.0334],\n",
       "        [ 0.0292,  0.0033, -0.0106,  ..., -0.0463, -0.0378, -0.0383]],\n",
       "       requires_grad=True)"
      ]
     },
     "execution_count": 14,
     "metadata": {},
     "output_type": "execute_result"
    }
   ],
   "source": [
    "model2.fc1.weight"
   ]
  },
  {
   "cell_type": "code",
   "execution_count": 15,
   "id": "2992bce3-5e64-4a4f-a7a3-2851e6f4c66d",
   "metadata": {},
   "outputs": [
    {
     "data": {
      "text/plain": [
       "Parameter containing:\n",
       "tensor([[-0.0296, -0.0352,  0.0463,  ...,  0.0346, -0.0150, -0.0504],\n",
       "        [ 0.0276, -0.0086,  0.0576,  ...,  0.0687,  0.0058, -0.0284],\n",
       "        [-0.0418,  0.0038, -0.0282,  ...,  0.0667,  0.0281, -0.0422],\n",
       "        ...,\n",
       "        [ 0.0340, -0.0411,  0.0304,  ..., -0.0296, -0.0237,  0.0355],\n",
       "        [ 0.0451,  0.0145, -0.0184,  ...,  0.0350,  0.0128, -0.0334],\n",
       "        [ 0.0292,  0.0033, -0.0106,  ..., -0.0463, -0.0378, -0.0383]],\n",
       "       requires_grad=True)"
      ]
     },
     "execution_count": 15,
     "metadata": {},
     "output_type": "execute_result"
    }
   ],
   "source": [
    "model.fc1.weight"
   ]
  },
  {
   "cell_type": "markdown",
   "id": "12d6236c-0c3d-42ce-b4c9-c49c1fb219f4",
   "metadata": {},
   "source": [
    "## 6. Model predictions\n",
    "From https://pytorch.org/tutorials/beginner/blitz/cifar10_tutorial.html"
   ]
  },
  {
   "cell_type": "code",
   "execution_count": null,
   "id": "250092a4-570b-4257-9bfa-692d9df8a5a2",
   "metadata": {},
   "outputs": [],
   "source": [
    "# correct = 0\n",
    "# total = 0\n",
    "# # since we're not training, we don't need to calculate the gradients for our outputs\n",
    "# with torch.no_grad():\n",
    "#     for data in testloader:\n",
    "#         images, labels = data\n",
    "#         # calculate outputs by running images through the network\n",
    "#         outputs = net(images)\n",
    "#         # the class with the highest energy is what we choose as prediction\n",
    "#         _, predicted = torch.max(outputs.data, 1)\n",
    "#         total += labels.size(0)\n",
    "#         correct += (predicted == labels).sum().item()\n",
    "\n",
    "# print(f'Accuracy of the network on the 10000 test images: {100 * correct // total} %')"
   ]
  }
 ],
 "metadata": {
  "kernelspec": {
   "display_name": "Python 3 (ipykernel)",
   "language": "python",
   "name": "python3"
  },
  "language_info": {
   "codemirror_mode": {
    "name": "ipython",
    "version": 3
   },
   "file_extension": ".py",
   "mimetype": "text/x-python",
   "name": "python",
   "nbconvert_exporter": "python",
   "pygments_lexer": "ipython3",
   "version": "3.11.5"
  }
 },
 "nbformat": 4,
 "nbformat_minor": 5
}
