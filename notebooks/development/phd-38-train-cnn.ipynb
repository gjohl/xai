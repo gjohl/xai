{
 "cells": [
  {
   "cell_type": "markdown",
   "id": "c1dfe8c4-c9b2-4e44-869f-f22d8b87964c",
   "metadata": {},
   "source": [
    "# Create a simple CNN\n",
    "Notebook to create and train a simple CNN on MNIST data."
   ]
  },
  {
   "cell_type": "markdown",
   "id": "e3481cf3-b354-4f35-bfad-aa5837a2ef92",
   "metadata": {},
   "source": [
    "## 1. Create a model"
   ]
  },
  {
   "cell_type": "code",
   "execution_count": 1,
   "id": "59f7027a-55df-409f-bc27-1b5ef2401cde",
   "metadata": {},
   "outputs": [],
   "source": [
    "import numpy as np\n",
    "import torch\n",
    "\n",
    "from xai.data_handlers.mnist import load_mnist\n",
    "from xai.models.simple_cnn import CNNClassifier"
   ]
  },
  {
   "cell_type": "code",
   "execution_count": 2,
   "id": "5646d43d-db4b-4197-95fe-8cf40bbc73b4",
   "metadata": {},
   "outputs": [],
   "source": [
    "model = CNNClassifier()"
   ]
  },
  {
   "cell_type": "code",
   "execution_count": 3,
   "id": "c7be5444-6242-434d-8fc4-24ca048fc478",
   "metadata": {},
   "outputs": [
    {
     "data": {
      "text/plain": [
       "CNNClassifier(\n",
       "  (conv1): Conv2d(1, 10, kernel_size=(5, 5), stride=(1, 1))\n",
       "  (conv2): Conv2d(10, 20, kernel_size=(5, 5), stride=(1, 1))\n",
       "  (conv2_drop): Dropout2d(p=0.5, inplace=False)\n",
       "  (fc1): Linear(in_features=320, out_features=50, bias=True)\n",
       "  (fc2): Linear(in_features=50, out_features=10, bias=True)\n",
       ")"
      ]
     },
     "execution_count": 3,
     "metadata": {},
     "output_type": "execute_result"
    }
   ],
   "source": [
    "model"
   ]
  },
  {
   "cell_type": "markdown",
   "id": "490dcb12-9a83-4ca9-a524-eb66e486f37f",
   "metadata": {},
   "source": [
    "## 2. Load data"
   ]
  },
  {
   "cell_type": "code",
   "execution_count": 4,
   "id": "f062056d-c678-4814-b114-cc0fe1f7352d",
   "metadata": {},
   "outputs": [],
   "source": [
    "# Load corpus and test inputs\n",
    "batch_size = 64\n",
    "# batch_size_test = 1000\n",
    "\n",
    "corpus_loader = load_mnist(subset_size=8192, train=True, batch_size=batch_size) # MNIST train loader\n",
    "test_loader = load_mnist(subset_size=1024, train=False, batch_size=batch_size) # MNIST test loader\n",
    "corpus_inputs, corpus_labels = next(iter(corpus_loader)) # A tensor of corpus inputs\n",
    "test_inputs, test_labels = next(iter(test_loader)) # A set of inputs to explain"
   ]
  },
  {
   "cell_type": "code",
   "execution_count": 5,
   "id": "16205922-3b1d-493a-aa4e-ee6145474585",
   "metadata": {},
   "outputs": [
    {
     "data": {
      "text/plain": [
       "<torch.utils.data.dataloader.DataLoader at 0x7f5c799a3dd0>"
      ]
     },
     "execution_count": 5,
     "metadata": {},
     "output_type": "execute_result"
    }
   ],
   "source": [
    "corpus_loader"
   ]
  },
  {
   "cell_type": "markdown",
   "id": "40574660-3988-4bd2-8f26-f971b6637624",
   "metadata": {},
   "source": [
    "## 3. Train the model"
   ]
  },
  {
   "cell_type": "markdown",
   "id": "a7b964a8-8289-4158-b3ae-7928153d8154",
   "metadata": {},
   "source": [
    "### 3.1. Learner class"
   ]
  },
  {
   "cell_type": "code",
   "execution_count": 6,
   "id": "9dc856ca-cde4-418f-a343-01dcd1f9d717",
   "metadata": {},
   "outputs": [],
   "source": [
    "from xai.models.training import Learner"
   ]
  },
  {
   "cell_type": "code",
   "execution_count": 7,
   "id": "17102246-97a1-44bc-bbb0-07dc912eaaf8",
   "metadata": {},
   "outputs": [],
   "source": [
    "learn = Learner(model, corpus_loader, test_loader, 50)"
   ]
  },
  {
   "cell_type": "code",
   "execution_count": 8,
   "id": "d2531fcf-8630-4621-8d9a-0da1de43ca66",
   "metadata": {},
   "outputs": [
    {
     "name": "stdout",
     "output_type": "stream",
     "text": [
      "Epoch: 1 | Training loss: 1.5604335069656372 | Validation loss: 1.6822130680084229\n",
      "Epoch: 2 | Training loss: 0.7211534380912781 | Validation loss: 0.8776928186416626\n",
      "Epoch: 3 | Training loss: 0.7133477330207825 | Validation loss: 0.7073726058006287\n",
      "Epoch: 4 | Training loss: 0.6049826145172119 | Validation loss: 0.6029149293899536\n",
      "Epoch: 5 | Training loss: 0.5692577362060547 | Validation loss: 0.5666249990463257\n",
      "Epoch: 6 | Training loss: 0.7106596231460571 | Validation loss: 0.48106473684310913\n",
      "Epoch: 7 | Training loss: 0.4957420229911804 | Validation loss: 0.4619848430156708\n",
      "Epoch: 8 | Training loss: 0.5009782314300537 | Validation loss: 0.4442247152328491\n",
      "Epoch: 9 | Training loss: 0.33845433592796326 | Validation loss: 0.4081638753414154\n",
      "Epoch: 10 | Training loss: 0.33005276322364807 | Validation loss: 0.40914177894592285\n",
      "Epoch: 11 | Training loss: 0.41159960627555847 | Validation loss: 0.3597172498703003\n",
      "Epoch: 12 | Training loss: 0.47302430868148804 | Validation loss: 0.3651629388332367\n",
      "Epoch: 13 | Training loss: 0.32323306798934937 | Validation loss: 0.3882679045200348\n",
      "Epoch: 14 | Training loss: 0.3744758665561676 | Validation loss: 0.3419056534767151\n",
      "Epoch: 15 | Training loss: 0.26631373167037964 | Validation loss: 0.33753764629364014\n",
      "Epoch: 16 | Training loss: 0.25965625047683716 | Validation loss: 0.3445584774017334\n",
      "Epoch: 17 | Training loss: 0.3257174789905548 | Validation loss: 0.32696008682250977\n",
      "Epoch: 18 | Training loss: 0.3114454448223114 | Validation loss: 0.302753746509552\n",
      "Epoch: 19 | Training loss: 0.2359820455312729 | Validation loss: 0.3346526324748993\n",
      "Epoch: 20 | Training loss: 0.3339231312274933 | Validation loss: 0.3326959013938904\n",
      "Epoch: 21 | Training loss: 0.18390634655952454 | Validation loss: 0.3101472556591034\n",
      "Epoch: 22 | Training loss: 0.18786437809467316 | Validation loss: 0.30869433283805847\n",
      "Epoch: 23 | Training loss: 0.4126061499118805 | Validation loss: 0.29357051849365234\n",
      "Epoch: 24 | Training loss: 0.17090339958667755 | Validation loss: 0.2867337465286255\n",
      "Epoch: 25 | Training loss: 0.2783055007457733 | Validation loss: 0.27720510959625244\n",
      "Epoch: 26 | Training loss: 0.18489773571491241 | Validation loss: 0.30537569522857666\n",
      "Epoch: 27 | Training loss: 0.4083249568939209 | Validation loss: 0.27591559290885925\n",
      "Epoch: 28 | Training loss: 0.4675770401954651 | Validation loss: 0.2855062782764435\n",
      "Epoch: 29 | Training loss: 0.244889497756958 | Validation loss: 0.2569955885410309\n",
      "Epoch: 30 | Training loss: 0.100559301674366 | Validation loss: 0.26659655570983887\n",
      "Epoch: 31 | Training loss: 0.2821805477142334 | Validation loss: 0.2584683299064636\n",
      "Epoch: 32 | Training loss: 0.29835304617881775 | Validation loss: 0.23782438039779663\n",
      "Epoch: 33 | Training loss: 0.18947036564350128 | Validation loss: 0.25506627559661865\n",
      "Epoch: 34 | Training loss: 0.1961192786693573 | Validation loss: 0.2650710940361023\n",
      "Epoch: 35 | Training loss: 0.21218331158161163 | Validation loss: 0.24120470881462097\n",
      "Epoch: 36 | Training loss: 0.484688401222229 | Validation loss: 0.27991414070129395\n",
      "Epoch: 37 | Training loss: 0.23901422321796417 | Validation loss: 0.24339035153388977\n",
      "Epoch: 38 | Training loss: 0.2955330014228821 | Validation loss: 0.24789370596408844\n",
      "Epoch: 39 | Training loss: 0.2753598093986511 | Validation loss: 0.25198298692703247\n",
      "Epoch: 40 | Training loss: 0.37318986654281616 | Validation loss: 0.23039421439170837\n",
      "Epoch: 41 | Training loss: 0.1349075883626938 | Validation loss: 0.23212750256061554\n",
      "Epoch: 42 | Training loss: 0.15047498047351837 | Validation loss: 0.25508227944374084\n",
      "Epoch: 43 | Training loss: 0.06293974816799164 | Validation loss: 0.24907919764518738\n",
      "Epoch: 44 | Training loss: 0.34380877017974854 | Validation loss: 0.2633458077907562\n",
      "Epoch: 45 | Training loss: 0.27635642886161804 | Validation loss: 0.23618924617767334\n",
      "Epoch: 46 | Training loss: 0.2951335906982422 | Validation loss: 0.2521112263202667\n",
      "Epoch: 47 | Training loss: 0.12240629643201828 | Validation loss: 0.2365930676460266\n",
      "Epoch: 48 | Training loss: 0.175726518034935 | Validation loss: 0.2038518786430359\n",
      "Epoch: 49 | Training loss: 0.3008885979652405 | Validation loss: 0.23343750834465027\n",
      "Epoch: 50 | Training loss: 0.16049368679523468 | Validation loss: 0.235294371843338\n"
     ]
    }
   ],
   "source": [
    "learn.fit()"
   ]
  },
  {
   "cell_type": "markdown",
   "id": "0037b886-4262-4225-a0f7-46cd8b18e9a8",
   "metadata": {
    "jp-MarkdownHeadingCollapsed": true
   },
   "source": [
    "### 3.1 Development"
   ]
  },
  {
   "cell_type": "code",
   "execution_count": null,
   "id": "da0060c9-9e98-4a55-803d-8fe1e5124dd3",
   "metadata": {},
   "outputs": [],
   "source": [
    "import torch.nn as nn\n",
    "import torch.optim as optim\n",
    "\n",
    "# Use default values from \n",
    "# https://github.com/vanderschaarlab/Simplex/blob/0af504927122d59dfc1378b73d0292244213e982/src/simplexai/experiments/mnist.py#L83\n",
    "loss_function = nn.CrossEntropyLoss()\n",
    "optimizer = optim.SGD(model.parameters(), lr=0.01, momentum=0.5, weight_decay=0.01)"
   ]
  },
  {
   "cell_type": "code",
   "execution_count": null,
   "id": "747caecf-dfff-4b45-8694-39566e6940e3",
   "metadata": {},
   "outputs": [],
   "source": [
    "corpus_inputs.shape"
   ]
  },
  {
   "cell_type": "code",
   "execution_count": null,
   "id": "0ae29109-7c64-4ea2-bdd0-84c7a2cb178e",
   "metadata": {},
   "outputs": [],
   "source": [
    "def calculate_one_epoch(model, corpus_loader, loss_function):\n",
    "    running_loss = 0.\n",
    "    \n",
    "    for batch_idx, data in enumerate(corpus_loader):\n",
    "        # Unpack inputs and labels from data loader\n",
    "        inputs, labels = data\n",
    "        \n",
    "        # Zero your learning weight gradients for every batch\n",
    "        optimizer.zero_grad()\n",
    "\n",
    "        # Make predictions for this batch and compute the loss\n",
    "        outputs = model(inputs)  \n",
    "        loss = loss_function(outputs, labels)\n",
    "        loss.backward()\n",
    "\n",
    "        # Adjust learning weights\n",
    "        optimizer.step()\n",
    "\n",
    "    return loss\n",
    "\n"
   ]
  },
  {
   "cell_type": "code",
   "execution_count": 120,
   "id": "bf8e72cd-f5a8-453a-993c-3158e3440c8a",
   "metadata": {},
   "outputs": [],
   "source": [
    "def calculate_validation_loss(model, test_loader, loss_function, debug=False):\n",
    "    validation_losses = []\n",
    "    with torch.no_grad():\n",
    "        for batch_idx, data in enumerate(test_loader):\n",
    "            inputs, labels = data\n",
    "            batch_outputs = model(inputs)\n",
    "            batch_loss = loss_function(batch_outputs, labels)\n",
    "            validation_losses.append(batch_loss)\n",
    "    \n",
    "            # TODO GJ: For debugging\n",
    "            if debug:\n",
    "                print(batch_loss)\n",
    "\n",
    "    return np.mean(validation_losses)\n",
    "    "
   ]
  },
  {
   "cell_type": "code",
   "execution_count": 121,
   "id": "dddb83d0-8b68-464a-96fd-44894f15ffc4",
   "metadata": {},
   "outputs": [
    {
     "name": "stdout",
     "output_type": "stream",
     "text": [
      "tensor(1.0683)\n",
      "tensor(0.9434)\n",
      "tensor(0.7376)\n",
      "tensor(0.8664)\n",
      "tensor(0.7844)\n",
      "tensor(0.9880)\n",
      "tensor(0.7252)\n",
      "tensor(0.7040)\n",
      "tensor(0.6760)\n",
      "tensor(0.8815)\n",
      "tensor(0.6401)\n",
      "tensor(0.9979)\n",
      "tensor(0.9591)\n",
      "tensor(0.9345)\n",
      "tensor(0.9426)\n",
      "tensor(0.8515)\n"
     ]
    },
    {
     "data": {
      "text/plain": [
       "0.8562723"
      ]
     },
     "execution_count": 121,
     "metadata": {},
     "output_type": "execute_result"
    }
   ],
   "source": [
    "calculate_validation_loss(model, test_loader, loss_function, debug=True)"
   ]
  },
  {
   "cell_type": "code",
   "execution_count": 128,
   "id": "02815dfb-7bc0-497d-98a3-c164307014ce",
   "metadata": {
    "scrolled": true
   },
   "outputs": [
    {
     "data": {
      "text/plain": [
       "Parameter containing:\n",
       "tensor([[-0.0308, -0.0207,  0.0073,  ...,  0.0191,  0.0399, -0.0210],\n",
       "        [ 0.0270, -0.0175,  0.0477,  ..., -0.0223,  0.0352, -0.0158],\n",
       "        [ 0.0239,  0.0503,  0.0451,  ..., -0.0223,  0.0228,  0.0351],\n",
       "        ...,\n",
       "        [-0.0174, -0.0443,  0.0373,  ..., -0.0226,  0.0417, -0.0141],\n",
       "        [ 0.0460,  0.0286, -0.0199,  ...,  0.0331, -0.0020,  0.0243],\n",
       "        [ 0.0344,  0.0418, -0.0292,  ...,  0.0194, -0.0385,  0.0231]],\n",
       "       requires_grad=True)"
      ]
     },
     "execution_count": 128,
     "metadata": {},
     "output_type": "execute_result"
    }
   ],
   "source": [
    "model.fc1.weight"
   ]
  },
  {
   "cell_type": "code",
   "execution_count": 129,
   "id": "f5edb819-a9c5-4d05-9a94-04ccbe7ab65f",
   "metadata": {},
   "outputs": [
    {
     "name": "stdout",
     "output_type": "stream",
     "text": [
      "0.6170090436935425\n"
     ]
    },
    {
     "data": {
      "text/plain": [
       "tensor(0.6170, grad_fn=<NllLossBackward0>)"
      ]
     },
     "execution_count": 129,
     "metadata": {},
     "output_type": "execute_result"
    }
   ],
   "source": [
    "calculate_one_epoch(model, corpus_loader, loss_function)"
   ]
  },
  {
   "cell_type": "code",
   "execution_count": 130,
   "id": "ee2c0a1b-487a-41b8-9cd0-535dd9544946",
   "metadata": {
    "scrolled": true
   },
   "outputs": [
    {
     "data": {
      "text/plain": [
       "Parameter containing:\n",
       "tensor([[-0.0304, -0.0198,  0.0075,  ...,  0.0191,  0.0397, -0.0209],\n",
       "        [ 0.0290, -0.0157,  0.0474,  ..., -0.0223,  0.0351, -0.0154],\n",
       "        [ 0.0262,  0.0527,  0.0485,  ..., -0.0221,  0.0227,  0.0352],\n",
       "        ...,\n",
       "        [-0.0194, -0.0479,  0.0323,  ..., -0.0223,  0.0417, -0.0138],\n",
       "        [ 0.0466,  0.0283, -0.0214,  ...,  0.0330, -0.0018,  0.0245],\n",
       "        [ 0.0337,  0.0398, -0.0310,  ...,  0.0196, -0.0384,  0.0227]],\n",
       "       requires_grad=True)"
      ]
     },
     "execution_count": 130,
     "metadata": {},
     "output_type": "execute_result"
    }
   ],
   "source": [
    "model.fc1.weight"
   ]
  },
  {
   "cell_type": "code",
   "execution_count": 142,
   "id": "d5a738b1-6194-4105-9213-1108628db6b7",
   "metadata": {},
   "outputs": [],
   "source": [
    "def train_model(model, corpus_loader, test_loader, loss_function, num_epochs):\n",
    "    print(f\"Training model {model}\")\n",
    "    for epoch in range(num_epochs):  # loop over the dataset multiple times\n",
    "\n",
    "        training_loss = calculate_one_epoch(model, corpus_loader, loss_function)\n",
    "        validation_loss = calculate_validation_loss(model, test_loader, loss_function)\n",
    "        print(f\"Epoch: {epoch+1} | Training loss: {training_loss} | Validation loss: {validation_loss}\")\n",
    "\n",
    "    print(f\"Model training complete.\")"
   ]
  },
  {
   "cell_type": "code",
   "execution_count": 143,
   "id": "cb38c5b2-7705-414c-888d-08f7760ce852",
   "metadata": {
    "scrolled": true
   },
   "outputs": [
    {
     "data": {
      "text/plain": [
       "Parameter containing:\n",
       "tensor([[-0.0250, -0.0123,  0.0075,  ...,  0.0179,  0.0358, -0.0174],\n",
       "        [ 0.0265, -0.0147,  0.0532,  ..., -0.0211,  0.0329, -0.0092],\n",
       "        [ 0.0187,  0.0396,  0.0472,  ..., -0.0198,  0.0194,  0.0339],\n",
       "        ...,\n",
       "        [-0.0416, -0.0560,  0.0262,  ..., -0.0199,  0.0381, -0.0092],\n",
       "        [ 0.0637,  0.0455,  0.0038,  ...,  0.0292, -0.0004,  0.0254],\n",
       "        [ 0.0352,  0.0495, -0.0494,  ...,  0.0171, -0.0336,  0.0191]],\n",
       "       requires_grad=True)"
      ]
     },
     "execution_count": 143,
     "metadata": {},
     "output_type": "execute_result"
    }
   ],
   "source": [
    "model.fc1.weight"
   ]
  },
  {
   "cell_type": "code",
   "execution_count": 144,
   "id": "468b0ff8-1996-4a68-b92a-11a37797ba49",
   "metadata": {},
   "outputs": [
    {
     "name": "stdout",
     "output_type": "stream",
     "text": [
      "Training model CNNClassifier(\n",
      "  (conv1): Conv2d(1, 10, kernel_size=(5, 5), stride=(1, 1))\n",
      "  (conv2): Conv2d(10, 20, kernel_size=(5, 5), stride=(1, 1))\n",
      "  (conv2_drop): Dropout2d(p=0.5, inplace=False)\n",
      "  (fc1): Linear(in_features=320, out_features=50, bias=True)\n",
      "  (fc2): Linear(in_features=50, out_features=10, bias=True)\n",
      ")\n",
      "Epoch: 1 | Training loss: 0.3185777962207794 | Validation loss: 0.4822332262992859\n",
      "Epoch: 2 | Training loss: 0.34704187512397766 | Validation loss: 0.48406344652175903\n",
      "Epoch: 3 | Training loss: 0.4384196400642395 | Validation loss: 0.46865567564964294\n",
      "Epoch: 4 | Training loss: 0.47031792998313904 | Validation loss: 0.4788334369659424\n",
      "Epoch: 5 | Training loss: 0.48285216093063354 | Validation loss: 0.4831583499908447\n",
      "Epoch: 6 | Training loss: 0.3725970983505249 | Validation loss: 0.47777703404426575\n",
      "Epoch: 7 | Training loss: 0.2947460412979126 | Validation loss: 0.47649532556533813\n",
      "Epoch: 8 | Training loss: 0.45903638005256653 | Validation loss: 0.4886394739151001\n",
      "Epoch: 9 | Training loss: 0.4367433786392212 | Validation loss: 0.4773584008216858\n",
      "Epoch: 10 | Training loss: 0.3058611750602722 | Validation loss: 0.5011563301086426\n",
      "Model training complete.\n"
     ]
    }
   ],
   "source": [
    "train_model(model, corpus_loader, test_loader, loss_function, num_epochs=10)"
   ]
  },
  {
   "cell_type": "code",
   "execution_count": 145,
   "id": "7361ecf0-6643-44c9-adeb-01a12f400285",
   "metadata": {
    "scrolled": true
   },
   "outputs": [
    {
     "data": {
      "text/plain": [
       "Parameter containing:\n",
       "tensor([[-0.0204, -0.0137,  0.0075,  ...,  0.0175,  0.0337, -0.0172],\n",
       "        [ 0.0241, -0.0114,  0.0545,  ..., -0.0208,  0.0321, -0.0084],\n",
       "        [ 0.0194,  0.0362,  0.0464,  ..., -0.0190,  0.0171,  0.0330],\n",
       "        ...,\n",
       "        [-0.0482, -0.0530,  0.0266,  ..., -0.0193,  0.0372, -0.0079],\n",
       "        [ 0.0643,  0.0429,  0.0051,  ...,  0.0280, -0.0003,  0.0256],\n",
       "        [ 0.0277,  0.0438, -0.0544,  ...,  0.0168, -0.0321,  0.0175]],\n",
       "       requires_grad=True)"
      ]
     },
     "execution_count": 145,
     "metadata": {},
     "output_type": "execute_result"
    }
   ],
   "source": [
    "model.fc1.weight"
   ]
  },
  {
   "cell_type": "markdown",
   "id": "ee2ce5a7-f95c-4fd5-8079-a203146701ab",
   "metadata": {},
   "source": [
    "## 4. Save a model"
   ]
  },
  {
   "cell_type": "code",
   "execution_count": 9,
   "id": "7fc55a5b-ede6-472c-9e63-3a7ef4fd6056",
   "metadata": {},
   "outputs": [],
   "source": [
    "import pathlib"
   ]
  },
  {
   "cell_type": "code",
   "execution_count": 10,
   "id": "71f0edee-3e40-4d6d-94d2-d55c11386cf6",
   "metadata": {},
   "outputs": [
    {
     "data": {
      "text/plain": [
       "PosixPath('/home/gurp/workspace/xai/xai/models/saved_models/simple_cnn_50_epochs.pth')"
      ]
     },
     "execution_count": 10,
     "metadata": {},
     "output_type": "execute_result"
    }
   ],
   "source": [
    "MODEL_DIR = pathlib.Path(\"/home/gurp/workspace/xai/xai/models/saved_models\")\n",
    "MODEL_FNAME = 'simple_cnn_50_epochs.pth'\n",
    "MODEL_FPATH = MODEL_DIR / MODEL_FNAME\n",
    "MODEL_FPATH"
   ]
  },
  {
   "cell_type": "code",
   "execution_count": 11,
   "id": "93b3fcb6-51e4-4758-9120-afb35d9374be",
   "metadata": {},
   "outputs": [],
   "source": [
    "# This is essentially a wrapper around torch.save(model.state_dict(), MODEL_FPATH)\n",
    "learn.save_model(MODEL_FPATH)"
   ]
  },
  {
   "cell_type": "markdown",
   "id": "75301d64-7188-426e-9d41-52e8d149e353",
   "metadata": {},
   "source": [
    "Saving/loading models"
   ]
  },
  {
   "cell_type": "markdown",
   "id": "92ad2bcb-a820-4b0d-85b6-e5ee27b51d1d",
   "metadata": {},
   "source": [
    "## 5. Load a model"
   ]
  },
  {
   "cell_type": "code",
   "execution_count": 12,
   "id": "26fb5cad-d8c3-4288-a97f-420718134dab",
   "metadata": {},
   "outputs": [
    {
     "data": {
      "text/plain": [
       "<All keys matched successfully>"
      ]
     },
     "execution_count": 12,
     "metadata": {},
     "output_type": "execute_result"
    }
   ],
   "source": [
    "model2 = CNNClassifier()\n",
    "model2.load_state_dict(torch.load(MODEL_FPATH))"
   ]
  },
  {
   "cell_type": "code",
   "execution_count": 13,
   "id": "6909bfda-f93a-478a-8ee7-b9172d33931e",
   "metadata": {},
   "outputs": [
    {
     "data": {
      "text/plain": [
       "Parameter containing:\n",
       "tensor([[-0.0234,  0.0188,  0.0112,  ..., -0.0242, -0.0034, -0.0125],\n",
       "        [ 0.0547, -0.0034, -0.0217,  ...,  0.0224, -0.0144, -0.0360],\n",
       "        [ 0.0113,  0.0229,  0.0504,  ...,  0.0018,  0.0196, -0.0037],\n",
       "        ...,\n",
       "        [-0.0179, -0.0265, -0.0003,  ..., -0.0205, -0.0531, -0.0154],\n",
       "        [-0.0143,  0.0075,  0.0204,  ...,  0.0012,  0.0039, -0.0004],\n",
       "        [ 0.0208, -0.0325, -0.0490,  ...,  0.0437, -0.0077,  0.0010]],\n",
       "       requires_grad=True)"
      ]
     },
     "execution_count": 13,
     "metadata": {},
     "output_type": "execute_result"
    }
   ],
   "source": [
    "model2.fc1.weight"
   ]
  },
  {
   "cell_type": "code",
   "execution_count": 14,
   "id": "2992bce3-5e64-4a4f-a7a3-2851e6f4c66d",
   "metadata": {},
   "outputs": [
    {
     "data": {
      "text/plain": [
       "Parameter containing:\n",
       "tensor([[-0.0234,  0.0188,  0.0112,  ..., -0.0242, -0.0034, -0.0125],\n",
       "        [ 0.0547, -0.0034, -0.0217,  ...,  0.0224, -0.0144, -0.0360],\n",
       "        [ 0.0113,  0.0229,  0.0504,  ...,  0.0018,  0.0196, -0.0037],\n",
       "        ...,\n",
       "        [-0.0179, -0.0265, -0.0003,  ..., -0.0205, -0.0531, -0.0154],\n",
       "        [-0.0143,  0.0075,  0.0204,  ...,  0.0012,  0.0039, -0.0004],\n",
       "        [ 0.0208, -0.0325, -0.0490,  ...,  0.0437, -0.0077,  0.0010]],\n",
       "       requires_grad=True)"
      ]
     },
     "execution_count": 14,
     "metadata": {},
     "output_type": "execute_result"
    }
   ],
   "source": [
    "model.fc1.weight"
   ]
  },
  {
   "cell_type": "markdown",
   "id": "12d6236c-0c3d-42ce-b4c9-c49c1fb219f4",
   "metadata": {},
   "source": [
    "## 6. Model predictions\n",
    "From https://pytorch.org/tutorials/beginner/blitz/cifar10_tutorial.html\n",
    "\n",
    "```python\n",
    "# correct = 0\n",
    "# total = 0\n",
    "# # since we're not training, we don't need to calculate the gradients for our outputs\n",
    "# with torch.no_grad():\n",
    "#     for data in testloader:\n",
    "#         images, labels = data\n",
    "#         # calculate outputs by running images through the network\n",
    "#         outputs = net(images)\n",
    "#         # the class with the highest energy is what we choose as prediction\n",
    "#         _, predicted = torch.max(outputs.data, 1)\n",
    "#         total += labels.size(0)\n",
    "#         correct += (predicted == labels).sum().item()\n",
    "\n",
    "# print(f'Accuracy of the network on the 10000 test images: {100 * correct // total} %')\n",
    "```"
   ]
  },
  {
   "cell_type": "code",
   "execution_count": 15,
   "id": "540b2745-2f01-49d7-a252-cc3d9406a3fb",
   "metadata": {},
   "outputs": [
    {
     "data": {
      "text/plain": [
       "torch.Size([64, 1, 28, 28])"
      ]
     },
     "execution_count": 15,
     "metadata": {},
     "output_type": "execute_result"
    }
   ],
   "source": [
    "test_inputs.shape"
   ]
  },
  {
   "cell_type": "code",
   "execution_count": 16,
   "id": "c097b150-c21e-4c96-acbb-02691abf0a2d",
   "metadata": {},
   "outputs": [
    {
     "data": {
      "text/plain": [
       "torch.Size([64, 10])"
      ]
     },
     "execution_count": 16,
     "metadata": {},
     "output_type": "execute_result"
    }
   ],
   "source": [
    "model(test_inputs).shape"
   ]
  },
  {
   "cell_type": "code",
   "execution_count": 17,
   "id": "c20b9c93-ad06-4662-af37-15d72d0077be",
   "metadata": {},
   "outputs": [
    {
     "data": {
      "text/plain": [
       "tensor([[ -5.4101,  -0.0610,  -3.5893,  -5.1078,  -7.4868, -10.6564,  -7.5983,\n",
       "          -4.9612,  -4.5015,  -6.3142],\n",
       "        [ -0.0203,  -7.1288,  -7.6098, -19.4809, -13.5491, -15.8777,  -3.9745,\n",
       "         -14.7997, -16.9855, -14.8694]])"
      ]
     },
     "execution_count": 17,
     "metadata": {},
     "output_type": "execute_result"
    }
   ],
   "source": [
    "learn.predict(test_inputs[0:2])"
   ]
  },
  {
   "cell_type": "code",
   "execution_count": null,
   "id": "250092a4-570b-4257-9bfa-692d9df8a5a2",
   "metadata": {},
   "outputs": [],
   "source": []
  },
  {
   "cell_type": "code",
   "execution_count": null,
   "id": "fcd4e7b6-88e3-4809-bc5a-1bea094dbb60",
   "metadata": {},
   "outputs": [],
   "source": []
  },
  {
   "cell_type": "code",
   "execution_count": null,
   "id": "6b2ca187-9e5d-4576-8d0c-f562f133bd82",
   "metadata": {},
   "outputs": [],
   "source": []
  }
 ],
 "metadata": {
  "kernelspec": {
   "display_name": "Python 3 (ipykernel)",
   "language": "python",
   "name": "python3"
  },
  "language_info": {
   "codemirror_mode": {
    "name": "ipython",
    "version": 3
   },
   "file_extension": ".py",
   "mimetype": "text/x-python",
   "name": "python",
   "nbconvert_exporter": "python",
   "pygments_lexer": "ipython3",
   "version": "3.11.5"
  }
 },
 "nbformat": 4,
 "nbformat_minor": 5
}
