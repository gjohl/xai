{
 "cells": [
  {
   "cell_type": "markdown",
   "id": "2af4ae91-0c73-4eaf-8d2a-b583eef164b9",
   "metadata": {},
   "source": [
    "# Computing performance evaluation metrics\n",
    "Get some model predictions that we can then compute performance metrics for."
   ]
  },
  {
   "cell_type": "markdown",
   "id": "d7f8b8e0-c72b-4121-a9dd-bb75ec435bcd",
   "metadata": {},
   "source": [
    "## 1. Load a trained model\n",
    "To save time we will load a previously trained model."
   ]
  },
  {
   "cell_type": "code",
   "execution_count": 4,
   "id": "ef4986a2-8801-4eac-b49f-a0615097c4f5",
   "metadata": {},
   "outputs": [],
   "source": [
    "from xai.constants import MODEL_DIR\n",
    "from xai.models.simple_cnn import CNNClassifier"
   ]
  },
  {
   "cell_type": "code",
   "execution_count": 8,
   "id": "97f01faa-2bf5-4235-b64d-cb45a07ab8fe",
   "metadata": {},
   "outputs": [],
   "source": [
    "MODEL_FNAME = 'simple_cnn_test.pth'\n",
    "MODEL_FPATH = MODEL_DIR / MODEL_FNAME"
   ]
  },
  {
   "cell_type": "code",
   "execution_count": 11,
   "id": "e5088411-1463-4a87-97e4-b9a5828f73d7",
   "metadata": {},
   "outputs": [],
   "source": [
    "model = CNNClassifier()\n",
    "model.load(MODEL_FPATH)"
   ]
  },
  {
   "cell_type": "code",
   "execution_count": 12,
   "id": "15ed4635-ab07-46b8-a5da-3666fffffadd",
   "metadata": {},
   "outputs": [
    {
     "data": {
      "text/plain": [
       "CNNClassifier(\n",
       "  (conv1): Conv2d(1, 10, kernel_size=(5, 5), stride=(1, 1))\n",
       "  (conv2): Conv2d(10, 20, kernel_size=(5, 5), stride=(1, 1))\n",
       "  (conv2_drop): Dropout2d(p=0.5, inplace=False)\n",
       "  (fc1): Linear(in_features=320, out_features=50, bias=True)\n",
       "  (fc2): Linear(in_features=50, out_features=10, bias=True)\n",
       ")"
      ]
     },
     "execution_count": 12,
     "metadata": {},
     "output_type": "execute_result"
    }
   ],
   "source": [
    "model"
   ]
  },
  {
   "cell_type": "code",
   "execution_count": null,
   "id": "39ba6520-26f6-42fc-a0ad-797004e680fb",
   "metadata": {},
   "outputs": [],
   "source": []
  },
  {
   "cell_type": "markdown",
   "id": "5f6332c2-6944-4d92-b876-d1eaaf7252e5",
   "metadata": {},
   "source": [
    "## 2. Load some test data"
   ]
  },
  {
   "cell_type": "code",
   "execution_count": 13,
   "id": "af6abeaf-6657-4483-872a-fb9ea51cfd95",
   "metadata": {},
   "outputs": [],
   "source": [
    "from xai.data_handlers.mnist import load_mnist"
   ]
  },
  {
   "cell_type": "code",
   "execution_count": 44,
   "id": "558adfd9-0db9-4174-9c4a-8c56e4137735",
   "metadata": {},
   "outputs": [],
   "source": [
    "# Load corpus and test inputs\n",
    "corpus_loader = load_mnist(subset_size=100, train=True, batch_size=100) # MNIST train loader\n",
    "test_loader = load_mnist(subset_size=20, train=True, batch_size=20) # MNIST test loader\n",
    "corpus_inputs, corpus_labels = next(iter(corpus_loader)) # A tensor of corpus inputs\n",
    "test_inputs, test_labels = next(iter(test_loader)) # A set of inputs to explain"
   ]
  },
  {
   "cell_type": "code",
   "execution_count": 45,
   "id": "6e9c63f5-5808-496d-ae8c-a400986c5950",
   "metadata": {},
   "outputs": [
    {
     "data": {
      "text/plain": [
       "torch.Size([20, 1, 28, 28])"
      ]
     },
     "execution_count": 45,
     "metadata": {},
     "output_type": "execute_result"
    }
   ],
   "source": [
    "test_inputs.shape"
   ]
  },
  {
   "cell_type": "code",
   "execution_count": 46,
   "id": "81133646-a3ce-4906-a22b-2daa8da10e2e",
   "metadata": {},
   "outputs": [
    {
     "data": {
      "text/plain": [
       "torch.Size([20])"
      ]
     },
     "execution_count": 46,
     "metadata": {},
     "output_type": "execute_result"
    }
   ],
   "source": [
    "test_labels.shape"
   ]
  },
  {
   "cell_type": "markdown",
   "id": "55f3f203-7c80-4bb6-be00-52771a6afc96",
   "metadata": {},
   "source": [
    "## 3. Get model predictions"
   ]
  },
  {
   "cell_type": "code",
   "execution_count": 47,
   "id": "2c9a4e3e-c261-4f32-a12c-10fb2042617c",
   "metadata": {},
   "outputs": [],
   "source": [
    "import torch"
   ]
  },
  {
   "cell_type": "code",
   "execution_count": 48,
   "id": "2a4d5030-c3ef-48e1-b4f4-279c358058b5",
   "metadata": {},
   "outputs": [
    {
     "data": {
      "text/plain": [
       "tensor([[7.8536e-03, 4.8643e-02, 4.0603e-01, 3.5693e-02, 2.5306e-01, 3.7165e-02,\n",
       "         3.3393e-02, 3.4064e-02, 5.8645e-02, 8.5451e-02],\n",
       "        [1.0314e-01, 7.4720e-03, 3.3994e-02, 8.4979e-02, 5.3462e-02, 1.1687e-01,\n",
       "         3.3820e-01, 6.9494e-02, 6.4233e-02, 1.2816e-01],\n",
       "        [1.0356e-01, 1.0982e-01, 9.5850e-02, 1.7512e-01, 3.9650e-02, 1.7393e-01,\n",
       "         4.6157e-02, 1.1098e-01, 8.8882e-02, 5.6060e-02],\n",
       "        [5.0249e-03, 1.8694e-02, 3.8534e-02, 9.3481e-02, 1.9923e-01, 3.5183e-02,\n",
       "         1.9083e-02, 1.5222e-01, 9.7385e-02, 3.4117e-01],\n",
       "        [9.6585e-05, 8.5960e-05, 2.6702e-04, 1.6311e-03, 8.4505e-01, 5.9033e-02,\n",
       "         7.7575e-03, 7.4896e-03, 5.1214e-02, 2.7372e-02],\n",
       "        [1.7376e-02, 2.0326e-02, 7.8640e-02, 4.7556e-02, 2.9112e-02, 1.7138e-02,\n",
       "         5.8611e-03, 7.1290e-01, 4.9932e-02, 2.1161e-02],\n",
       "        [2.0887e-01, 3.4129e-02, 1.3556e-01, 4.1763e-02, 6.6740e-02, 1.2614e-01,\n",
       "         1.3249e-01, 2.3718e-02, 1.1915e-01, 1.1144e-01],\n",
       "        [7.0997e-02, 3.9057e-02, 4.8812e-02, 1.6242e-01, 1.1833e-01, 1.6260e-02,\n",
       "         1.6134e-01, 8.1947e-02, 1.7241e-01, 1.2843e-01],\n",
       "        [5.0622e-02, 1.7864e-01, 1.3697e-01, 4.7096e-02, 9.4715e-02, 9.2515e-02,\n",
       "         8.8099e-02, 9.7723e-02, 1.5222e-01, 6.1395e-02],\n",
       "        [1.9801e-02, 4.7323e-02, 5.5136e-02, 1.9613e-01, 1.3421e-01, 1.9809e-01,\n",
       "         1.0322e-01, 2.6425e-02, 1.2739e-01, 9.2279e-02],\n",
       "        [4.4765e-03, 1.3269e-04, 8.1281e-01, 6.9959e-04, 6.1584e-03, 2.1333e-03,\n",
       "         1.2778e-01, 3.0896e-04, 4.2860e-02, 2.6352e-03],\n",
       "        [6.3441e-01, 2.6451e-03, 9.1998e-02, 5.7683e-02, 2.1001e-02, 3.6596e-02,\n",
       "         7.5380e-02, 3.1837e-02, 3.6270e-02, 1.2179e-02],\n",
       "        [2.8895e-01, 2.1922e-02, 1.5891e-02, 6.4653e-02, 2.7051e-02, 1.7761e-01,\n",
       "         7.2960e-02, 7.5289e-02, 4.1250e-02, 2.1442e-01],\n",
       "        [4.1950e-02, 6.1492e-03, 1.4492e-01, 1.6202e-02, 2.4522e-01, 9.4488e-02,\n",
       "         3.8523e-01, 1.6274e-03, 5.7639e-02, 6.5731e-03],\n",
       "        [1.1913e-03, 5.1277e-05, 8.2978e-04, 8.9255e-01, 7.3047e-03, 8.6689e-02,\n",
       "         7.9099e-04, 2.1580e-03, 4.5699e-03, 3.8646e-03],\n",
       "        [7.0225e-03, 1.1120e-02, 1.0506e-01, 2.4574e-02, 6.3736e-02, 9.3076e-02,\n",
       "         5.9811e-01, 1.9316e-03, 8.5398e-02, 9.9768e-03],\n",
       "        [5.4937e-04, 2.3632e-05, 7.8189e-01, 3.9736e-06, 1.3240e-01, 1.0075e-02,\n",
       "         6.2263e-02, 2.4599e-06, 1.2635e-02, 1.5985e-04],\n",
       "        [9.7374e-02, 4.1884e-04, 1.3600e-03, 6.8663e-02, 2.0265e-01, 1.7067e-02,\n",
       "         4.2557e-03, 3.5927e-01, 7.1761e-02, 1.7719e-01],\n",
       "        [4.1351e-02, 1.8005e-02, 3.9773e-02, 2.7219e-02, 3.6263e-01, 7.3427e-02,\n",
       "         4.5156e-02, 9.2185e-02, 1.3821e-01, 1.6205e-01],\n",
       "        [4.7660e-03, 2.4615e-02, 8.1611e-01, 2.8627e-02, 5.0404e-03, 1.2818e-02,\n",
       "         2.1561e-02, 9.6552e-03, 7.1176e-02, 5.6360e-03]],\n",
       "       grad_fn=<SoftmaxBackward0>)"
      ]
     },
     "execution_count": 48,
     "metadata": {},
     "output_type": "execute_result"
    }
   ],
   "source": [
    "output_probs = model.probabilities(test_inputs)\n",
    "output_probs"
   ]
  },
  {
   "cell_type": "code",
   "execution_count": 49,
   "id": "68149bbb-dd15-4886-b5c1-1acfd8ba1761",
   "metadata": {},
   "outputs": [
    {
     "data": {
      "text/plain": [
       "torch.Size([20, 10])"
      ]
     },
     "execution_count": 49,
     "metadata": {},
     "output_type": "execute_result"
    }
   ],
   "source": [
    "output_probs.shape"
   ]
  },
  {
   "cell_type": "code",
   "execution_count": 53,
   "id": "42a405a7-c3ce-456f-ac83-f0b79a5c062e",
   "metadata": {},
   "outputs": [
    {
     "data": {
      "text/plain": [
       "tensor([2, 6, 3, 9, 4, 7, 0, 8, 1, 5, 2, 0, 0, 6, 3, 6, 2, 7, 4, 2])"
      ]
     },
     "execution_count": 53,
     "metadata": {},
     "output_type": "execute_result"
    }
   ],
   "source": [
    "predicted_classes = torch.argmax(output_probs, dim=1)\n",
    "predicted_classes"
   ]
  },
  {
   "cell_type": "code",
   "execution_count": 54,
   "id": "e219652e-ef3d-4a97-b3c8-4e4943b23d8a",
   "metadata": {},
   "outputs": [
    {
     "data": {
      "text/plain": [
       "tensor([2, 5, 3, 9, 4, 7, 9, 9, 1, 8, 2, 0, 0, 6, 3, 6, 2, 9, 4, 2])"
      ]
     },
     "execution_count": 54,
     "metadata": {},
     "output_type": "execute_result"
    }
   ],
   "source": [
    "test_labels"
   ]
  },
  {
   "cell_type": "code",
   "execution_count": null,
   "id": "e7c19628-34d3-4063-8d83-8d87455d7ace",
   "metadata": {},
   "outputs": [],
   "source": []
  },
  {
   "cell_type": "markdown",
   "id": "c35c77c6-65f8-400b-9bf7-632f90467452",
   "metadata": {},
   "source": [
    "## 4. Calculate performance metrics\n",
    "- accuracy\n",
    "- auc\n",
    "- f1"
   ]
  },
  {
   "cell_type": "code",
   "execution_count": 61,
   "id": "9bd70a68-badd-44e6-858e-765214872124",
   "metadata": {},
   "outputs": [],
   "source": [
    "from sklearn.metrics import accuracy_score, auc, f1_score, roc_auc_score"
   ]
  },
  {
   "cell_type": "code",
   "execution_count": 57,
   "id": "5c7cfc2b-6497-48a4-82f3-482fa4373b5f",
   "metadata": {},
   "outputs": [
    {
     "data": {
      "text/plain": [
       "0.75"
      ]
     },
     "execution_count": 57,
     "metadata": {},
     "output_type": "execute_result"
    }
   ],
   "source": [
    "accuracy_score(test_labels, predicted_classes)"
   ]
  },
  {
   "cell_type": "code",
   "execution_count": 60,
   "id": "226d1c83-f2d1-4e3f-bf58-e3825f0d5e86",
   "metadata": {},
   "outputs": [
    {
     "data": {
      "text/plain": [
       "0.75"
      ]
     },
     "execution_count": 60,
     "metadata": {},
     "output_type": "execute_result"
    }
   ],
   "source": [
    "f1_score(test_labels, predicted_classes, average='micro')"
   ]
  },
  {
   "cell_type": "code",
   "execution_count": 66,
   "id": "74e56fab-649d-47c1-9198-b5fab6c75ce0",
   "metadata": {},
   "outputs": [
    {
     "data": {
      "text/plain": [
       "tensor([[7.8536e-03, 4.8643e-02, 4.0603e-01, 3.5693e-02, 2.5306e-01, 3.7165e-02,\n",
       "         3.3393e-02, 3.4064e-02, 5.8645e-02, 8.5451e-02],\n",
       "        [1.0314e-01, 7.4720e-03, 3.3994e-02, 8.4979e-02, 5.3462e-02, 1.1687e-01,\n",
       "         3.3820e-01, 6.9494e-02, 6.4233e-02, 1.2816e-01],\n",
       "        [1.0356e-01, 1.0982e-01, 9.5850e-02, 1.7512e-01, 3.9650e-02, 1.7393e-01,\n",
       "         4.6157e-02, 1.1098e-01, 8.8882e-02, 5.6060e-02],\n",
       "        [5.0249e-03, 1.8694e-02, 3.8534e-02, 9.3481e-02, 1.9923e-01, 3.5183e-02,\n",
       "         1.9083e-02, 1.5222e-01, 9.7385e-02, 3.4117e-01],\n",
       "        [9.6585e-05, 8.5960e-05, 2.6702e-04, 1.6311e-03, 8.4505e-01, 5.9033e-02,\n",
       "         7.7575e-03, 7.4896e-03, 5.1214e-02, 2.7372e-02],\n",
       "        [1.7376e-02, 2.0326e-02, 7.8640e-02, 4.7556e-02, 2.9112e-02, 1.7138e-02,\n",
       "         5.8611e-03, 7.1290e-01, 4.9932e-02, 2.1161e-02],\n",
       "        [2.0887e-01, 3.4129e-02, 1.3556e-01, 4.1763e-02, 6.6740e-02, 1.2614e-01,\n",
       "         1.3249e-01, 2.3718e-02, 1.1915e-01, 1.1144e-01],\n",
       "        [7.0997e-02, 3.9057e-02, 4.8812e-02, 1.6242e-01, 1.1833e-01, 1.6260e-02,\n",
       "         1.6134e-01, 8.1947e-02, 1.7241e-01, 1.2843e-01],\n",
       "        [5.0622e-02, 1.7864e-01, 1.3697e-01, 4.7096e-02, 9.4715e-02, 9.2515e-02,\n",
       "         8.8099e-02, 9.7723e-02, 1.5222e-01, 6.1395e-02],\n",
       "        [1.9801e-02, 4.7323e-02, 5.5136e-02, 1.9613e-01, 1.3421e-01, 1.9809e-01,\n",
       "         1.0322e-01, 2.6425e-02, 1.2739e-01, 9.2279e-02],\n",
       "        [4.4765e-03, 1.3269e-04, 8.1281e-01, 6.9959e-04, 6.1584e-03, 2.1333e-03,\n",
       "         1.2778e-01, 3.0896e-04, 4.2860e-02, 2.6352e-03],\n",
       "        [6.3441e-01, 2.6451e-03, 9.1998e-02, 5.7683e-02, 2.1001e-02, 3.6596e-02,\n",
       "         7.5380e-02, 3.1837e-02, 3.6270e-02, 1.2179e-02],\n",
       "        [2.8895e-01, 2.1922e-02, 1.5891e-02, 6.4653e-02, 2.7051e-02, 1.7761e-01,\n",
       "         7.2960e-02, 7.5289e-02, 4.1250e-02, 2.1442e-01],\n",
       "        [4.1950e-02, 6.1492e-03, 1.4492e-01, 1.6202e-02, 2.4522e-01, 9.4488e-02,\n",
       "         3.8523e-01, 1.6274e-03, 5.7639e-02, 6.5731e-03],\n",
       "        [1.1913e-03, 5.1277e-05, 8.2978e-04, 8.9255e-01, 7.3047e-03, 8.6689e-02,\n",
       "         7.9099e-04, 2.1580e-03, 4.5699e-03, 3.8646e-03],\n",
       "        [7.0225e-03, 1.1120e-02, 1.0506e-01, 2.4574e-02, 6.3736e-02, 9.3076e-02,\n",
       "         5.9811e-01, 1.9316e-03, 8.5398e-02, 9.9768e-03],\n",
       "        [5.4937e-04, 2.3632e-05, 7.8189e-01, 3.9736e-06, 1.3240e-01, 1.0075e-02,\n",
       "         6.2263e-02, 2.4599e-06, 1.2635e-02, 1.5985e-04],\n",
       "        [9.7374e-02, 4.1884e-04, 1.3600e-03, 6.8663e-02, 2.0265e-01, 1.7067e-02,\n",
       "         4.2557e-03, 3.5927e-01, 7.1761e-02, 1.7719e-01],\n",
       "        [4.1351e-02, 1.8005e-02, 3.9773e-02, 2.7219e-02, 3.6263e-01, 7.3427e-02,\n",
       "         4.5156e-02, 9.2185e-02, 1.3821e-01, 1.6205e-01],\n",
       "        [4.7660e-03, 2.4615e-02, 8.1611e-01, 2.8627e-02, 5.0404e-03, 1.2818e-02,\n",
       "         2.1561e-02, 9.6552e-03, 7.1176e-02, 5.6360e-03]],\n",
       "       grad_fn=<SoftmaxBackward0>)"
      ]
     },
     "execution_count": 66,
     "metadata": {},
     "output_type": "execute_result"
    }
   ],
   "source": [
    "output_probs"
   ]
  },
  {
   "cell_type": "code",
   "execution_count": 68,
   "id": "d30bc063-1540-4d17-8ef2-b6d349530772",
   "metadata": {},
   "outputs": [
    {
     "data": {
      "text/plain": [
       "0.9510051169590643"
      ]
     },
     "execution_count": 68,
     "metadata": {},
     "output_type": "execute_result"
    }
   ],
   "source": [
    "roc_auc_score(test_labels, output_probs.detach(), multi_class='ovr')"
   ]
  },
  {
   "cell_type": "code",
   "execution_count": null,
   "id": "7f7174ab-666c-4205-a0e8-2f499d834d25",
   "metadata": {},
   "outputs": [],
   "source": [
    "from xai.evaluation_metrics.performance.classification_metrics"
   ]
  }
 ],
 "metadata": {
  "kernelspec": {
   "display_name": "Python 3 (ipykernel)",
   "language": "python",
   "name": "python3"
  },
  "language_info": {
   "codemirror_mode": {
    "name": "ipython",
    "version": 3
   },
   "file_extension": ".py",
   "mimetype": "text/x-python",
   "name": "python",
   "nbconvert_exporter": "python",
   "pygments_lexer": "ipython3",
   "version": "3.11.5"
  }
 },
 "nbformat": 4,
 "nbformat_minor": 5
}
