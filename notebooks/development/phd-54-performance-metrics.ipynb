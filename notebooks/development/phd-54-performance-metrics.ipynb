{
 "cells": [
  {
   "cell_type": "markdown",
   "id": "2af4ae91-0c73-4eaf-8d2a-b583eef164b9",
   "metadata": {},
   "source": [
    "# Computing performance evaluation metrics\n",
    "Get some model predictions that we can then compute performance metrics for."
   ]
  },
  {
   "cell_type": "markdown",
   "id": "d7f8b8e0-c72b-4121-a9dd-bb75ec435bcd",
   "metadata": {},
   "source": [
    "## 1. Load a trained model\n",
    "To save time we will load a previously trained model."
   ]
  },
  {
   "cell_type": "code",
   "execution_count": 1,
   "id": "ef4986a2-8801-4eac-b49f-a0615097c4f5",
   "metadata": {},
   "outputs": [],
   "source": [
    "from xai.constants import MODEL_DIR\n",
    "from xai.models.simple_cnn import CNNClassifier"
   ]
  },
  {
   "cell_type": "code",
   "execution_count": 2,
   "id": "97f01faa-2bf5-4235-b64d-cb45a07ab8fe",
   "metadata": {},
   "outputs": [],
   "source": [
    "MODEL_FNAME = 'simple_cnn_50_epochs.pth'\n",
    "MODEL_FPATH = MODEL_DIR / MODEL_FNAME"
   ]
  },
  {
   "cell_type": "code",
   "execution_count": 3,
   "id": "e5088411-1463-4a87-97e4-b9a5828f73d7",
   "metadata": {},
   "outputs": [],
   "source": [
    "model = CNNClassifier()\n",
    "model.load(MODEL_FPATH)"
   ]
  },
  {
   "cell_type": "code",
   "execution_count": 4,
   "id": "15ed4635-ab07-46b8-a5da-3666fffffadd",
   "metadata": {},
   "outputs": [
    {
     "data": {
      "text/plain": [
       "CNNClassifier(\n",
       "  (conv1): Conv2d(1, 10, kernel_size=(5, 5), stride=(1, 1))\n",
       "  (conv2): Conv2d(10, 20, kernel_size=(5, 5), stride=(1, 1))\n",
       "  (conv2_drop): Dropout2d(p=0.5, inplace=False)\n",
       "  (fc1): Linear(in_features=320, out_features=50, bias=True)\n",
       "  (fc2): Linear(in_features=50, out_features=10, bias=True)\n",
       ")"
      ]
     },
     "execution_count": 4,
     "metadata": {},
     "output_type": "execute_result"
    }
   ],
   "source": [
    "model"
   ]
  },
  {
   "cell_type": "code",
   "execution_count": null,
   "id": "39ba6520-26f6-42fc-a0ad-797004e680fb",
   "metadata": {},
   "outputs": [],
   "source": []
  },
  {
   "cell_type": "markdown",
   "id": "5f6332c2-6944-4d92-b876-d1eaaf7252e5",
   "metadata": {},
   "source": [
    "## 2. Load some test data"
   ]
  },
  {
   "cell_type": "code",
   "execution_count": 5,
   "id": "af6abeaf-6657-4483-872a-fb9ea51cfd95",
   "metadata": {},
   "outputs": [],
   "source": [
    "from xai.data_handlers.mnist import load_mnist"
   ]
  },
  {
   "cell_type": "code",
   "execution_count": 6,
   "id": "558adfd9-0db9-4174-9c4a-8c56e4137735",
   "metadata": {},
   "outputs": [],
   "source": [
    "# Load corpus and test inputs\n",
    "corpus_loader = load_mnist(subset_size=100, train=True, batch_size=100) # MNIST train loader\n",
    "test_loader = load_mnist(subset_size=20, train=True, batch_size=20) # MNIST test loader\n",
    "corpus_inputs, corpus_labels = next(iter(corpus_loader)) # A tensor of corpus inputs\n",
    "test_inputs, test_labels = next(iter(test_loader)) # A set of inputs to explain"
   ]
  },
  {
   "cell_type": "code",
   "execution_count": 7,
   "id": "6e9c63f5-5808-496d-ae8c-a400986c5950",
   "metadata": {},
   "outputs": [
    {
     "data": {
      "text/plain": [
       "torch.Size([20, 1, 28, 28])"
      ]
     },
     "execution_count": 7,
     "metadata": {},
     "output_type": "execute_result"
    }
   ],
   "source": [
    "test_inputs.shape"
   ]
  },
  {
   "cell_type": "code",
   "execution_count": 8,
   "id": "81133646-a3ce-4906-a22b-2daa8da10e2e",
   "metadata": {},
   "outputs": [
    {
     "data": {
      "text/plain": [
       "torch.Size([20])"
      ]
     },
     "execution_count": 8,
     "metadata": {},
     "output_type": "execute_result"
    }
   ],
   "source": [
    "test_labels.shape"
   ]
  },
  {
   "cell_type": "markdown",
   "id": "55f3f203-7c80-4bb6-be00-52771a6afc96",
   "metadata": {},
   "source": [
    "## 3. Get model predictions"
   ]
  },
  {
   "cell_type": "code",
   "execution_count": 9,
   "id": "2c9a4e3e-c261-4f32-a12c-10fb2042617c",
   "metadata": {},
   "outputs": [],
   "source": [
    "import torch"
   ]
  },
  {
   "cell_type": "code",
   "execution_count": 10,
   "id": "2a4d5030-c3ef-48e1-b4f4-279c358058b5",
   "metadata": {},
   "outputs": [
    {
     "data": {
      "text/plain": [
       "tensor([[1.2896e-04, 3.5487e-03, 1.8493e-04, 1.1995e-05, 2.4939e-03, 4.9365e-02,\n",
       "         4.7751e-01, 4.3563e-06, 4.6675e-01, 5.2533e-07],\n",
       "        [3.3614e-08, 9.9988e-01, 1.1901e-05, 2.1136e-07, 7.8844e-05, 4.2648e-09,\n",
       "         1.9139e-06, 3.6523e-06, 7.5206e-06, 1.6808e-05],\n",
       "        [3.1638e-08, 1.3226e-06, 3.6393e-09, 8.9207e-07, 5.7577e-04, 6.2532e-08,\n",
       "         1.2539e-09, 3.2449e-06, 1.0210e-06, 9.9942e-01],\n",
       "        [1.7335e-02, 3.1937e-02, 2.6165e-01, 1.0273e-01, 1.3522e-03, 7.0981e-03,\n",
       "         5.3454e-03, 1.6308e-01, 3.9781e-01, 1.1662e-02],\n",
       "        [9.9994e-01, 5.8391e-11, 1.0658e-07, 5.4150e-08, 1.1030e-10, 3.7997e-05,\n",
       "         2.0767e-05, 2.3085e-08, 1.8821e-06, 3.6488e-06],\n",
       "        [8.0252e-05, 5.4530e-06, 9.1252e-01, 8.0681e-02, 1.3748e-06, 4.2844e-05,\n",
       "         2.0577e-04, 2.0001e-04, 6.0600e-03, 2.0390e-04],\n",
       "        [4.2411e-04, 4.4300e-07, 3.8390e-06, 1.2032e-09, 1.0454e-04, 1.4812e-08,\n",
       "         9.9947e-01, 1.6225e-10, 1.2440e-08, 3.1007e-08],\n",
       "        [1.8851e-07, 9.4675e-06, 9.9986e-01, 8.8239e-06, 1.5989e-13, 7.2150e-13,\n",
       "         1.9125e-10, 1.8522e-05, 1.0121e-04, 2.3472e-10],\n",
       "        [6.1599e-04, 5.6528e-04, 5.3324e-03, 7.3097e-05, 8.7166e-01, 2.2402e-04,\n",
       "         3.5684e-04, 2.8324e-02, 5.3706e-04, 9.2312e-02],\n",
       "        [4.8057e-09, 7.5274e-09, 2.1591e-08, 3.1908e-06, 9.4596e-05, 3.4158e-08,\n",
       "         2.0877e-13, 1.1433e-04, 1.2194e-05, 9.9978e-01],\n",
       "        [8.9296e-07, 2.6558e-06, 5.0715e-05, 5.5574e-03, 1.4873e-04, 2.9341e-02,\n",
       "         5.9105e-05, 8.1102e-08, 9.6391e-01, 9.3240e-04],\n",
       "        [2.2856e-09, 9.9979e-01, 8.6564e-07, 9.3686e-07, 8.2456e-06, 5.9427e-10,\n",
       "         4.4628e-09, 1.9890e-04, 3.6811e-07, 6.2944e-07],\n",
       "        [3.0302e-04, 3.2795e-05, 2.7070e-08, 2.6208e-02, 4.4701e-06, 9.6879e-01,\n",
       "         1.2411e-06, 1.4298e-05, 8.1725e-06, 4.6342e-03],\n",
       "        [1.0000e+00, 5.2211e-15, 1.1280e-07, 1.3188e-12, 2.2839e-13, 1.6392e-09,\n",
       "         6.7991e-07, 5.2268e-12, 1.0958e-08, 6.1403e-11],\n",
       "        [3.9533e-04, 1.0897e-03, 8.2470e-04, 8.6270e-01, 1.0327e-07, 1.3972e-05,\n",
       "         9.3628e-09, 9.3447e-02, 4.4563e-03, 3.7070e-02],\n",
       "        [6.3010e-08, 9.9959e-01, 5.9366e-05, 2.5266e-07, 3.3129e-04, 1.2818e-08,\n",
       "         2.0532e-06, 8.1386e-06, 1.0645e-05, 4.0009e-07],\n",
       "        [1.9699e-05, 1.5580e-08, 5.0511e-06, 1.2863e-03, 5.7861e-11, 9.9432e-01,\n",
       "         6.3773e-04, 9.5822e-11, 3.7293e-03, 6.9064e-08],\n",
       "        [1.7396e-04, 1.6203e-05, 9.9403e-03, 1.5330e-04, 8.7404e-01, 1.6410e-02,\n",
       "         5.1346e-02, 4.8213e-04, 8.2072e-03, 3.9234e-02],\n",
       "        [3.6661e-05, 1.1269e-04, 9.5105e-01, 2.9293e-02, 6.6514e-03, 3.3473e-06,\n",
       "         6.0592e-05, 1.2357e-02, 4.1769e-05, 3.9272e-04],\n",
       "        [9.3180e-01, 8.7521e-04, 5.0101e-02, 3.9159e-05, 5.6221e-03, 5.2908e-05,\n",
       "         1.3482e-03, 4.9160e-03, 5.6080e-04, 4.6799e-03]],\n",
       "       grad_fn=<SoftmaxBackward0>)"
      ]
     },
     "execution_count": 10,
     "metadata": {},
     "output_type": "execute_result"
    }
   ],
   "source": [
    "output_probs = model.probabilities(test_inputs)\n",
    "output_probs"
   ]
  },
  {
   "cell_type": "code",
   "execution_count": 11,
   "id": "68149bbb-dd15-4886-b5c1-1acfd8ba1761",
   "metadata": {},
   "outputs": [
    {
     "data": {
      "text/plain": [
       "torch.Size([20, 10])"
      ]
     },
     "execution_count": 11,
     "metadata": {},
     "output_type": "execute_result"
    }
   ],
   "source": [
    "output_probs.shape"
   ]
  },
  {
   "cell_type": "code",
   "execution_count": 12,
   "id": "42a405a7-c3ce-456f-ac83-f0b79a5c062e",
   "metadata": {},
   "outputs": [
    {
     "data": {
      "text/plain": [
       "tensor([6, 1, 9, 8, 0, 2, 6, 2, 4, 9, 8, 1, 5, 0, 3, 1, 5, 4, 2, 0])"
      ]
     },
     "execution_count": 12,
     "metadata": {},
     "output_type": "execute_result"
    }
   ],
   "source": [
    "predicted_classes = torch.argmax(output_probs, dim=1)\n",
    "predicted_classes"
   ]
  },
  {
   "cell_type": "code",
   "execution_count": 13,
   "id": "e219652e-ef3d-4a97-b3c8-4e4943b23d8a",
   "metadata": {},
   "outputs": [
    {
     "data": {
      "text/plain": [
       "tensor([8, 1, 9, 8, 0, 2, 6, 2, 4, 9, 8, 1, 5, 0, 3, 1, 5, 4, 7, 0])"
      ]
     },
     "execution_count": 13,
     "metadata": {},
     "output_type": "execute_result"
    }
   ],
   "source": [
    "test_labels"
   ]
  },
  {
   "cell_type": "code",
   "execution_count": null,
   "id": "e7c19628-34d3-4063-8d83-8d87455d7ace",
   "metadata": {},
   "outputs": [],
   "source": []
  },
  {
   "cell_type": "markdown",
   "id": "c35c77c6-65f8-400b-9bf7-632f90467452",
   "metadata": {},
   "source": [
    "## 4. Calculate performance metrics\n",
    "- accuracy\n",
    "- auc\n",
    "- f1"
   ]
  },
  {
   "cell_type": "code",
   "execution_count": 14,
   "id": "9bd70a68-badd-44e6-858e-765214872124",
   "metadata": {},
   "outputs": [],
   "source": [
    "from sklearn.metrics import accuracy_score, auc, f1_score, roc_auc_score"
   ]
  },
  {
   "cell_type": "code",
   "execution_count": 15,
   "id": "5c7cfc2b-6497-48a4-82f3-482fa4373b5f",
   "metadata": {},
   "outputs": [
    {
     "data": {
      "text/plain": [
       "0.9"
      ]
     },
     "execution_count": 15,
     "metadata": {},
     "output_type": "execute_result"
    }
   ],
   "source": [
    "accuracy_score(test_labels, predicted_classes)"
   ]
  },
  {
   "cell_type": "code",
   "execution_count": 16,
   "id": "226d1c83-f2d1-4e3f-bf58-e3825f0d5e86",
   "metadata": {},
   "outputs": [
    {
     "data": {
      "text/plain": [
       "0.9"
      ]
     },
     "execution_count": 16,
     "metadata": {},
     "output_type": "execute_result"
    }
   ],
   "source": [
    "f1_score(test_labels, predicted_classes, average='micro')"
   ]
  },
  {
   "cell_type": "code",
   "execution_count": 17,
   "id": "74e56fab-649d-47c1-9198-b5fab6c75ce0",
   "metadata": {},
   "outputs": [
    {
     "data": {
      "text/plain": [
       "tensor([[1.2896e-04, 3.5487e-03, 1.8493e-04, 1.1995e-05, 2.4939e-03, 4.9365e-02,\n",
       "         4.7751e-01, 4.3563e-06, 4.6675e-01, 5.2533e-07],\n",
       "        [3.3614e-08, 9.9988e-01, 1.1901e-05, 2.1136e-07, 7.8844e-05, 4.2648e-09,\n",
       "         1.9139e-06, 3.6523e-06, 7.5206e-06, 1.6808e-05],\n",
       "        [3.1638e-08, 1.3226e-06, 3.6393e-09, 8.9207e-07, 5.7577e-04, 6.2532e-08,\n",
       "         1.2539e-09, 3.2449e-06, 1.0210e-06, 9.9942e-01],\n",
       "        [1.7335e-02, 3.1937e-02, 2.6165e-01, 1.0273e-01, 1.3522e-03, 7.0981e-03,\n",
       "         5.3454e-03, 1.6308e-01, 3.9781e-01, 1.1662e-02],\n",
       "        [9.9994e-01, 5.8391e-11, 1.0658e-07, 5.4150e-08, 1.1030e-10, 3.7997e-05,\n",
       "         2.0767e-05, 2.3085e-08, 1.8821e-06, 3.6488e-06],\n",
       "        [8.0252e-05, 5.4530e-06, 9.1252e-01, 8.0681e-02, 1.3748e-06, 4.2844e-05,\n",
       "         2.0577e-04, 2.0001e-04, 6.0600e-03, 2.0390e-04],\n",
       "        [4.2411e-04, 4.4300e-07, 3.8390e-06, 1.2032e-09, 1.0454e-04, 1.4812e-08,\n",
       "         9.9947e-01, 1.6225e-10, 1.2440e-08, 3.1007e-08],\n",
       "        [1.8851e-07, 9.4675e-06, 9.9986e-01, 8.8239e-06, 1.5989e-13, 7.2150e-13,\n",
       "         1.9125e-10, 1.8522e-05, 1.0121e-04, 2.3472e-10],\n",
       "        [6.1599e-04, 5.6528e-04, 5.3324e-03, 7.3097e-05, 8.7166e-01, 2.2402e-04,\n",
       "         3.5684e-04, 2.8324e-02, 5.3706e-04, 9.2312e-02],\n",
       "        [4.8057e-09, 7.5274e-09, 2.1591e-08, 3.1908e-06, 9.4596e-05, 3.4158e-08,\n",
       "         2.0877e-13, 1.1433e-04, 1.2194e-05, 9.9978e-01],\n",
       "        [8.9296e-07, 2.6558e-06, 5.0715e-05, 5.5574e-03, 1.4873e-04, 2.9341e-02,\n",
       "         5.9105e-05, 8.1102e-08, 9.6391e-01, 9.3240e-04],\n",
       "        [2.2856e-09, 9.9979e-01, 8.6564e-07, 9.3686e-07, 8.2456e-06, 5.9427e-10,\n",
       "         4.4628e-09, 1.9890e-04, 3.6811e-07, 6.2944e-07],\n",
       "        [3.0302e-04, 3.2795e-05, 2.7070e-08, 2.6208e-02, 4.4701e-06, 9.6879e-01,\n",
       "         1.2411e-06, 1.4298e-05, 8.1725e-06, 4.6342e-03],\n",
       "        [1.0000e+00, 5.2211e-15, 1.1280e-07, 1.3188e-12, 2.2839e-13, 1.6392e-09,\n",
       "         6.7991e-07, 5.2268e-12, 1.0958e-08, 6.1403e-11],\n",
       "        [3.9533e-04, 1.0897e-03, 8.2470e-04, 8.6270e-01, 1.0327e-07, 1.3972e-05,\n",
       "         9.3628e-09, 9.3447e-02, 4.4563e-03, 3.7070e-02],\n",
       "        [6.3010e-08, 9.9959e-01, 5.9366e-05, 2.5266e-07, 3.3129e-04, 1.2818e-08,\n",
       "         2.0532e-06, 8.1386e-06, 1.0645e-05, 4.0009e-07],\n",
       "        [1.9699e-05, 1.5580e-08, 5.0511e-06, 1.2863e-03, 5.7861e-11, 9.9432e-01,\n",
       "         6.3773e-04, 9.5822e-11, 3.7293e-03, 6.9064e-08],\n",
       "        [1.7396e-04, 1.6203e-05, 9.9403e-03, 1.5330e-04, 8.7404e-01, 1.6410e-02,\n",
       "         5.1346e-02, 4.8213e-04, 8.2072e-03, 3.9234e-02],\n",
       "        [3.6661e-05, 1.1269e-04, 9.5105e-01, 2.9293e-02, 6.6514e-03, 3.3473e-06,\n",
       "         6.0592e-05, 1.2357e-02, 4.1769e-05, 3.9272e-04],\n",
       "        [9.3180e-01, 8.7521e-04, 5.0101e-02, 3.9159e-05, 5.6221e-03, 5.2908e-05,\n",
       "         1.3482e-03, 4.9160e-03, 5.6080e-04, 4.6799e-03]],\n",
       "       grad_fn=<SoftmaxBackward0>)"
      ]
     },
     "execution_count": 17,
     "metadata": {},
     "output_type": "execute_result"
    }
   ],
   "source": [
    "output_probs"
   ]
  },
  {
   "cell_type": "code",
   "execution_count": 18,
   "id": "d30bc063-1540-4d17-8ef2-b6d349530772",
   "metadata": {},
   "outputs": [
    {
     "data": {
      "text/plain": [
       "0.9814327485380117"
      ]
     },
     "execution_count": 18,
     "metadata": {},
     "output_type": "execute_result"
    }
   ],
   "source": [
    "roc_auc_score(test_labels, output_probs.detach(), multi_class='ovr')"
   ]
  },
  {
   "cell_type": "code",
   "execution_count": 19,
   "id": "7f7174ab-666c-4205-a0e8-2f499d834d25",
   "metadata": {},
   "outputs": [],
   "source": [
    "from xai.evaluation_metrics.performance.classification_metrics import calculate_accuracy_metrics"
   ]
  },
  {
   "cell_type": "code",
   "execution_count": 20,
   "id": "78ce4c43-1a33-42df-84c0-c6614e266960",
   "metadata": {},
   "outputs": [
    {
     "data": {
      "text/plain": [
       "{'accuracy': 0.9, 'f1': 0.9, 'auc': 0.9814327485380117}"
      ]
     },
     "execution_count": 20,
     "metadata": {},
     "output_type": "execute_result"
    }
   ],
   "source": [
    "calculate_accuracy_metrics(test_labels, predicted_classes, output_probs)"
   ]
  },
  {
   "cell_type": "code",
   "execution_count": null,
   "id": "875c3f66-f00e-4a84-b132-f412bd70cfc8",
   "metadata": {},
   "outputs": [],
   "source": []
  }
 ],
 "metadata": {
  "kernelspec": {
   "display_name": "Python 3 (ipykernel)",
   "language": "python",
   "name": "python3"
  },
  "language_info": {
   "codemirror_mode": {
    "name": "ipython",
    "version": 3
   },
   "file_extension": ".py",
   "mimetype": "text/x-python",
   "name": "python",
   "nbconvert_exporter": "python",
   "pygments_lexer": "ipython3",
   "version": "3.11.5"
  }
 },
 "nbformat": 4,
 "nbformat_minor": 5
}
